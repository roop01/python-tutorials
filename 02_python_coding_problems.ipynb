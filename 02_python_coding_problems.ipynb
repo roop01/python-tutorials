{
  "nbformat": 4,
  "nbformat_minor": 0,
  "metadata": {
    "colab": {
      "provenance": [],
      "authorship_tag": "ABX9TyPC7FiLosHvlTv8Rgz9XMkj",
      "include_colab_link": true
    },
    "kernelspec": {
      "name": "python3",
      "display_name": "Python 3"
    },
    "language_info": {
      "name": "python"
    }
  },
  "cells": [
    {
      "cell_type": "markdown",
      "metadata": {
        "id": "view-in-github",
        "colab_type": "text"
      },
      "source": [
        "<a href=\"https://colab.research.google.com/github/roop01/python-tutorials/blob/main/02_python_coding_problems.ipynb\" target=\"_parent\"><img src=\"https://colab.research.google.com/assets/colab-badge.svg\" alt=\"Open In Colab\"/></a>"
      ]
    },
    {
      "cell_type": "markdown",
      "source": [
        "**Problem 1:**\n",
        "\n",
        "Write a Python program to generate the next 15 leap years starting from a given year. Populate the leap years into a list and display the list.\n"
      ],
      "metadata": {
        "id": "yci9eUAgOAan"
      }
    },
    {
      "cell_type": "code",
      "execution_count": 1,
      "metadata": {
        "colab": {
          "base_uri": "https://localhost:8080/"
        },
        "id": "ShIA1aH7N669",
        "outputId": "ca3982d3-a34c-4428-b2ec-5e8030d70548"
      },
      "outputs": [
        {
          "output_type": "stream",
          "name": "stdout",
          "text": [
            "[2000, 2004, 2008, 2012, 2016, 2020, 2024, 2028, 2032, 2036, 2040, 2044, 2048, 2052, 2056]\n"
          ]
        }
      ],
      "source": [
        "def leap_years(year):\n",
        "    count=0\n",
        "    list_of_leap_years=[]\n",
        "    while(count<15):\n",
        "        if (( year%400 == 0)or (( year%4 == 0 ) and ( year%100 != 0))):\n",
        "            list_of_leap_years.append(year)\n",
        "            count+=1\n",
        "        year += 1\n",
        "    return list_of_leap_years\n",
        "list_of_leap_years=leap_years(2000)\n",
        "print(list_of_leap_years)"
      ]
    },
    {
      "cell_type": "markdown",
      "source": [
        "**Problem 2**\n",
        "\n",
        "The road transport corporation (RTC) of a city wants to know whether a particular bus-route is running on profit or loss.\n",
        "\n",
        "Assume that the following information are given:\n",
        "\n",
        "1. Price per litre of fuel = 70\n",
        "2. Mileage of the bus in km/litre of fuel = 10\n",
        "3. Price(Rs) per ticket = 80\n",
        "4. The bus runs on multiple routes having different distance in kms and number of passengers.\n",
        "\n",
        "Write a function to calculate and return the profit earned (Rs) in each route. Return -1 in case of loss."
      ],
      "metadata": {
        "id": "kG9yDJfAQ3Ty"
      }
    },
    {
      "cell_type": "code",
      "source": [
        "def calculate_profit(distance,no_of_passengers):\n",
        "    fuel = 70\n",
        "    milage = 10\n",
        "    ticket = 80\n",
        "    profit = 0\n",
        "    total_sale_ticket = 80*no_of_passengers\n",
        "    total_expediture = 7*distance\n",
        "    profit = total_sale_ticket - total_expediture\n",
        "    return profit\n",
        "profit = calculate_profit(20,50)\n",
        "print(profit)"
      ],
      "metadata": {
        "colab": {
          "base_uri": "https://localhost:8080/"
        },
        "id": "w8TcesNcQ__k",
        "outputId": "a6d91967-8e10-4737-89f1-9866eac4b197"
      },
      "execution_count": 3,
      "outputs": [
        {
          "output_type": "stream",
          "name": "stdout",
          "text": [
            "3860\n"
          ]
        }
      ]
    },
    {
      "cell_type": "markdown",
      "source": [
        "**Problem 3**\n",
        "\n",
        "Given a string containing uppercase characters (A-Z), compress the string using Run Length encoding. Repetition of character has to be replaced by storing the length of that run.\n",
        "\n",
        "Write a python function which performs the run length encoding for a given String and returns the run length encoded String.\n",
        "Provide different String values and test your program\n",
        "\n",
        "    Sample Input            Expected Output\n",
        "\n",
        "    AAAABBBBCCCCCCCC           4A4B8C\n",
        "    AABCCA                     2A1B2C1A"
      ],
      "metadata": {
        "id": "1ZXqXm5CTMmC"
      }
    },
    {
      "cell_type": "code",
      "source": [
        "def encode(message):\n",
        "  c=1\n",
        "  res = \"\"\n",
        "  for i in range (len(message)-1):\n",
        "    if(message[i]==message[i+1]):\n",
        "      c+=1\n",
        "    else:\n",
        "      res += str(c)+message[i]\n",
        "      c=1\n",
        "  return res+str(c)+message[-1]\n",
        "\n",
        "encoded_message=encode(\"ABBBBCCCCCCCCAB\")\n",
        "print(encoded_message)"
      ],
      "metadata": {
        "colab": {
          "base_uri": "https://localhost:8080/"
        },
        "id": "2foYD_ErTTTR",
        "outputId": "ae03dfa0-da18-4343-b0a9-e04bfc82d40f"
      },
      "execution_count": 4,
      "outputs": [
        {
          "output_type": "stream",
          "name": "stdout",
          "text": [
            "1A4B8C1A1B\n"
          ]
        }
      ]
    },
    {
      "cell_type": "markdown",
      "source": [
        "**Problem 4**\n",
        "\n",
        "Write a function, check_palindrome() to check whether the given string is a palindrome or not. The function should return true if it is a palindrome else it should return false.\n",
        "\n",
        "Note: Initialize the string with various values and test your program. Assume that all the letters in the given string are all of the same case. Example: MAN, civic, WOW etc.\n",
        "\"\"\""
      ],
      "metadata": {
        "id": "bg-Kkl-CjVwX"
      }
    },
    {
      "cell_type": "code",
      "source": [
        "def check_palindrome(word):\n",
        "    a1 = word.lower()\n",
        "    a2 = word[::-1]\n",
        "\n",
        "    if a1==a2:\n",
        "        return True\n",
        "    else:\n",
        "        return False\n",
        "\n",
        "status=check_palindrome(\"malayalam\")\n",
        "if(status):\n",
        "    print(\"word is palindrome\")\n",
        "else:\n",
        "    print(\"word is not palindrome\")\n",
        "\n"
      ],
      "metadata": {
        "colab": {
          "base_uri": "https://localhost:8080/"
        },
        "id": "WXdcbzEzjVfJ",
        "outputId": "1767be72-f0f0-484d-e4b4-351a12dfc618"
      },
      "execution_count": 5,
      "outputs": [
        {
          "output_type": "stream",
          "name": "stdout",
          "text": [
            "word is palindrome\n"
          ]
        }
      ]
    },
    {
      "cell_type": "markdown",
      "source": [
        "**Problem 5**\n",
        "\n",
        "Care hospital wants to know the medical speciality visited by the maximum number of patients.\n",
        "\n",
        "Assume that the patient id of the patient along with the medical speciality visited by the patient is stored in a list. The details of the medical specialities are stored in a dictionary as follows:\n",
        "\n",
        "    {\"P\":\"Pediatrics\", \"O\":\"Orthopedics\",\"E\":\"ENT}\n",
        "\n",
        "Write a function to find the medical speciality visited by the maximum number of patients and return the name of the speciality.\n",
        "\n",
        "Note: Assume that there is always only one medical speciality which is visited by maximum number of patients.\n",
        "\n",
        "Perform case sensitive string comparison wherever necessary.\n",
        "\n",
        "    Sample Input                                                Expected Output\n",
        "\n",
        "    [101,P,102,O,302,P,305,P]                                     Pediatrics\n",
        "\n",
        "    [101,O,102,O,302,P,305,E,401,O,656,O]                         Orthopedics\n",
        "\n",
        "    [101,O,102,E,302,P,305,P,401,E,656,O,987,E]                    ENT"
      ],
      "metadata": {
        "id": "U2_ezJrbki4G"
      }
    },
    {
      "cell_type": "code",
      "source": [
        "def medical_speciality_visits(patient_medical_list, medical_speciality_list):\n",
        "    count = 0\n",
        "    o = patient_medical_list.count('O')\n",
        "    p = patient_medical_list.count('P')\n",
        "    e = patient_medical_list.count('E')\n",
        "\n",
        "    s = [p,o,e]\n",
        "    m = max(s)\n",
        "    speciality=None\n",
        "    if(m==p):\n",
        "        speciality=medical_speciality[\"P\"]\n",
        "    elif(m==o):\n",
        "        speciality=medical_speciality[\"O\"]\n",
        "    else:\n",
        "        speciality=medical_speciality[\"E\"]\n",
        "\n",
        "    print(f\"Medical Speciality: {speciality} is visited by {m} patients.\")\n",
        "\n",
        "patient_medical_speciality_list=[301,'P',302, 'P' ,305, 'P' ,401, 'E' ,656, 'E']\n",
        "medical_speciality={\"P\":\"Pediatrics\",\"O\":\"Orthopedics\",\"E\":\"ENT\"}\n",
        "medical_speciality_visits(patient_medical_speciality_list,medical_speciality)\n",
        "\n",
        ""
      ],
      "metadata": {
        "colab": {
          "base_uri": "https://localhost:8080/"
        },
        "id": "ZEBTszYQkzy-",
        "outputId": "02120951-0b9d-4417-d181-e946925b4f2c"
      },
      "execution_count": 9,
      "outputs": [
        {
          "output_type": "stream",
          "name": "stdout",
          "text": [
            "Medical Speciality: Pediatrics is visited by 3 patients.\n"
          ]
        }
      ]
    },
    {
      "cell_type": "markdown",
      "source": [
        "**Problem 6**\n",
        "\n",
        "Write a python program to display all the common characters between two strings. Return -1 if there are no matching characters.\n",
        "\n",
        "Note: Ignore blank spaces if there are any. Perform case sensitive string comparison wherever necessary.\n",
        "\n",
        "Sample Input                     \n",
        "\"I like Python\"                       \n",
        "\"Java is a very popular language\"   \n",
        "\n",
        "Expected output\n",
        " lieyon"
      ],
      "metadata": {
        "id": "Amq9lqBQqq63"
      }
    },
    {
      "cell_type": "code",
      "source": [
        "def find_common_chars(s1, s2):\n",
        "    s1 = s1.strip().replace(\" \",\"\")\n",
        "    s2 = s2.strip().replace(\" \",\"\")\n",
        "\n",
        "    res=\"\"\n",
        "\n",
        "    for i in s1:\n",
        "        if i in s2:\n",
        "          if i not in res:\n",
        "            res+=i\n",
        "\n",
        "\n",
        "    if len(res):\n",
        "        return res\n",
        "    else:\n",
        "        return -1\n",
        "\n",
        "common_chars=find_common_chars(\"I like Python\",\"Java is a very popular language\")\n",
        "print(common_chars)\n",
        ""
      ],
      "metadata": {
        "colab": {
          "base_uri": "https://localhost:8080/"
        },
        "id": "1KvOWD7rq7kj",
        "outputId": "9122caa0-c7d0-4263-84a9-8e0d91811a58"
      },
      "execution_count": 14,
      "outputs": [
        {
          "output_type": "stream",
          "name": "stdout",
          "text": [
            "lieyon\n"
          ]
        }
      ]
    },
    {
      "cell_type": "markdown",
      "source": [
        "**Problem 7**\n",
        "\n",
        "Write a python function, find_pairs_of_numbers() which accepts a list of positive integers with no repetitions and returns count of pairs of numbers in the list that adds up to n.\n",
        "\n",
        "The function should return 0, if no such pairs are found in the list.\n",
        "\n",
        "Sample Input                            Expected Output\n",
        "\n",
        "[1, 2, 7, 4, 5, 6, 0, 3], 6                  3\n",
        "\n",
        "[3, 4, 1, 8, 5, 9, 0, 6], 9                  4"
      ],
      "metadata": {
        "id": "CRJiBXoxuCyE"
      }
    },
    {
      "cell_type": "code",
      "source": [
        "def find_pairs_of_numbers(num_list, n):\n",
        "    count=0\n",
        "    list1=[]\n",
        "    for i in range(len(num_list)):\n",
        "       if num_list[i] > n:\n",
        "          continue\n",
        "       if (n-num_list[i] != num_list[i]) and (n-num_list[i] in num_list):\n",
        "          if (num_list[i],n-num_list[i]) not in list1 and (n-num_list[i],num_list[i]) not in list1:\n",
        "            list1.append((num_list[i],n-num_list[i]))\n",
        "            count +=1\n",
        "    print(list1)\n",
        "    print(len(list1))\n",
        "\n",
        "num_list=[1, 2, 7, 4, 5, 6, 0, 3]\n",
        "n=6\n",
        "find_pairs_of_numbers(num_list,n)\n",
        "\n"
      ],
      "metadata": {
        "colab": {
          "base_uri": "https://localhost:8080/"
        },
        "id": "GGnyJZd4uJ4i",
        "outputId": "d1cf2ea4-dc8f-4318-fd06-a4700d8fe484"
      },
      "execution_count": 20,
      "outputs": [
        {
          "output_type": "stream",
          "name": "stdout",
          "text": [
            "[(1, 5), (2, 4), (6, 0)]\n",
            "3\n",
            "None\n"
          ]
        }
      ]
    },
    {
      "cell_type": "markdown",
      "source": [
        "**Problem 8**\n",
        "\n",
        "\n",
        "A teacher is in the process of generating few reports based on the marks scored by the students of her class in a project based assessment.\n",
        "Assume that the marks of her 10 students are available in a tuple. The marks are out of 25.\n",
        "\n",
        "Write a python program to implement the following functions:\n",
        "1. find_more_than_average(): Find and return the percentage of students who have scored more than the average mark of the class.\n",
        "2. generate_frequency(): Find how many students have scored the same marks. For example, how many have scored 0, how many have scored 1, how many have scored 3….how many have scored 25. The result should be populated in a list and returned.\n",
        "3. sort_marks(): Sort the marks in the increasing order from 0 to 25. The sorted values should be populated in a list and returned.\n",
        "\n",
        "Sample Input:\n",
        "\n",
        "list_of_marks = (12,18,25,24,2,5,18,20,20,21)\n",
        "\n",
        "Expected Output-\n",
        "\n",
        "70.0\n",
        "\n",
        "[0, 0, 1, 0, 0, 1, 0, 0, 0, 0, 0, 0, 1, 0, 0, 0, 0, 0, 2, 0, 2, 1, 0, 0, 1, 1]\n",
        "\n",
        "[2, 5, 12, 18, 18, 20, 20, 21, 24, 25]\n"
      ],
      "metadata": {
        "id": "v9yxuvpozIP_"
      }
    },
    {
      "cell_type": "code",
      "source": [
        "def find_more_than_average(marks):\n",
        "    count=0\n",
        "    avg = sum(marks)/len(marks)\n",
        "    for i in marks:\n",
        "      if i > avg:\n",
        "          count+=1\n",
        "\n",
        "    percentage = count*100/len(marks)\n",
        "    return percentage\n",
        "\n",
        "def generate_frequency(marks):\n",
        "    list_freq=[]\n",
        "    for i in range(26):\n",
        "      list_freq.append(marks.count(i))\n",
        "    return list_freq\n",
        "\n",
        "def sort_marks(marks):\n",
        "    l=list(marks)\n",
        "    l.sort()\n",
        "    return l\n",
        "\n",
        "marks = (12,18,25,24,2,5,18,20,20,21)\n",
        "print(find_more_than_average(marks))\n",
        "print(generate_frequency(marks))\n",
        "print(sort_marks(marks))\n",
        "\n"
      ],
      "metadata": {
        "colab": {
          "base_uri": "https://localhost:8080/"
        },
        "id": "hj99MTpfzsAI",
        "outputId": "51d76e03-6404-424e-f8cd-39fefa63e82b"
      },
      "execution_count": 26,
      "outputs": [
        {
          "output_type": "stream",
          "name": "stdout",
          "text": [
            "70.0\n",
            "[0, 0, 1, 0, 0, 1, 0, 0, 0, 0, 0, 0, 1, 0, 0, 0, 0, 0, 2, 0, 2, 1, 0, 0, 1, 1]\n",
            "[2, 5, 12, 18, 18, 20, 20, 21, 24, 25]\n"
          ]
        }
      ]
    },
    {
      "cell_type": "markdown",
      "source": [
        "**Problem 9**\n",
        "\n",
        "Write a python function, create_largest_number(), which accepts a list of numbers and returns the largest number possible by concatenating the list of numbers.\n",
        "\n",
        "Note: Assume that all the numbers are two digit numbers.\n",
        "\n",
        "    Sample Input       Expected Output\n",
        "\n",
        "    23,34,55              553423"
      ],
      "metadata": {
        "id": "izFlG2yl30Xb"
      }
    },
    {
      "cell_type": "code",
      "source": [
        "def create_largest_number(num_list):\n",
        "    num_list.sort(reverse=True)\n",
        "    res=\"\"\n",
        "    for i in num_list:\n",
        "      res+=str(i)\n",
        "    return res\n",
        "\n",
        "number_list=[23,45,67]\n",
        "largest_number=create_largest_number(number_list)\n",
        "print(largest_number)"
      ],
      "metadata": {
        "colab": {
          "base_uri": "https://localhost:8080/"
        },
        "id": "WBVvbyll39b3",
        "outputId": "a69e0f3b-c3fc-4118-9512-2a646c0308dc"
      },
      "execution_count": 32,
      "outputs": [
        {
          "output_type": "stream",
          "name": "stdout",
          "text": [
            "674523\n"
          ]
        }
      ]
    },
    {
      "cell_type": "markdown",
      "source": [
        "**Problem 10**\n",
        "\n",
        "A teacher is conducting a camp for a group of five children. Based on their performance and behavior during the camp, the teacher rewards them with chocolates.\n",
        "\n",
        "Write a Python function to\n",
        "1. Find the total number of chocolates received by all the children put together. Assume that each child is identified by an id and it is stored in a tuple and the number of chocolates given to each child is stored in a list.\n",
        "\n",
        "2. The teacher also rewards a child with few extra chocolates for his/her best conduct during the camp.\n",
        "If the number of extra chocolates is less than 1, an error message \"Extra chocolates is less than 1\", should be displayed.\n",
        "\n",
        "If the given child Id is invalid, an error message \"Child id is invalid\" should be displayed. Otherwise, the extra chocolates provided for the child must be added to his/her existing number of chocolates and display the list containing the total number of chocolates received by each child.\n",
        "\n"
      ],
      "metadata": {
        "id": "28rBrG3J6Dht"
      }
    },
    {
      "cell_type": "code",
      "source": [
        "child_id=(10,20,30,40,50)\n",
        "chocolates_received=[12,5,3,4,6]\n",
        "\n",
        "def total_choc():\n",
        "    return sum(chocolates_received)\n",
        "\n",
        "def reward_child(id,extra_choco):\n",
        "\n",
        "    if extra_choco<1:\n",
        "        print(\"Extra chocolates is less than 1\")\n",
        "        return\n",
        "    if id in child_id:\n",
        "        chocolates_received[child_id.index(id)] += extra_choco\n",
        "        print(\"Updated Chocolate List: \",chocolates_received)\n",
        "    else:\n",
        "      print(\"Child id is invalid\")\n",
        "    return\n",
        "\n",
        "print(total_choc())\n",
        "reward_child(20, 4)"
      ],
      "metadata": {
        "colab": {
          "base_uri": "https://localhost:8080/"
        },
        "id": "qEvSoT4b6Xs_",
        "outputId": "42d52d8b-e1f4-41a3-ceda-317df9e4d81a"
      },
      "execution_count": 34,
      "outputs": [
        {
          "output_type": "stream",
          "name": "stdout",
          "text": [
            "30\n",
            "Updated Chocolate List:  [12, 9, 3, 4, 6]\n"
          ]
        }
      ]
    },
    {
      "cell_type": "markdown",
      "source": [
        "**Problem 11**\n",
        "\n",
        "Write a python function, check_double(number) which accepts a whole number and returns True if it satisfies the given conditions.\n",
        "\n",
        "1. The number and its double should have exactly the same number of digits.\n",
        "2. Both the numbers should have the same digits ,but in different order.\n",
        "Otherwise it should return False.\n",
        "\n",
        "\n",
        "Example: If the number is 125874 and its double, 251748, contain exactly the same digits, but in a different order."
      ],
      "metadata": {
        "id": "Hz05uPgF-a4S"
      }
    },
    {
      "cell_type": "code",
      "source": [
        "def check_double(num):\n",
        "    double_num=num*2\n",
        "    num1 = str(num)\n",
        "    num2= str(double_num)\n",
        "    Flag = False\n",
        "\n",
        "    if len(num1) != len(num2):\n",
        "        return False\n",
        "\n",
        "    for i in num1:\n",
        "        if i in num2:\n",
        "            Flag = True\n",
        "    return Flag\n",
        "\n",
        "\n",
        "if check_double(125874):\n",
        "    print(\"Number is Double\")\n",
        "else:\n",
        "    print(\"Number is Not Double\")\n"
      ],
      "metadata": {
        "colab": {
          "base_uri": "https://localhost:8080/"
        },
        "id": "C6t-NtbzKjPd",
        "outputId": "93794d25-c08a-4b8e-974f-e46cbc25a9d8"
      },
      "execution_count": 50,
      "outputs": [
        {
          "output_type": "stream",
          "name": "stdout",
          "text": [
            "Number is Double\n"
          ]
        }
      ]
    },
    {
      "cell_type": "markdown",
      "source": [
        "**Problem 12**\n",
        "\n",
        "Place Order: This method accepts the item followed by the quantity required by a customer in the format item1, quantity_required, item2, quantity_required etc."
      ],
      "metadata": {
        "id": "g4_Sg-F-Q335"
      }
    },
    {
      "cell_type": "code",
      "source": [
        "menu=('Veg Roll','Noodles','Fried Rice','Soup')\n",
        "quantity_available=[2,200,250,3]\n",
        "\n",
        "def place_order(*item_tuple):\n",
        "    item_name=[]\n",
        "    quantity_requested=[]\n",
        "    for i in range(1,len(item_tuple)+1):\n",
        "        if(int(i%2)==0):\n",
        "            quantity_requested.append(item_tuple[i-1])\n",
        "        else:\n",
        "            item_name.append(item_tuple[i-1])\n",
        "\n",
        "    for i in range(0,len(item_name)):\n",
        "        check=check_quantity_available(item_name[i],quantity_requested[i])\n",
        "        if(check==True):\n",
        "            print(\"{} is available\".format(item_name[i]))\n",
        "        elif(check==False):\n",
        "            print(\"{} stock is over\".format(item_name[i]))\n",
        "        elif(check==-1):\n",
        "            print(\"{} is not available\".format(item_name[i]))\n",
        "\n",
        "'''This method accepts the item requested by the customer in the quantity_available list, and the requested quantity of the item.'''\n",
        "def check_quantity_available(item,quantity_requested):\n",
        "    if(item in menu):\n",
        "        index_menu=menu.index(item)\n",
        "        quantity=quantity_available[index_menu]\n",
        "        if(quantity>=quantity_requested):\n",
        "            quantity_available[index_menu]-=quantity_requested\n",
        "            return True\n",
        "        else:\n",
        "            return False\n",
        "    else:\n",
        "        return -1\n",
        "\n",
        "place_order(\"Veg Roll\",2,\"Noodles\",2)\n",
        "place_order(\"Soup\",1,\"Veg Roll\", 2, \"Fried Rice\",1)"
      ],
      "metadata": {
        "colab": {
          "base_uri": "https://localhost:8080/"
        },
        "id": "S1rXpTKVLHs5",
        "outputId": "90caa42e-b1f4-4725-fe39-1e9c14e19bb5"
      },
      "execution_count": 60,
      "outputs": [
        {
          "output_type": "stream",
          "name": "stdout",
          "text": [
            "Veg Roll is available\n",
            "Noodles is available\n",
            "Soup is available\n",
            "Veg Roll stock is over\n",
            "Fried Rice is available\n"
          ]
        }
      ]
    },
    {
      "cell_type": "markdown",
      "source": [
        "**Problem 13**\n",
        "\n",
        "Write a recursive function, is_palindrome() to find out whether a string is a palindrome or not. The function should return true, if it is a palindrome. Else it should return false.\n",
        "\n",
        "Note- Perform case insensitive operations wherever necessary."
      ],
      "metadata": {
        "id": "F7itdnG5VC7c"
      }
    },
    {
      "cell_type": "code",
      "source": [
        "def is_palindrome(string):\n",
        "    string1=string.lower()\n",
        "    string2=string1[::-1]\n",
        "    if string1==string2:\n",
        "        return True\n",
        "    else:\n",
        "        return False\n",
        "\n",
        "if is_palindrome(\"Madam\"):\n",
        "    print(\"String is Palindrome\")\n",
        "else:\n",
        "    print(\"String is not Palindrome\")"
      ],
      "metadata": {
        "colab": {
          "base_uri": "https://localhost:8080/"
        },
        "id": "YxI7yWuRVHhf",
        "outputId": "d2cc3ac2-3a56-468a-cc68-14bc4d4396e1"
      },
      "execution_count": 63,
      "outputs": [
        {
          "output_type": "stream",
          "name": "stdout",
          "text": [
            "String is Palindrome\n"
          ]
        }
      ]
    }
  ]
}