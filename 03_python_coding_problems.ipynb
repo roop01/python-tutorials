{
  "nbformat": 4,
  "nbformat_minor": 0,
  "metadata": {
    "colab": {
      "provenance": [],
      "authorship_tag": "ABX9TyMxLbXprDz84s7jbYWRR+U9",
      "include_colab_link": true
    },
    "kernelspec": {
      "name": "python3",
      "display_name": "Python 3"
    },
    "language_info": {
      "name": "python"
    }
  },
  "cells": [
    {
      "cell_type": "markdown",
      "metadata": {
        "id": "view-in-github",
        "colab_type": "text"
      },
      "source": [
        "<a href=\"https://colab.research.google.com/github/roop01/python-tutorials/blob/main/03_python_coding_problems.ipynb\" target=\"_parent\"><img src=\"https://colab.research.google.com/assets/colab-badge.svg\" alt=\"Open In Colab\"/></a>"
      ]
    },
    {
      "cell_type": "markdown",
      "source": [
        "# **Python Programming Excercises**\n",
        "\n",
        "**Problem 1**\n",
        "\n",
        "A 10-substring of a number is a substring of its digits that sum up to 10.\n",
        "\n",
        "For example, the 10-substrings of the number 3523014 are:\n",
        "3523014, 3523014, 3523014, 3523014\n",
        "\n",
        "Write a python function, find_ten_substring(num_str) which accepts a string and returns the list of 10-substrings of that string.\n",
        "\n",
        "Handle the possible errors in the code written inside the function.\n",
        "\n",
        "    Sample Input                  Expected Output\n",
        "\n",
        "    '3523014'               ['5230', '23014', '523', '352']"
      ],
      "metadata": {
        "id": "JP2ZNDJX2yu8"
      }
    },
    {
      "cell_type": "code",
      "execution_count": 10,
      "metadata": {
        "colab": {
          "base_uri": "https://localhost:8080/"
        },
        "id": "pKQwHrT6WEor",
        "outputId": "405260d2-4db4-4d93-d293-e86c83eb977f"
      },
      "outputs": [
        {
          "output_type": "stream",
          "name": "stdout",
          "text": [
            "The number is: 3523014\n",
            "['5230', '352', '23014', '523']\n"
          ]
        }
      ],
      "source": [
        "def find_ten_substring(num_str):\n",
        "    lst=[]\n",
        "    for i in range(len(num_str)):\n",
        "        n1=int(num_str[i])\n",
        "        m=num_str[i]\n",
        "        for j in range(i+1,len(num_str)):\n",
        "            n2=int(num_str[j])\n",
        "            n1+=n2\n",
        "            m+=num_str[j]\n",
        "            if n1==10:\n",
        "                lst.append(m)\n",
        "\n",
        "    return list(set(lst))\n",
        "\n",
        "num_str=\"3523014\"\n",
        "print(\"The number is:\",num_str)\n",
        "result_list=find_ten_substring(num_str)\n",
        "print(result_list)\n"
      ]
    },
    {
      "cell_type": "markdown",
      "source": [
        "**Problem 2**\n",
        "\n",
        "Given a number n, write a program to find the sum of the largest prime factors of each of nine consecutive numbers starting from n.\n",
        "\n",
        "g(n) = f(n) + f(n+1) + f(n+2) + f(n+3) + f(n+4) + f(n+5) + f(n+6) + f(n+7) + f(n+8)\n",
        "\n",
        "where, g(n) is the sum and f(n) is the largest prime factor of n\n",
        "For example,\n",
        "\n",
        "g(10)=f(10)+f(11)+f(12)+f(13)+f(14)+f(15)+f(16)+f(17)+f(18)\n",
        "        =5 + 11 + 3 + 13 + 7 + 5 + 2 + 17 + 3\n",
        "        =66"
      ],
      "metadata": {
        "id": "XjyNV88L8mEa"
      }
    },
    {
      "cell_type": "code",
      "source": [
        "def find_factors(num):\n",
        "    lst=[]\n",
        "    for i in range(2,num+1):\n",
        "        if num%i==0:\n",
        "            lst.append(i)\n",
        "    return lst\n",
        "\n",
        "def find_largest_prime_factor(num_list):\n",
        "      lst=[]\n",
        "      for i in num_list:\n",
        "          flag=True\n",
        "          for j in range(2, (i//2)+1):\n",
        "              if i%j==0:\n",
        "                  flag=False\n",
        "                  break\n",
        "          if flag==True:\n",
        "              lst.append(i)\n",
        "\n",
        "      return max(lst)\n",
        "\n",
        "def find_f(num):\n",
        "    f=find_factors(num)\n",
        "    l=find_largest_prime_factor(f)\n",
        "    return l\n",
        "\n",
        "def get_sum(n):\n",
        "    sum=0\n",
        "    for i in range(n,n+9):\n",
        "        sum+=find_f(i)\n",
        "    return sum\n",
        "\n",
        "print(get_sum(10))"
      ],
      "metadata": {
        "colab": {
          "base_uri": "https://localhost:8080/"
        },
        "id": "zDyW9h30l97L",
        "outputId": "94b956e0-5732-4b87-eb01-1c1c9efa9ee4"
      },
      "execution_count": 11,
      "outputs": [
        {
          "output_type": "stream",
          "name": "stdout",
          "text": [
            "66\n"
          ]
        }
      ]
    },
    {
      "cell_type": "markdown",
      "source": [
        "**Problem 3**\n",
        "\n",
        "Write a python function find_smallest_number() which accepts a number n and returns the smallest number having n divisors.\n",
        "\n",
        "Handle the possible errors in the code written inside the function.\n",
        "\n",
        "    Sample Input          Expected Output\n",
        "\n",
        "    16                        120"
      ],
      "metadata": {
        "id": "W779kmAetrFL"
      }
    },
    {
      "cell_type": "code",
      "source": [
        "def find_smallest_number(num):\n",
        "    for i in range(1,num*10):\n",
        "        l=[]\n",
        "        for j in range(1,i+1):\n",
        "            if i%j==0:\n",
        "                l.append(j)\n",
        "        if len(l)==num:\n",
        "            return i\n",
        "\n",
        "num=16\n",
        "print(\"The number of divisors :\",num)\n",
        "result=find_smallest_number(num)\n",
        "print(\"The smallest number having\",num,\" divisors:\",result)"
      ],
      "metadata": {
        "colab": {
          "base_uri": "https://localhost:8080/"
        },
        "id": "6HhK9qzBtu4j",
        "outputId": "c0650600-ec0b-4e19-e139-dbc1aa4694d6"
      },
      "execution_count": 12,
      "outputs": [
        {
          "output_type": "stream",
          "name": "stdout",
          "text": [
            "The number of divisors : 16\n",
            "The smallest number having 16  divisors: 120\n"
          ]
        }
      ]
    },
    {
      "cell_type": "markdown",
      "source": [
        "**Problem 4**\n",
        "\n",
        "Write a python function find_duplicates(), which accepts a list of numbers and returns another list containing all the duplicate values in the input list and the order should be same as in the input list.\n",
        "\n",
        "If there are no duplicate values, it should return an empty list.\n",
        "\n",
        "    Sample Input                                         Expected Output\n",
        "\n",
        "    [12,54,68,759,24,15,12,68,987,758,25,69]               [12, 68]"
      ],
      "metadata": {
        "id": "xjuFpRcdu1Q9"
      }
    },
    {
      "cell_type": "code",
      "source": [
        "def find_duplicates(num):\n",
        "    lst=[]\n",
        "    for i in num:\n",
        "        if num.count(i)>1:\n",
        "            if i not in lst:\n",
        "                lst.append(i)\n",
        "\n",
        "    return lst\n",
        "\n",
        "list_of_numbers=[12,54,68,759,24,15,12,68,987,758,25,69]\n",
        "list_of_duplicates=find_duplicates(list_of_numbers)\n",
        "print(list_of_duplicates)\n"
      ],
      "metadata": {
        "colab": {
          "base_uri": "https://localhost:8080/"
        },
        "id": "z7HO9mVxu-Sa",
        "outputId": "41cdeb0f-f5f1-4f6d-9601-9206e5c7103e"
      },
      "execution_count": 13,
      "outputs": [
        {
          "output_type": "stream",
          "name": "stdout",
          "text": [
            "[12, 68]\n"
          ]
        }
      ]
    },
    {
      "cell_type": "markdown",
      "source": [
        "\n",
        "**Problem 5**\n",
        "\n",
        "Write a python function, nearest_palindrome() which accepts a number and returns the nearest palindrome greater than the given number.\n",
        "\n",
        "    Sample Input           Expected Output\n",
        "\n",
        "    12300                     12321\n",
        "\n",
        "    12331                     12421"
      ],
      "metadata": {
        "id": "p49ch5x2wXX-"
      }
    },
    {
      "cell_type": "code",
      "source": [
        "def nearest_palindrome(number):\n",
        "    number+=1\n",
        "    while True:\n",
        "        s=str(number)[::-1]\n",
        "        if number==int(s):\n",
        "            return number\n",
        "        else:\n",
        "            number+=1\n",
        "number=74568\n",
        "print(nearest_palindrome(number))"
      ],
      "metadata": {
        "colab": {
          "base_uri": "https://localhost:8080/"
        },
        "id": "vHo6ZMOw1ZB9",
        "outputId": "f7287545-bf99-4565-8364-3d4246cb4f93"
      },
      "execution_count": 14,
      "outputs": [
        {
          "output_type": "stream",
          "name": "stdout",
          "text": [
            "74647\n"
          ]
        }
      ]
    },
    {
      "cell_type": "markdown",
      "source": [
        "**Problem 6**\n",
        "\n",
        "1. Consider sample data as follows: sample_data=range(1,11)\n",
        "\n",
        "2. Create two functions: odd() and even()\n",
        "\n",
        "    --> The function even() returns a list of all the even numbers from sample_data\n",
        "\n",
        "    --> The function odd() returns a list of all the odd numbers from sample_data\n",
        "\n",
        "3. Create a function sum_of_numbers() which will accept the sample data and/or a function.\n",
        "\n",
        "    --> If a function is not passed, the sum_of_numbers() should return the sum of all the numbers from sample_data\n",
        "\n",
        "    --> If a function is passed, the sum_of_numbers() should return the sum of numbers returned from the function passed."
      ],
      "metadata": {
        "id": "LDhXC9od369b"
      }
    },
    {
      "cell_type": "code",
      "source": [
        "def even(sample_data):\n",
        "    even_list=list(filter(lambda x:x%2==0,sample_data))\n",
        "    return even_list\n",
        "\n",
        "def odd(sample_data):\n",
        "    odd_list=list(filter(lambda x:x%2!=0,sample_data))\n",
        "    return odd_list\n",
        "\n",
        "def sum_of_numbers(sample_data, function=None):\n",
        "    if function==None:\n",
        "        return sum(sample_data)\n",
        "    else:\n",
        "        return sum(function(sample_data))\n",
        "\n",
        "sample_data=range(1,11)\n",
        "print(even(sample_data))\n",
        "print(odd(sample_data))\n",
        "print(sum_of_numbers(sample_data))\n",
        "print(sum_of_numbers(sample_data,even))\n",
        "print(sum_of_numbers(sample_data,odd))\n",
        ""
      ],
      "metadata": {
        "colab": {
          "base_uri": "https://localhost:8080/"
        },
        "id": "0HyEkecxwcWJ",
        "outputId": "a5c25418-c929-4a29-eced-82e60498a666"
      },
      "execution_count": 15,
      "outputs": [
        {
          "output_type": "stream",
          "name": "stdout",
          "text": [
            "[2, 4, 6, 8, 10]\n",
            "[1, 3, 5, 7, 9]\n",
            "55\n",
            "30\n",
            "25\n"
          ]
        }
      ]
    },
    {
      "cell_type": "markdown",
      "source": [
        "**Problem 7**\n",
        "\n",
        "Write a python function, encrypt_sentence() which accepts a message and encrypts it based on rules given below and returns the encrypted message.\n",
        "\n",
        "    Words at odd position -> Reverse It\n",
        "    Words at even position -> Rearrange the characters so that all consonants appear before the vowels and their order should not change\n",
        "\n",
        "Note: Assume that the sentence would begin with a word and there will be only a single space between the words.\n",
        "\n",
        "Perform case sensitive string operations wherever necessary.\n",
        "\n",
        "    Sample Input                                            Expected Output\n",
        "\n",
        "    the sun rises in the east                          eht snu sesir ni eht stea"
      ],
      "metadata": {
        "id": "l7xEiHIl7s4v"
      }
    },
    {
      "cell_type": "code",
      "source": [
        "def encrypt_sentence(sentence):\n",
        "    words=sentence.split(\" \")\n",
        "    w = \"\"\n",
        "    e_sen=[]\n",
        "\n",
        "    for i in range(len(words)):\n",
        "        if i%2==0:\n",
        "            w=words[i][::-1]\n",
        "        else:\n",
        "            v='aeiouAEIOU'\n",
        "            vow=\"\"\n",
        "            con=\"\"\n",
        "            for j in words[i]:\n",
        "                if j in v:\n",
        "                    vow+=j\n",
        "                else:\n",
        "                    con+=j\n",
        "            w=con+vow\n",
        "        e_sen.append(w)\n",
        "\n",
        "    return \" \".join(e_sen)\n",
        "\n",
        "sentence=\"The Sun risEs in the eAst\"\n",
        "print(encrypt_sentence(sentence))\n"
      ],
      "metadata": {
        "colab": {
          "base_uri": "https://localhost:8080/"
        },
        "id": "E_0zqDjK8B7Q",
        "outputId": "28033989-4b24-42d0-9acc-8a7597d6cff4"
      },
      "execution_count": 16,
      "outputs": [
        {
          "output_type": "stream",
          "name": "stdout",
          "text": [
            "ehT Snu sEsir ni eht steA\n"
          ]
        }
      ]
    },
    {
      "cell_type": "markdown",
      "source": [
        "**Problem 8**\n",
        "\n",
        "Write a python function, find_correct() which accepts a dictionary and returns a list as per the rules mentioned below.\n",
        "\n",
        "1. The input dictionary will contain correct spelling of a word as key and the spelling provided by a contestant as the value.\n",
        "2. The function should identify the degree of correctness as mentioned below:\n",
        "\n",
        "      **CORRECT**, if it is an exact match\n",
        "\n",
        "      **ALMOST CORRECT**, if no more than 2 letters are wrong\n",
        "      \n",
        "      **WRONG**, if more than 2 letters are wrong or if length (correct spelling versus spelling given by contestant) mismatches.\n",
        "\n",
        "3. Return a list containing the number of CORRECT answers, number of ALMOST CORRECT answers and number of WRONG answers.\n",
        "\n",
        "Assume that the words contain only uppercase letters and the maximum word length is 10.\n",
        "\n",
        "{\"THEIR\": \"THEIR\", \"BUSINESS\": \"BISINESS\",\"WINDOWS\":\"WINDMILL\",\"WERE\":\"WEAR\",\"SAMPLE\":\"SAMPLE\"}  \n",
        "\n",
        " [2, 2, 1]\n"
      ],
      "metadata": {
        "id": "5ehfP6_UBngO"
      }
    },
    {
      "cell_type": "code",
      "source": [
        "def find_correct(dict):\n",
        "\n",
        "    correct=0\n",
        "    almost_correct=0\n",
        "    wrong=0\n",
        "\n",
        "    l=len(dict)\n",
        "    for i,j in dict.items():\n",
        "        count=0\n",
        "        if i==j:\n",
        "            correct+=1\n",
        "        elif len(i)!=len(j):\n",
        "            wrong+=1\n",
        "        else:\n",
        "            for k in range(len(i)):\n",
        "                if i[k]!=j[k]:\n",
        "                    count+=1\n",
        "            if count>2:\n",
        "                wrong+=1\n",
        "            else:\n",
        "                almost_correct+=1\n",
        "\n",
        "    return [correct,almost_correct,wrong]\n",
        "\n",
        "word_dict={\"THEIR\": \"THEIR\", \"BUSINESS\": \"BISINESS\",\"WINDOWS\":\"WINDMILL\",\"WERE\":\"WEAR\",\"SAMPLE\":\"SAMPLE\"}\n",
        "print(find_correct(word_dict))\n"
      ],
      "metadata": {
        "colab": {
          "base_uri": "https://localhost:8080/"
        },
        "id": "uIKlvIQaCmcO",
        "outputId": "16a12b10-afac-4386-aab0-7240d97b219d"
      },
      "execution_count": 17,
      "outputs": [
        {
          "output_type": "stream",
          "name": "stdout",
          "text": [
            "[2, 2, 1]\n"
          ]
        }
      ]
    },
    {
      "cell_type": "markdown",
      "source": [
        "**Problem 9**\n",
        "\n",
        "In a fair coin we have an equal chance (50%) of either getting a ‘head’ or ‘tail’.  \n",
        "\n",
        "That is if we toss the coin a large number of times we would observe head approximately 50% of the time.\n",
        "\n",
        "Write a program to implement a biased coin toss where the chance of getting a head is 70% (and tail 30%).\n",
        "\n",
        "That is if we invoke the program 1000 times we should see the head randomly approximately 700 times.\n"
      ],
      "metadata": {
        "id": "vSS7e8UGJDw_"
      }
    },
    {
      "cell_type": "code",
      "source": [
        "heads_count=[]\n",
        "tails_count=[]\n",
        "\n",
        "import random\n",
        "\n",
        "number_of_tossed=1000\n",
        "heads=int(number_of_tossed*70/100)\n",
        "tails=int(number_of_tossed*30/100)\n",
        "\n",
        "for i in range(number_of_tossed):\n",
        "    if(heads>0 and tails>0):\n",
        "        a=random.randrange(0,2)\n",
        "        if(a==0):\n",
        "            heads_count.append(0)\n",
        "            heads-=1\n",
        "        else:\n",
        "            tails_count.append(1)\n",
        "            tails-=1\n",
        "    elif(tails==0):\n",
        "        heads_count.append(0)\n",
        "        heads-=1\n",
        "    elif(heads==0):\n",
        "        tails_count.append(1)\n",
        "        tails-=1\n",
        "\n",
        "print( \" Number of total heads we get: {}\".format(len(heads_count)))\n",
        "print( \" Number of total tails we get:{}\".format(len(tails_count)))"
      ],
      "metadata": {
        "colab": {
          "base_uri": "https://localhost:8080/"
        },
        "id": "R8BEG9DBJf65",
        "outputId": "8d3bbd83-32fc-409a-8542-281ae954862a"
      },
      "execution_count": 18,
      "outputs": [
        {
          "output_type": "stream",
          "name": "stdout",
          "text": [
            " Number of total heads we get: 700\n",
            " Number of total tails we get:300\n"
          ]
        }
      ]
    },
    {
      "cell_type": "markdown",
      "source": [
        "**Problem 10**\n",
        "\n",
        "Write python function, sms_encoding() which accepts a sentence and converts it into an abbreviated sentence to be sent as SMS and returns the abbreviated sentence.\n",
        "\n",
        "Rules are as follows:\n",
        "\n",
        "  a. Spaces are to be retained as it is\n",
        "\n",
        "  b. Each word should be encoded separately\n",
        "\n",
        "      * If a word has only vowels then retain the word as is\n",
        "      * If a word has a consonant (at least 1) then retain only those consonants\n",
        "\n",
        "Note: Assume that the sentence would begin with a word and there will be only a single space between the words.\n",
        "\n",
        "\n",
        "    Sample Input                                       Expected Output\n",
        "\n",
        "    I love Python                                         I lv Pythn\n",
        "\n",
        "    MSD says I love cricket and tennis too                MSD sys I lv crckt nd tnns t\n",
        "\n",
        "    I will not repeat mistakes                            I wll nt rpt mstks"
      ],
      "metadata": {
        "id": "Kc11Oi2_KSdD"
      }
    },
    {
      "cell_type": "code",
      "source": [
        "def sms_encoding(sent):\n",
        "   words=sent.split(\" \")\n",
        "   vow='AEIOUaeiou'\n",
        "   e_sent=[]\n",
        "\n",
        "   for i in words:\n",
        "      s=\"\"\n",
        "      if len(i)==1:\n",
        "          e_sent.append(i)\n",
        "      else:\n",
        "        for j in i:\n",
        "           if j in vow:\n",
        "              pass\n",
        "           else:\n",
        "              s+=j\n",
        "\n",
        "        if s==\"\":\n",
        "           e_sent.append(i)\n",
        "        else:\n",
        "          e_sent.append(s)\n",
        "\n",
        "   return \" \".join(e_sent)\n",
        "\n",
        "sent=\"I will not repeat mistakes\"\n",
        "print(sms_encoding(sent))\n",
        "\n"
      ],
      "metadata": {
        "colab": {
          "base_uri": "https://localhost:8080/"
        },
        "id": "NCEKps9KKtsh",
        "outputId": "25d331c3-15e0-4be6-a587-988c07d2d002"
      },
      "execution_count": 19,
      "outputs": [
        {
          "output_type": "stream",
          "name": "stdout",
          "text": [
            "I wll nt rpt mstks\n"
          ]
        }
      ]
    },
    {
      "cell_type": "markdown",
      "source": [
        "**Problem 11**\n",
        "\n",
        "Write a python program that accepts a text and displays a string which contains the word with the largest frequency in the text and the frequency itself separated by a space.\n",
        "\n",
        "Rules:The word should have the largest frequency.\n",
        "\n",
        "In case multiple words have the same frequency, then choose the word that has the maximum length.\n",
        "\n",
        "Assumptions:The text has no special characters other than space.\n",
        "The text would begin with a word and there will be only a single space between the words.\n",
        "Perform case insensitive string comparisons wherever necessary.\n",
        "\n",
        "    Sample Input                                                                                                                Expected Output\n",
        "\n",
        "    \"Work like you do not need money love like you have never been hurt and dance like no one is watching\"                          like 3\n",
        "\n",
        "    \"Courage is not the absence of fear but rather the judgement that something else is more important than fear\"                    fear 2\n",
        "    \"\"\"\n"
      ],
      "metadata": {
        "id": "U3qUKPzjQQKm"
      }
    },
    {
      "cell_type": "code",
      "source": [
        "def max_frequency_word_counter(txt):\n",
        "    words=txt.lower().split(\" \")\n",
        "    output={}\n",
        "    word=''\n",
        "    freq=0\n",
        "    for i in words:\n",
        "        output[i]=words.count(i)\n",
        "\n",
        "    for i,j in output.items():\n",
        "        if j==max(output.values()) and len(i)>len(word):\n",
        "            word=i\n",
        "            freq=j\n",
        "\n",
        "    print(word,freq)\n",
        "\n",
        "txt=\"Courage is not the absence of fear but rather the judgement that something else is more important than fear\"\n",
        "max_frequency_word_counter(txt)\n",
        "\n"
      ],
      "metadata": {
        "colab": {
          "base_uri": "https://localhost:8080/"
        },
        "id": "GnYCao_ibRJ0",
        "outputId": "e0fd0da5-b6b4-41bb-cb50-ec57d7607ce9"
      },
      "execution_count": 20,
      "outputs": [
        {
          "output_type": "stream",
          "name": "stdout",
          "text": [
            "fear 2\n"
          ]
        }
      ]
    },
    {
      "cell_type": "markdown",
      "source": [
        "**Problem 12**\n",
        "\n",
        "Write a python function, check_anagram() which accepts two strings and returns-\n",
        "\n",
        "True, if one string is a special anagram of another string.\n",
        "Otherwise returns False.\n",
        "\n",
        "The two strings are considered to be a special anagram if they contain repeating characters but none of the characters repeat at the same position.\n",
        "\n",
        "The length of the strings should be the same.\n",
        "\n",
        "Note: Perform case insensitive comparison wherever applicable.\n",
        "\n",
        "    Sample Input                                                          Expected Output\n",
        "\n",
        "    eat, tea                                                                    True\n",
        "\n",
        "    backward,drawback                                                           False (Reason: character 'a' repeats at position 6, not an anagram)\n",
        "\n",
        "    Reductions,discounter                                                       True\n",
        "\n",
        "    About, table                                                                False"
      ],
      "metadata": {
        "id": "9XFM8kKIhM_A"
      }
    },
    {
      "cell_type": "code",
      "source": [
        "def check_anagram(str1, str2):\n",
        "\n",
        "    s1=str1.lower()\n",
        "    s2=str2.lower()\n",
        "\n",
        "    if len(s1)!=len(s1):\n",
        "        return False\n",
        "\n",
        "    for i in s1:\n",
        "        if s2.count(i) != s1.count(i):\n",
        "          return False\n",
        "\n",
        "    for i in range(len(s1)):\n",
        "        if s1[i] == s2[i]:\n",
        "          return False\n",
        "\n",
        "    return True\n",
        "\n",
        "print(check_anagram(\"About\",\"table\"))"
      ],
      "metadata": {
        "colab": {
          "base_uri": "https://localhost:8080/"
        },
        "id": "llCDUt0-e2Hk",
        "outputId": "87a51cb0-38d6-428d-acbd-cfa52d8bbcc0"
      },
      "execution_count": 21,
      "outputs": [
        {
          "output_type": "stream",
          "name": "stdout",
          "text": [
            "False\n"
          ]
        }
      ]
    },
    {
      "cell_type": "markdown",
      "source": [
        "**Problem 13**\n",
        "\n",
        "Write a python function, remove_duplicates() which accepts a string and removes all duplicate characters from the given string and return it.\n",
        "\n",
        "    Sample Input                                  Expected Output\n",
        "\n",
        "    1122334455ababzzz@@@123#*#*                    12345abz@#*"
      ],
      "metadata": {
        "id": "qEsG1R5nn5s1"
      }
    },
    {
      "cell_type": "code",
      "source": [
        "def remove_duplicates(sample_string):\n",
        "    s=\"\"\n",
        "    for i in sample_string:\n",
        "        if i not in s:\n",
        "            s+=i\n",
        "    return s\n",
        "\n",
        "sample_string=\"1122334455ababzzz@@@123#*#*\"\n",
        "print(remove_duplicates(sample_string))\n"
      ],
      "metadata": {
        "colab": {
          "base_uri": "https://localhost:8080/"
        },
        "id": "vVpyVgH5n_GW",
        "outputId": "7527b213-0516-48c6-8658-9e1321bb9fa8"
      },
      "execution_count": 23,
      "outputs": [
        {
          "output_type": "stream",
          "name": "stdout",
          "text": [
            "12345abz@#*\n"
          ]
        }
      ]
    },
    {
      "cell_type": "markdown",
      "source": [
        "**Problem 14**\n",
        "\n",
        "1. Write a python function to check whether the given number is a perfect number or not.\n",
        "\n",
        "The function should returns true if the number is a perfect number, else it should returns false.\n",
        "\n",
        "**Hint:** Perfect number is a positive whole number that is equal to the sum of its proper divisors.\n",
        "\n",
        "The first perfect number is 6 as the sum of its proper positive divisors, 1,2 and 3 is 6. Other perfect numbers are 28, 496, 8128 ...\n",
        "\n",
        "2. Extend the program written for the above problem to write another function to find all perfect numbers in a given list of numbers.\n",
        "Populate the perfect numbers in a list and return the list. If no perfect numbers found, return an empty list.\n",
        "\n",
        "Note- Reuse the code wherever possible."
      ],
      "metadata": {
        "id": "CdXHDIDIoyJM"
      }
    },
    {
      "cell_type": "code",
      "source": [
        "def perfect_number(num):\n",
        "    if num>1:\n",
        "        l=[]\n",
        "        for i in range(1,num):\n",
        "            if num%i==0:\n",
        "                l.append(i)\n",
        "        if sum(l)==num:\n",
        "            return True\n",
        "        else:\n",
        "            return False\n",
        "def check_perfectno_from_list(lst):\n",
        "    num_lst=[]\n",
        "    for i in lst:\n",
        "        if perfect_number(i):\n",
        "            num_lst.append(i)\n",
        "    return num_lst\n",
        "\n",
        "print(perfect_number(496))\n",
        "print(check_perfectno_from_list([18,6,4,2,1,28]))"
      ],
      "metadata": {
        "colab": {
          "base_uri": "https://localhost:8080/"
        },
        "id": "roebNE56pMOl",
        "outputId": "d19f1663-b462-4b00-9481-6190652b2b7e"
      },
      "execution_count": 24,
      "outputs": [
        {
          "output_type": "stream",
          "name": "stdout",
          "text": [
            "True\n",
            "[6, 28]\n"
          ]
        }
      ]
    },
    {
      "cell_type": "markdown",
      "source": [
        "**Problem 15**\n",
        "\n",
        "The number, 197, is called a circular prime because all rotations of the digits: 197, 971, and 719, are themselves prime. There are thirteen such primes below 100: 2, 3, 5, 7, 11, 13, 17, 31, 37, 71, 73, 79, and 97.\n",
        "\n",
        "Write a python program to find and display the number of circular primes less than the given limit."
      ],
      "metadata": {
        "id": "-CR0setH50Yt"
      }
    },
    {
      "cell_type": "code",
      "execution_count": 26,
      "metadata": {
        "colab": {
          "base_uri": "https://localhost:8080/"
        },
        "id": "iicJvkTJ17Rx",
        "outputId": "72aed349-b1ea-4745-8159-0a20bb1a84f7"
      },
      "outputs": [
        {
          "output_type": "stream",
          "name": "stdout",
          "text": [
            "[2, 3, 5, 7, 11, 13, 17, 31, 37, 71, 73, 79, 97, 113, 131, 197, 199, 311, 337, 373, 719, 733, 919, 971, 991]\n"
          ]
        }
      ],
      "source": [
        "def rotations(num):\n",
        "    s= str(num)\n",
        "    lst=[int(s[i:]+s[:i]) for i in range(len(s))]\n",
        "    return lst\n",
        "\n",
        "def check_prime(num):\n",
        "    if num<2:\n",
        "        return False\n",
        "\n",
        "    for i in range(2,(num//2)+1):\n",
        "        if num%i==0:\n",
        "            return False\n",
        "\n",
        "    return True\n",
        "\n",
        "def circular_prime(num):\n",
        "    prime=[]\n",
        "    for i in range(2,num+1):\n",
        "        Flag=False\n",
        "        l=rotations(i)\n",
        "        count=0\n",
        "        for j in l:\n",
        "          if check_prime(j):\n",
        "            count+=1\n",
        "        if count==len(l):\n",
        "            prime.append(i)\n",
        "\n",
        "    return prime\n",
        "\n",
        "print(circular_prime(1000))\n"
      ]
    }
  ]
}