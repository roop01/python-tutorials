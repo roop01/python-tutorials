{
  "nbformat": 4,
  "nbformat_minor": 0,
  "metadata": {
    "colab": {
      "provenance": [],
      "authorship_tag": "ABX9TyMZjhDDw7exVJE4IdS4iraH",
      "include_colab_link": true
    },
    "kernelspec": {
      "name": "python3",
      "display_name": "Python 3"
    },
    "language_info": {
      "name": "python"
    }
  },
  "cells": [
    {
      "cell_type": "markdown",
      "metadata": {
        "id": "view-in-github",
        "colab_type": "text"
      },
      "source": [
        "<a href=\"https://colab.research.google.com/github/roop01/python-tutorials/blob/main/control_structures.ipynb\" target=\"_parent\"><img src=\"https://colab.research.google.com/assets/colab-badge.svg\" alt=\"Open In Colab\"/></a>"
      ]
    },
    {
      "cell_type": "markdown",
      "source": [
        "# **Python Control Structures**\n",
        "\n",
        "1. If-elif-else\n"
      ],
      "metadata": {
        "id": "l5KqgILGQp8R"
      }
    },
    {
      "cell_type": "code",
      "execution_count": 1,
      "metadata": {
        "colab": {
          "base_uri": "https://localhost:8080/"
        },
        "id": "gcY4xwjdQoN7",
        "outputId": "cdd10ff1-5a7e-4cc3-e8fc-34a04edbe637"
      },
      "outputs": [
        {
          "output_type": "stream",
          "name": "stdout",
          "text": [
            "Go to hell\n"
          ]
        }
      ],
      "source": [
        "num=4\n",
        "if num<3:\n",
        "    print(\"I like you\")\n",
        "elif num==3:\n",
        "    print(\"I hate you\")\n",
        "else:\n",
        "    print(\"Go to hell\")"
      ]
    },
    {
      "cell_type": "markdown",
      "source": [
        "2. For Loop"
      ],
      "metadata": {
        "id": "911mWJ3RRJuC"
      }
    },
    {
      "cell_type": "code",
      "source": [
        "number=[10,2,43,72,15,68]\n",
        "for val in number:\n",
        "    print(val)"
      ],
      "metadata": {
        "colab": {
          "base_uri": "https://localhost:8080/"
        },
        "id": "2cLw6Tw3RJBJ",
        "outputId": "e785f9b4-5d69-40f0-95f3-858a9f079a55"
      },
      "execution_count": 2,
      "outputs": [
        {
          "output_type": "stream",
          "name": "stdout",
          "text": [
            "10\n",
            "2\n",
            "43\n",
            "72\n",
            "15\n",
            "68\n"
          ]
        }
      ]
    },
    {
      "cell_type": "code",
      "source": [
        "genre = ['pop', 'rock', 'jazz']\n",
        "for i in range(len(genre)):\n",
        "    print(\"I like\", genre[i])"
      ],
      "metadata": {
        "colab": {
          "base_uri": "https://localhost:8080/"
        },
        "id": "STMPNVXpRWlp",
        "outputId": "1d3a1271-030b-46a4-d99e-2633e84a88c0"
      },
      "execution_count": 3,
      "outputs": [
        {
          "output_type": "stream",
          "name": "stdout",
          "text": [
            "I like pop\n",
            "I like rock\n",
            "I like jazz\n"
          ]
        }
      ]
    },
    {
      "cell_type": "code",
      "source": [
        "digits = [0, 1, 5]\n",
        "for i in digits:\n",
        "    print(i)\n",
        "else:\n",
        "    print(\"No items left.\")"
      ],
      "metadata": {
        "colab": {
          "base_uri": "https://localhost:8080/"
        },
        "id": "gyDTH-lURZ7g",
        "outputId": "d39b816b-585a-410f-c827-02acbc0d7879"
      },
      "execution_count": 4,
      "outputs": [
        {
          "output_type": "stream",
          "name": "stdout",
          "text": [
            "0\n",
            "1\n",
            "5\n",
            "No items left.\n"
          ]
        }
      ]
    },
    {
      "cell_type": "markdown",
      "source": [
        "3. Break, Continue, Pass"
      ],
      "metadata": {
        "id": "edF6ONiTRulz"
      }
    },
    {
      "cell_type": "code",
      "source": [
        "for val in \"string\":\n",
        "    if val == \"i\":\n",
        "        break\n",
        "    print(val)\n",
        "\n",
        "print(\"The end\")"
      ],
      "metadata": {
        "colab": {
          "base_uri": "https://localhost:8080/"
        },
        "id": "S3XEAMEIRt2V",
        "outputId": "77ea2690-75c8-4fb3-8be0-dabe5725071c"
      },
      "execution_count": 6,
      "outputs": [
        {
          "output_type": "stream",
          "name": "stdout",
          "text": [
            "s\n",
            "t\n",
            "r\n",
            "The end\n"
          ]
        }
      ]
    },
    {
      "cell_type": "code",
      "source": [
        "for char in 'PYTHON STRING':\n",
        "  if char == ' ':\n",
        "      break\n",
        "  print(char, end='')\n",
        "  if char == 'O':\n",
        "      continue"
      ],
      "metadata": {
        "colab": {
          "base_uri": "https://localhost:8080/"
        },
        "id": "PzIMcIObSE6R",
        "outputId": "6d6e26e0-4b7c-4344-f355-0276f4fb5c9d"
      },
      "execution_count": 8,
      "outputs": [
        {
          "output_type": "stream",
          "name": "stdout",
          "text": [
            "PYTHON"
          ]
        }
      ]
    },
    {
      "cell_type": "code",
      "source": [
        "sequence = {'p', 'a', 's', 's'}\n",
        "for val in sequence:\n",
        "    pass"
      ],
      "metadata": {
        "id": "-rXILR4-R547"
      },
      "execution_count": 9,
      "outputs": []
    },
    {
      "cell_type": "markdown",
      "source": [
        "4. While Loop\n"
      ],
      "metadata": {
        "id": "tVDo0RpiSe9n"
      }
    },
    {
      "cell_type": "code",
      "source": [
        "n=10\n",
        "i=1\n",
        "sum=0\n",
        "while (i<=n):\n",
        "    sum=sum+i\n",
        "    i=i+1\n",
        "print(sum)"
      ],
      "metadata": {
        "colab": {
          "base_uri": "https://localhost:8080/"
        },
        "id": "MAPSxVigSeY4",
        "outputId": "42c01378-32c8-4f86-cb0f-4f07558761fd"
      },
      "execution_count": 11,
      "outputs": [
        {
          "output_type": "stream",
          "name": "stdout",
          "text": [
            "55\n"
          ]
        }
      ]
    },
    {
      "cell_type": "code",
      "source": [
        "counter = 0\n",
        "sum = 0\n",
        "while counter <=5 :\n",
        "    sum += 5\n",
        "    print(f\"For counter : {counter}, sum : {sum}\")\n",
        "    counter += 1"
      ],
      "metadata": {
        "colab": {
          "base_uri": "https://localhost:8080/"
        },
        "id": "NfkkoWoOSp0w",
        "outputId": "8432d18c-3837-40ec-bdb7-eaacfd25aabe"
      },
      "execution_count": 12,
      "outputs": [
        {
          "output_type": "stream",
          "name": "stdout",
          "text": [
            "For counter : 0, sum : 5\n",
            "For counter : 1, sum : 10\n",
            "For counter : 2, sum : 15\n",
            "For counter : 3, sum : 20\n",
            "For counter : 4, sum : 25\n",
            "For counter : 5, sum : 30\n"
          ]
        }
      ]
    },
    {
      "cell_type": "code",
      "source": [
        "counter = 0\n",
        "while counter < 3:\n",
        "    print(\"Inside loop\")\n",
        "    counter = counter + 1\n",
        "else:\n",
        "    print(\"Inside else\")"
      ],
      "metadata": {
        "colab": {
          "base_uri": "https://localhost:8080/"
        },
        "id": "A0ET7yiMSuWx",
        "outputId": "ad94ffc1-38a5-40eb-976c-a8151f17cc7b"
      },
      "execution_count": 13,
      "outputs": [
        {
          "output_type": "stream",
          "name": "stdout",
          "text": [
            "Inside loop\n",
            "Inside loop\n",
            "Inside loop\n",
            "Inside else\n"
          ]
        }
      ]
    },
    {
      "cell_type": "markdown",
      "source": [
        "5. Use of multiple control structures in code"
      ],
      "metadata": {
        "id": "G8SAu4KxS_yk"
      }
    },
    {
      "cell_type": "code",
      "source": [
        "for val in \"string\":\n",
        "    if val == \"i\":\n",
        "        continue\n",
        "    print(val)\n",
        "\n",
        "print(\"The end\")"
      ],
      "metadata": {
        "colab": {
          "base_uri": "https://localhost:8080/"
        },
        "id": "qW2vSd52S9do",
        "outputId": "b3028e89-46ec-4da5-9564-d8cfcfb5bd79"
      },
      "execution_count": 14,
      "outputs": [
        {
          "output_type": "stream",
          "name": "stdout",
          "text": [
            "s\n",
            "t\n",
            "r\n",
            "n\n",
            "g\n",
            "The end\n"
          ]
        }
      ]
    }
  ]
}