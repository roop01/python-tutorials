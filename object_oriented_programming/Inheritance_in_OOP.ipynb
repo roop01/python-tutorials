{
  "nbformat": 4,
  "nbformat_minor": 0,
  "metadata": {
    "colab": {
      "provenance": [],
      "authorship_tag": "ABX9TyNYbxcKb4VIMzaNDemvwuBI",
      "include_colab_link": true
    },
    "kernelspec": {
      "name": "python3",
      "display_name": "Python 3"
    },
    "language_info": {
      "name": "python"
    }
  },
  "cells": [
    {
      "cell_type": "markdown",
      "metadata": {
        "id": "view-in-github",
        "colab_type": "text"
      },
      "source": [
        "<a href=\"https://colab.research.google.com/github/roop01/python-tutorials/blob/main/object_oriented_programming/Inheritance_in_OOP.ipynb\" target=\"_parent\"><img src=\"https://colab.research.google.com/assets/colab-badge.svg\" alt=\"Open In Colab\"/></a>"
      ]
    },
    {
      "cell_type": "markdown",
      "source": [
        "# **Inheritance**\n",
        "\n",
        "When a class inherits from another class, then those classes are said to have an inheritance relationship. The class which is inheriting is called the child/sub/derived class and the class which is getting inherited is called the parent/super/base class. Inheritance is also called as \"is-A\" relationship.\n",
        "\n",
        "Example: FeaturePhone  and SmartPhone are inheriting the Phone class (SmartPhone \"is-A\" phone, FeaturePhone \"is-A\" phone). So, Phone is the parent class and FeaturePhone and SmartPhone are derived classes.\n",
        "\n",
        "There are three main advantages of inheritance:\n",
        "\n",
        "Common properties can be kept in a single class, thus any changes need to be made need not be repeated.\n",
        "\n",
        "Inheritance encourages code reuse thus saving us time.\n",
        "\n",
        "To add a new type of phone later on, inherit the Phone class instead of writing it from scratch."
      ],
      "metadata": {
        "id": "T_8VjOLeYTm5"
      }
    },
    {
      "cell_type": "code",
      "execution_count": null,
      "metadata": {
        "colab": {
          "base_uri": "https://localhost:8080/"
        },
        "id": "ifN6IK9pXNpS",
        "outputId": "f93ae162-6ed2-47b5-ad4f-ff3e5881012e"
      },
      "outputs": [
        {
          "output_type": "stream",
          "name": "stdout",
          "text": [
            "Buying a phone\n"
          ]
        }
      ],
      "source": [
        "class Phone:\n",
        "    def __init__(self, price, brand, camera):\n",
        "        self.price = price\n",
        "        self.brand = brand\n",
        "        self.camera = camera\n",
        "    def buy(self):\n",
        "        print (\"Buying a phone\")\n",
        "    def return_phone(self):\n",
        "        print (\"Returning a phone\")\n",
        "class FeaturePhone(Phone):\n",
        "    pass\n",
        "class SmartPhone(Phone):\n",
        "    pass\n",
        "FeaturePhone(10000,\"Apple\",\"13px\").buy()\n",
        "\n"
      ]
    },
    {
      "cell_type": "markdown",
      "source": [
        "From a code perspective, a child class inherits:\n",
        "\n",
        "Constructor\n",
        "\n",
        "Non-Private Attributes\n",
        "\n",
        "Non-Private Methods\n",
        "\n",
        "This is true for languages like Java, C# etc.\n",
        "\n",
        "**Unlike other languages, private variables get inherited in Python.**\n",
        "\n",
        "When a child class inherits the attributes and methods, then the attributes and behaviour can be treated as it is owned by the child class itself.\n",
        "\n",
        "A child class can access everything a parent has, but a parent class cannot access anything from the child class.\n",
        "\n"
      ],
      "metadata": {
        "id": "G6HD1bm0ZWqX"
      }
    },
    {
      "cell_type": "code",
      "source": [
        "class Phone:\n",
        "    def __init__(self, price, brand, camera):\n",
        "        print (\"Inside phone constructor\")\n",
        "        self.price = price\n",
        "        self.brand = brand\n",
        "        self.camera = camera\n",
        "    def buy(self):\n",
        "        print (\"Buying a phone\")\n",
        "    def return_phone(self):\n",
        "        print (\"Returning a phone\")\n",
        "class FeaturePhone(Phone):\n",
        "    pass\n",
        "class SmartPhone(Phone):\n",
        "    pass\n",
        "s=SmartPhone(20000, \"Apple\", 13)\n",
        "s.buy()\n",
        "s.return_phone()\n"
      ],
      "metadata": {
        "id": "9V4zsgjZZj4h",
        "outputId": "85de8eb5-dd12-46de-84cf-845dae58e278",
        "colab": {
          "base_uri": "https://localhost:8080/"
        }
      },
      "execution_count": null,
      "outputs": [
        {
          "output_type": "stream",
          "name": "stdout",
          "text": [
            "Inside phone constructor\n",
            "Buying a phone\n",
            "Returning a phone\n"
          ]
        }
      ]
    },
    {
      "cell_type": "markdown",
      "source": [
        "Child class cannot directly access the private attributes of the parent class."
      ],
      "metadata": {
        "id": "6LsD065geKaz"
      }
    },
    {
      "cell_type": "code",
      "source": [
        "class Phone:\n",
        "    def __init__(self, price, brand, camera):\n",
        "        print (\"Inside phone constructor\")\n",
        "        self.__price = price\n",
        "        self.brand = brand\n",
        "        self.camera = camera\n",
        "    def buy(self):\n",
        "        print (\"Buying a phone\")\n",
        "    def return_phone(self):\n",
        "        print (\"Returning a phone\")\n",
        "class FeaturePhone(Phone):\n",
        "    pass\n",
        "class SmartPhone(Phone):\n",
        "    def check(self):\n",
        "        print(self.brand)\n",
        "        print(self.__price)\n",
        "s=SmartPhone(20000, \"Apple\", 13)\n",
        "s.check()\n"
      ],
      "metadata": {
        "colab": {
          "base_uri": "https://localhost:8080/",
          "height": 351
        },
        "id": "GiauNYW_eNwE",
        "outputId": "e79d7f26-b73f-4bc7-d755-51137b2a309d"
      },
      "execution_count": 1,
      "outputs": [
        {
          "output_type": "stream",
          "name": "stdout",
          "text": [
            "Inside phone constructor\n",
            "Apple\n"
          ]
        },
        {
          "output_type": "error",
          "ename": "AttributeError",
          "evalue": "'SmartPhone' object has no attribute '_SmartPhone__price'",
          "traceback": [
            "\u001b[0;31m---------------------------------------------------------------------------\u001b[0m",
            "\u001b[0;31mAttributeError\u001b[0m                            Traceback (most recent call last)",
            "\u001b[0;32m<ipython-input-1-ab44fe0d53b1>\u001b[0m in \u001b[0;36m<cell line: 18>\u001b[0;34m()\u001b[0m\n\u001b[1;32m     16\u001b[0m         \u001b[0mprint\u001b[0m\u001b[0;34m(\u001b[0m\u001b[0mself\u001b[0m\u001b[0;34m.\u001b[0m\u001b[0m__price\u001b[0m\u001b[0;34m)\u001b[0m\u001b[0;34m\u001b[0m\u001b[0;34m\u001b[0m\u001b[0m\n\u001b[1;32m     17\u001b[0m \u001b[0ms\u001b[0m\u001b[0;34m=\u001b[0m\u001b[0mSmartPhone\u001b[0m\u001b[0;34m(\u001b[0m\u001b[0;36m20000\u001b[0m\u001b[0;34m,\u001b[0m \u001b[0;34m\"Apple\"\u001b[0m\u001b[0;34m,\u001b[0m \u001b[0;36m13\u001b[0m\u001b[0;34m)\u001b[0m\u001b[0;34m\u001b[0m\u001b[0;34m\u001b[0m\u001b[0m\n\u001b[0;32m---> 18\u001b[0;31m \u001b[0ms\u001b[0m\u001b[0;34m.\u001b[0m\u001b[0mcheck\u001b[0m\u001b[0;34m(\u001b[0m\u001b[0;34m)\u001b[0m\u001b[0;34m\u001b[0m\u001b[0;34m\u001b[0m\u001b[0m\n\u001b[0m",
            "\u001b[0;32m<ipython-input-1-ab44fe0d53b1>\u001b[0m in \u001b[0;36mcheck\u001b[0;34m(self)\u001b[0m\n\u001b[1;32m     14\u001b[0m     \u001b[0;32mdef\u001b[0m \u001b[0mcheck\u001b[0m\u001b[0;34m(\u001b[0m\u001b[0mself\u001b[0m\u001b[0;34m)\u001b[0m\u001b[0;34m:\u001b[0m\u001b[0;34m\u001b[0m\u001b[0;34m\u001b[0m\u001b[0m\n\u001b[1;32m     15\u001b[0m         \u001b[0mprint\u001b[0m\u001b[0;34m(\u001b[0m\u001b[0mself\u001b[0m\u001b[0;34m.\u001b[0m\u001b[0mbrand\u001b[0m\u001b[0;34m)\u001b[0m\u001b[0;34m\u001b[0m\u001b[0;34m\u001b[0m\u001b[0m\n\u001b[0;32m---> 16\u001b[0;31m         \u001b[0mprint\u001b[0m\u001b[0;34m(\u001b[0m\u001b[0mself\u001b[0m\u001b[0;34m.\u001b[0m\u001b[0m__price\u001b[0m\u001b[0;34m)\u001b[0m\u001b[0;34m\u001b[0m\u001b[0;34m\u001b[0m\u001b[0m\n\u001b[0m\u001b[1;32m     17\u001b[0m \u001b[0ms\u001b[0m\u001b[0;34m=\u001b[0m\u001b[0mSmartPhone\u001b[0m\u001b[0;34m(\u001b[0m\u001b[0;36m20000\u001b[0m\u001b[0;34m,\u001b[0m \u001b[0;34m\"Apple\"\u001b[0m\u001b[0;34m,\u001b[0m \u001b[0;36m13\u001b[0m\u001b[0;34m)\u001b[0m\u001b[0;34m\u001b[0m\u001b[0;34m\u001b[0m\u001b[0m\n\u001b[1;32m     18\u001b[0m \u001b[0ms\u001b[0m\u001b[0;34m.\u001b[0m\u001b[0mcheck\u001b[0m\u001b[0;34m(\u001b[0m\u001b[0;34m)\u001b[0m\u001b[0;34m\u001b[0m\u001b[0;34m\u001b[0m\u001b[0m\n",
            "\u001b[0;31mAttributeError\u001b[0m: 'SmartPhone' object has no attribute '_SmartPhone__price'"
          ]
        }
      ]
    },
    {
      "cell_type": "markdown",
      "source": [
        "In order to access the private attributes of the parent class, getter and setter method should be defined in the parent class as below:"
      ],
      "metadata": {
        "id": "Y6a6Dtl6fMPm"
      }
    },
    {
      "cell_type": "code",
      "source": [
        "class Phone:\n",
        "    def __init__(self, price, brand, camera):\n",
        "        print (\"Inside phone constructor\")\n",
        "        self.__price = price\n",
        "        self.brand = brand\n",
        "        self.camera = camera\n",
        "    def buy(self):\n",
        "        print (\"Buying a phone\")\n",
        "    def return_phone(self):\n",
        "        print (\"Returning a phone\")\n",
        "    def get_price(self):\n",
        "        return self.__price\n",
        "    def set_price(self,price):\n",
        "        self.__price=price\n",
        "class FeaturePhone(Phone):\n",
        "    pass\n",
        "class SmartPhone(Phone):\n",
        "    def check(self):\n",
        "        print(self.get_price())\n",
        "s=SmartPhone(20000, \"Apple\", 13)\n",
        "s.check()\n"
      ],
      "metadata": {
        "colab": {
          "base_uri": "https://localhost:8080/"
        },
        "id": "CAnmylGuhJvJ",
        "outputId": "29987242-2e57-4907-d446-1caf0fab6e7e"
      },
      "execution_count": 3,
      "outputs": [
        {
          "output_type": "stream",
          "name": "stdout",
          "text": [
            "Inside phone constructor\n",
            "20000\n"
          ]
        }
      ]
    },
    {
      "cell_type": "markdown",
      "source": [
        "Apart from attributes, the child class inherits the methods of the parent class"
      ],
      "metadata": {
        "id": "OCpd3TjJhaHP"
      }
    },
    {
      "cell_type": "code",
      "source": [
        "class Phone:\n",
        "    def __init__(self, price, brand, camera):\n",
        "        print (\"Inside phone constructor\")\n",
        "        self.__price = price\n",
        "        self.brand = brand\n",
        "        self.camera = camera\n",
        "    def buy(self):\n",
        "        print (\"Buying a phone\")\n",
        "    def return_phone(self):\n",
        "        print (\"Returning a phone\")\n",
        "class FeaturePhone(Phone):\n",
        "    pass\n",
        "class SmartPhone(Phone):\n",
        "    pass\n",
        "s=SmartPhone(20000, \"Apple\", 13)\n",
        "s.buy()\n"
      ],
      "metadata": {
        "colab": {
          "base_uri": "https://localhost:8080/"
        },
        "id": "tBlhNv1shbt3",
        "outputId": "c7377711-9f4c-4980-ba7a-32e219e9952e"
      },
      "execution_count": 4,
      "outputs": [
        {
          "output_type": "stream",
          "name": "stdout",
          "text": [
            "Inside phone constructor\n",
            "Buying a phone\n"
          ]
        }
      ]
    },
    {
      "cell_type": "markdown",
      "source": [
        "Sometimes a child may not want to use what  has been inherited from the parent. The same is the case with OOP as well. If the child class does not want to use a method inherited from the parent class, then it may create its own method with the same name.\n",
        "\n",
        "When the child has a method with the same name as that of the parent, it is said be overridden on the parent’s method. This is called as Method Overriding. Method overriding is also called as **Polymorphism**."
      ],
      "metadata": {
        "id": "AKN4aSBwhi-Z"
      }
    },
    {
      "cell_type": "code",
      "source": [
        "class Phone:\n",
        "    def __init__(self, price, brand, camera):\n",
        "        print (\"Inside phone constructor\")\n",
        "        self.__price = price\n",
        "        self.brand = brand\n",
        "        self.camera = camera\n",
        "    def buy(self):\n",
        "        print (\"Buying a phone\")\n",
        "    def return_phone(self):\n",
        "        print (\"Returning a phone\")\n",
        "class FeaturePhone(Phone):\n",
        "    pass\n",
        "class SmartPhone(Phone):\n",
        "    def buy(self):\n",
        "        print (\"Buying a smartphone\")\n",
        "s=SmartPhone(20000, \"Apple\", 13)\n",
        "s.buy()\n"
      ],
      "metadata": {
        "colab": {
          "base_uri": "https://localhost:8080/"
        },
        "id": "k9xu92vkhijo",
        "outputId": "8188e09a-ad84-4897-b1d5-ed97f41ef3be"
      },
      "execution_count": 5,
      "outputs": [
        {
          "output_type": "stream",
          "name": "stdout",
          "text": [
            "Inside phone constructor\n",
            "Buying a smartphone\n"
          ]
        }
      ]
    },
    {
      "cell_type": "markdown",
      "source": [
        "Even if the child class has overridden the methods of the parent class, it can still decide to use the parent class overridden method. To invoke anything belonging to the parent class, the child class needs to use the super() function, as shown below:"
      ],
      "metadata": {
        "id": "6up771T-h9h6"
      }
    },
    {
      "cell_type": "code",
      "source": [
        "class Phone:\n",
        "    def __init__(self, price, brand, camera):\n",
        "        print (\"Inside phone constructor\")\n",
        "        self.__price = price\n",
        "        self.brand = brand\n",
        "        self.camera = camera\n",
        "    def buy(self):\n",
        "        print (\"Buying a phone\")\n",
        "    def return_phone(self):\n",
        "        print (\"Returning a phone\")\n",
        "class FeaturePhone(Phone):\n",
        "    pass\n",
        "class SmartPhone(Phone):\n",
        "    def buy(self):\n",
        "        print (\"Buying a smartphone\")\n",
        "        super().buy()\n",
        "s=SmartPhone(20000, \"Apple\", 13)\n",
        "s.buy()\n"
      ],
      "metadata": {
        "colab": {
          "base_uri": "https://localhost:8080/"
        },
        "id": "LAf6Fg9jh2RN",
        "outputId": "588aee0e-7204-4b64-95dc-ea0820bd0f0e"
      },
      "execution_count": 6,
      "outputs": [
        {
          "output_type": "stream",
          "name": "stdout",
          "text": [
            "Inside phone constructor\n",
            "Buying a smartphone\n",
            "Buying a phone\n"
          ]
        }
      ]
    },
    {
      "cell_type": "markdown",
      "source": [
        "Similar to Method Overriding, the child class can also override its constructor.\n",
        "\n",
        "Consider the below code. Since the SmartPhone class has its own constructor, the Phone class constructor is not inherited. Hence, the attributes in the Phone class are also not inherited."
      ],
      "metadata": {
        "id": "DBvVaxhYiElc"
      }
    },
    {
      "cell_type": "code",
      "source": [
        "class Phone:\n",
        "    def __init__(self, price, brand, camera):\n",
        "        print (\"Inside phone constructor\")\n",
        "        self.__price = price\n",
        "        self.brand = brand\n",
        "        self.camera = camera\n",
        "    def buy(self):\n",
        "        print (\"Buying a phone\")\n",
        "    def return_phone(self):\n",
        "        print (\"Returning a phone\")\n",
        "class FeaturePhone(Phone):\n",
        "    pass\n",
        "class SmartPhone(Phone):\n",
        "    def __init__(self, os, ram):\n",
        "        self.os = os\n",
        "        self.ram = ram\n",
        "        print (\"Inside SmartPhone constructor\")\n",
        "    def buy(self):\n",
        "        print(\"Buying a SmartPhone\")\n",
        "s=SmartPhone(\"Android\", 2)\n",
        "print(s.os)\n",
        "print(s.brand)\n"
      ],
      "metadata": {
        "colab": {
          "base_uri": "https://localhost:8080/",
          "height": 222
        },
        "id": "Yvj1sbWCiGhp",
        "outputId": "7dd0463d-c087-4671-8bed-21a659e3b301"
      },
      "execution_count": 7,
      "outputs": [
        {
          "output_type": "stream",
          "name": "stdout",
          "text": [
            "Inside SmartPhone constructor\n",
            "Android\n"
          ]
        },
        {
          "output_type": "error",
          "ename": "AttributeError",
          "evalue": "'SmartPhone' object has no attribute 'brand'",
          "traceback": [
            "\u001b[0;31m---------------------------------------------------------------------------\u001b[0m",
            "\u001b[0;31mAttributeError\u001b[0m                            Traceback (most recent call last)",
            "\u001b[0;32m<ipython-input-7-0f69ab7ed2d5>\u001b[0m in \u001b[0;36m<cell line: 22>\u001b[0;34m()\u001b[0m\n\u001b[1;32m     20\u001b[0m \u001b[0ms\u001b[0m\u001b[0;34m=\u001b[0m\u001b[0mSmartPhone\u001b[0m\u001b[0;34m(\u001b[0m\u001b[0;34m\"Android\"\u001b[0m\u001b[0;34m,\u001b[0m \u001b[0;36m2\u001b[0m\u001b[0;34m)\u001b[0m\u001b[0;34m\u001b[0m\u001b[0;34m\u001b[0m\u001b[0m\n\u001b[1;32m     21\u001b[0m \u001b[0mprint\u001b[0m\u001b[0;34m(\u001b[0m\u001b[0ms\u001b[0m\u001b[0;34m.\u001b[0m\u001b[0mos\u001b[0m\u001b[0;34m)\u001b[0m\u001b[0;34m\u001b[0m\u001b[0;34m\u001b[0m\u001b[0m\n\u001b[0;32m---> 22\u001b[0;31m \u001b[0mprint\u001b[0m\u001b[0;34m(\u001b[0m\u001b[0ms\u001b[0m\u001b[0;34m.\u001b[0m\u001b[0mbrand\u001b[0m\u001b[0;34m)\u001b[0m\u001b[0;34m\u001b[0m\u001b[0;34m\u001b[0m\u001b[0m\n\u001b[0m",
            "\u001b[0;31mAttributeError\u001b[0m: 'SmartPhone' object has no attribute 'brand'"
          ]
        }
      ]
    },
    {
      "cell_type": "markdown",
      "source": [
        "To access the parent class constructor  super() can be used. Thus, the data is passed to the child class constructor, from there the data is sent to the parent class constructor and thus the attributes of the parent class get inherited. super() function can be used to access the constructor or methods of the parent class, but not the attributes. Also, super() function can be used only inside a class and not outside the class."
      ],
      "metadata": {
        "id": "yfnjnci-iY1H"
      }
    },
    {
      "cell_type": "code",
      "source": [
        "class Phone:\n",
        "    def __init__(self, price, brand, camera):\n",
        "        print (\"Inside phone constructor\")\n",
        "        self.__price = price\n",
        "        self.brand = brand\n",
        "        self.camera = camera\n",
        "    def buy(self):\n",
        "        print (\"Buying a phone\")\n",
        "    def return_phone(self):\n",
        "        print (\"Returning a phone\")\n",
        "class FeaturePhone(Phone):\n",
        "    pass\n",
        "class SmartPhone(Phone):\n",
        "    def __init__(self, price, brand, camera, os, ram):\n",
        "        super().__init__(price, brand, camera)\n",
        "        self.os = os\n",
        "        self.ram = ram\n",
        "        print (\"Inside smartphone constructor\")\n",
        "    def buy(self):\n",
        "        print (\"Buying a smartphone\")\n",
        "        super().buy()\n",
        "s=SmartPhone(20000, \"Samsung\", 12, \"Android\", 2)\n",
        "print(s.os)\n",
        "print(s.brand)\n",
        "s.buy()\n"
      ],
      "metadata": {
        "colab": {
          "base_uri": "https://localhost:8080/"
        },
        "id": "_Jeryo5OieDz",
        "outputId": "25b052e2-0222-48ae-dc7f-b2ae0e8e7b00"
      },
      "execution_count": 9,
      "outputs": [
        {
          "output_type": "stream",
          "name": "stdout",
          "text": [
            "Inside phone constructor\n",
            "Inside smartphone constructor\n",
            "Android\n",
            "Samsung\n",
            "Buying a smartphone\n",
            "Buying a phone\n"
          ]
        }
      ]
    },
    {
      "cell_type": "markdown",
      "source": [
        "**Type of Inheritance**\n",
        "\n",
        "1. Single Level\n",
        "2. Multu-Level\n",
        "3. Hierarchical - One parent Many childern\n",
        "4. Multiple - One Child Many parents\n",
        "\n",
        "Simple inheritance enables a derived class to inherit properties and behaviour from a single parent class. It allows a derived class to inherit the properties and behavior of a base class, thus enabling code reusability as well as adding new features to the existing code.\n"
      ],
      "metadata": {
        "id": "_UjhbTogjNa5"
      }
    },
    {
      "cell_type": "code",
      "source": [
        "class Phone:\n",
        "    def __init__(self, price, brand, camera):\n",
        "        print (\"Inside phone constructor\")\n",
        "        self.__price = price\n",
        "        self.brand = brand\n",
        "        self.camera = camera\n",
        "    def buy(self):\n",
        "        print (\"Buying a phone\")\n",
        "    def return_phone(self):\n",
        "        print (\"Returning a phone\")\n",
        "class SmartPhone(Phone):\n",
        "    pass\n",
        "SmartPhone(1000,\"Apple\",\"13px\").buy()\n"
      ],
      "metadata": {
        "colab": {
          "base_uri": "https://localhost:8080/"
        },
        "id": "g-74I5oXkMug",
        "outputId": "654dd0ac-9b40-4ce1-b229-902f1005bc29"
      },
      "execution_count": 10,
      "outputs": [
        {
          "output_type": "stream",
          "name": "stdout",
          "text": [
            "Inside phone constructor\n",
            "Buying a phone\n"
          ]
        }
      ]
    },
    {
      "cell_type": "markdown",
      "source": [
        "When a class is derived from a class which is also derived from another class, such inheritance is called Multi-level Inheritance. The level of inheritance can be extended to any number of levels depending upon the relation."
      ],
      "metadata": {
        "id": "A3fMTQPekP9U"
      }
    },
    {
      "cell_type": "code",
      "source": [
        "class Product:\n",
        "    def review(self):\n",
        "        print (\"Product customer review\")\n",
        "class Phone(Product):\n",
        "    def __init__(self, price, brand, camera):\n",
        "        print (\"Inside phone constructor\")\n",
        "        self.__price = price\n",
        "        self.brand = brand\n",
        "        self.camera = camera\n",
        "    def buy(self):\n",
        "        print (\"Buying a phone\")\n",
        "    def return_phone(self):\n",
        "        print (\"Returning a phone\")\n",
        "class SmartPhone(Phone):\n",
        "    pass\n",
        "s=SmartPhone(20000, \"Apple\", 12)\n",
        "s.buy()\n",
        "s.review()\n"
      ],
      "metadata": {
        "colab": {
          "base_uri": "https://localhost:8080/"
        },
        "id": "q8M6PowGkPuF",
        "outputId": "a4e3ad88-8070-40a7-a17a-579487fd16aa"
      },
      "execution_count": 12,
      "outputs": [
        {
          "output_type": "stream",
          "name": "stdout",
          "text": [
            "Inside phone constructor\n",
            "Buying a phone\n",
            "Product customer review\n"
          ]
        }
      ]
    },
    {
      "cell_type": "markdown",
      "source": [
        "Inheritance is the process of inheriting properties of objects of one class by objects of another class. When more than one classes are derived from a single base class, such inheritance is known as Hierarchical Inheritance, where features that are common in lower level are included in parent class."
      ],
      "metadata": {
        "id": "ox-aXbkBkfGq"
      }
    },
    {
      "cell_type": "code",
      "source": [
        "class Phone:\n",
        "    def __init__(self, price, brand, camera):\n",
        "        print (\"Inside phone constructor\")\n",
        "        self.__price = price\n",
        "        self.brand = brand\n",
        "        self.camera = camera\n",
        "    def buy(self):\n",
        "        print (\"Buying a phone\")\n",
        "    def return_phone(self):\n",
        "        print (\"Returning a phone\")\n",
        "class SmartPhone(Phone):\n",
        "    pass\n",
        "class FeaturePhone(Phone):\n",
        "    pass\n",
        "SmartPhone(1000,\"Apple\",\"13px\").buy()\n"
      ],
      "metadata": {
        "colab": {
          "base_uri": "https://localhost:8080/"
        },
        "id": "tyJ7XYxVkll-",
        "outputId": "d42c2ba2-5b48-4ec6-d361-4e97bc49cc4e"
      },
      "execution_count": 13,
      "outputs": [
        {
          "output_type": "stream",
          "name": "stdout",
          "text": [
            "Inside phone constructor\n",
            "Buying a phone\n"
          ]
        }
      ]
    },
    {
      "cell_type": "markdown",
      "source": [
        "When an object or class can inherit characteristics and features from more than one parent object or parent class, such type of inheritance is called as multiple inheritance.\n",
        "\n",
        "**Note: When a child is inheriting from multiple parents, and if there is a common behaviour to be inherited, it inherits the method in parentclass which is first in the list. From the example, the buy() of Phone is inherited as it appears first in the list.**"
      ],
      "metadata": {
        "id": "AceuuIEmkuER"
      }
    },
    {
      "cell_type": "code",
      "source": [
        "class Phone:\n",
        "    def __init__(self, price, brand, camera):\n",
        "        print (\"Inside phone constructor\")\n",
        "        self.__price = price\n",
        "        self.brand = brand\n",
        "        self.camera = camera\n",
        "    def buy(self):\n",
        "        print (\"Buying a phone\")\n",
        "    def return_phone(self):\n",
        "        print (\"Returning a phone\")\n",
        "class Product:\n",
        "    def review(self):\n",
        "        print (\"Customer review\")\n",
        "class SmartPhone(Phone, Product):\n",
        "    pass\n",
        "s=SmartPhone(20000, \"Apple\", 12)\n",
        "s.buy()\n",
        "s.review()\n"
      ],
      "metadata": {
        "colab": {
          "base_uri": "https://localhost:8080/"
        },
        "id": "yTVbrmnbkvWh",
        "outputId": "8b1ebad6-8f1d-4e50-98f1-e18f10fb21c6"
      },
      "execution_count": 14,
      "outputs": [
        {
          "output_type": "stream",
          "name": "stdout",
          "text": [
            "Inside phone constructor\n",
            "Buying a phone\n",
            "Customer review\n"
          ]
        }
      ]
    }
  ]
}