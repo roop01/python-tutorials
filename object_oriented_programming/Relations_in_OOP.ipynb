{
  "nbformat": 4,
  "nbformat_minor": 0,
  "metadata": {
    "colab": {
      "provenance": [],
      "authorship_tag": "ABX9TyOyjm3ffrxGB1y6ga3KpMlc",
      "include_colab_link": true
    },
    "kernelspec": {
      "name": "python3",
      "display_name": "Python 3"
    },
    "language_info": {
      "name": "python"
    }
  },
  "cells": [
    {
      "cell_type": "markdown",
      "metadata": {
        "id": "view-in-github",
        "colab_type": "text"
      },
      "source": [
        "<a href=\"https://colab.research.google.com/github/roop01/python-tutorials/blob/main/object_oriented_programming/Relations_in_OOP.ipynb\" target=\"_parent\"><img src=\"https://colab.research.google.com/assets/colab-badge.svg\" alt=\"Open In Colab\"/></a>"
      ]
    },
    {
      "cell_type": "markdown",
      "source": [
        "# **Relations in OOP - Aggregation and Association**\n",
        "\n",
        "Common types of OOP relationships:\n",
        "\n",
        "**Inheritance** --> When one object is type of another\n",
        "\n",
        "**Aggregation** --> When one object owns another object but they both have independent lifecycle\n",
        "\n",
        "**Composition** --> When one object owns another object but they both have same lifecycle\n",
        "\n",
        "Mobile is a product\n",
        "Address is customer specific. Even if customer is no more address continues to exist\n",
        "College has a department. If college closes department is also closed.\n",
        "\n",
        "Also, each object may relate with multiple objects at the same time. For example, Shoe is also a Product. A Customer may have many addresses. A department may have many employees. A child may have many siblings, etc."
      ],
      "metadata": {
        "id": "IfBqLDseGZoJ"
      }
    },
    {
      "cell_type": "markdown",
      "source": [
        "If class A owns class B, then class A is said to aggregate class B. This is also commonly known as \"has-A\" relationship. For example, in our online shopping application, a customer has an address. Let us understand the Customer class and Address class independently."
      ],
      "metadata": {
        "id": "uhjZclfS-ziF"
      }
    },
    {
      "cell_type": "code",
      "execution_count": 1,
      "metadata": {
        "id": "skLE8MrxFfEr"
      },
      "outputs": [],
      "source": [
        "class Customer:\n",
        "    def __init__(self, name, age, phone_no):\n",
        "        self.name = name\n",
        "        self.age = age\n",
        "        self.phone_no = phone_no\n",
        "    def view_details(self):\n",
        "        pass\n",
        "    def update_details(self):\n",
        "        pass\n",
        "\n",
        "class Address:\n",
        "    def __init__(self, door_no, street, area, pincode):\n",
        "        self.door_no = door_no\n",
        "        self.street = street\n",
        "        self.area = area\n",
        "        self.pincode = pincode\n",
        "    def update_address(self):\n",
        "        pass\n"
      ]
    },
    {
      "cell_type": "markdown",
      "source": [
        "For the Customer object to aggregate the Address object, thereby owning the Address object and having full access to it, then the Customer object must have an additional attribute for Address.\n",
        "Just like Customer \"has-a\" name, Customer \"has-a\" age, Customer \"has-a\" phone_no, now Customer also \"has-a\" Address.\n",
        "\n",
        "Note: In class diagram, aggregation is represented by a line connecting the classes and a diamond symbol in the class which aggregates the other class. In the above example, the Customer aggregates the Address and hence the diamond symbol is near the Customer class.\n",
        "\n",
        "Add the extra attribute in the Customer class so that it can aggregate the Address class."
      ],
      "metadata": {
        "id": "Fm5VOY_Z_zDy"
      }
    },
    {
      "cell_type": "code",
      "source": [
        "class Customer:\n",
        "    def __init__(self, name, age, phone_no, address):\n",
        "        self.name = name\n",
        "        self.age = age\n",
        "        self.phone_no = phone_no\n",
        "        self.address = address\n",
        "\n",
        "    def view_details(self):\n",
        "        pass\n",
        "    def update_details(self):\n",
        "        pass\n",
        "\n",
        "class Address:\n",
        "    def __init__(self, door_no, street, area, pincode):\n",
        "        self.door_no = door_no\n",
        "        self.street = street\n",
        "        self.area = area\n",
        "        self.pincode = pincode\n",
        "    def update_address(self):\n",
        "        pass\n",
        "\n"
      ],
      "metadata": {
        "id": "kYOW-oiaAOqy"
      },
      "execution_count": 4,
      "outputs": []
    },
    {
      "cell_type": "markdown",
      "source": [
        "add1=Address(123,\"5th Lane\",56001)\n",
        "\n",
        "add2=Address(567,\"6th Lane\",82006)\n",
        "\n",
        "**Address is not assigned to customers-**\n",
        "\n",
        "cus1=Customer(\"Jack\",24,1234,None)\n",
        "\n",
        "cus2=Customer(\"Jane\",25,5678,None)\n",
        "\n",
        "**Now address is assigned to customer-**\n",
        "\n",
        "cus1=Customer(\"Jack\",24,1234,add1)\n",
        "\n",
        "cus2=Customer(\"Jane\",25,5678,add2)\n",
        "\n",
        "Since the Customer class has aggregated the Address class, the address object is available in all the methods of the Customer class, just like regular attributes."
      ],
      "metadata": {
        "id": "TxJCNe9TAlpe"
      }
    },
    {
      "cell_type": "code",
      "source": [
        "class Customer:\n",
        "    def __init__(self, name, age, phone_no, address):\n",
        "        self.name = name\n",
        "        self.age = age\n",
        "        self.phone_no = phone_no\n",
        "        self.address = address\n",
        "\n",
        "    def view_details(self):\n",
        "        print(self.name, self.age, self.phone_no)\n",
        "        print(self.address.door_no, self.address.street, self.address.pincode)\n",
        "\n",
        "    def update_details(self, add):\n",
        "        self.address = add\n",
        "\n",
        "class Address:\n",
        "    def __init__(self, door_no, street, pincode):\n",
        "        self.door_no = door_no\n",
        "        self.street = street\n",
        "        self.pincode = pincode\n",
        "\n",
        "    def update_address(self):\n",
        "        pass\n",
        "\n",
        "add1=Address(123, \"5th Lane\", 56001)\n",
        "add2=Address(567, \"6th Lane\", 82006)\n",
        "cus1=Customer(\"Jack\", 24, 1234, add1)\n",
        "cus1.view_details()\n",
        "cus1.update_details(add2)\n",
        "cus1.view_details()\n"
      ],
      "metadata": {
        "colab": {
          "base_uri": "https://localhost:8080/"
        },
        "id": "wm7R2OgdCkYO",
        "outputId": "ec613ae9-5bce-45d0-f5b1-919d82cde974"
      },
      "execution_count": 5,
      "outputs": [
        {
          "output_type": "stream",
          "name": "stdout",
          "text": [
            "Jack 24 1234\n",
            "123 5th Lane 56001\n",
            "Jack 24 1234\n",
            "567 6th Lane 82006\n"
          ]
        }
      ]
    },
    {
      "cell_type": "markdown",
      "source": [
        "Private variables cannot be accessed outside the class. This is true even in aggregation. The owning class cannot access the private attributes of the aggregated class directly."
      ],
      "metadata": {
        "id": "t5bakLhXDU_r"
      }
    },
    {
      "cell_type": "code",
      "source": [
        "class Customer:\n",
        "    def __init__(self, name, age, phone_no, address):\n",
        "        self.name = name\n",
        "        self.age = age\n",
        "        self.phone_no = phone_no\n",
        "        self.address = address\n",
        "\n",
        "    def view_details(self):\n",
        "        print (self.name, self.age, self.phone_no)\n",
        "        print (self.address.__door_no, self.address.__street, self.address.__pincode)\n",
        "\n",
        "class Address:\n",
        "    def __init__(self, door_no, street, pincode):\n",
        "        self.__door_no = door_no\n",
        "        self.__street = street\n",
        "        self.__pincode = pincode\n",
        "\n",
        "    def update_address(self):\n",
        "        pass\n",
        "\n",
        "add1=Address(123, \"5th Lane\", 56001)\n",
        "cus1=Customer(\"Jack\", 24, 1234, add1)\n",
        "cus1.view_details()\n"
      ],
      "metadata": {
        "colab": {
          "base_uri": "https://localhost:8080/",
          "height": 315
        },
        "id": "HHZK23B-DXQa",
        "outputId": "22572ed5-0612-4d66-d226-a1b550ee1f4a"
      },
      "execution_count": 6,
      "outputs": [
        {
          "output_type": "stream",
          "name": "stdout",
          "text": [
            "Jack 24 1234\n"
          ]
        },
        {
          "output_type": "error",
          "ename": "AttributeError",
          "evalue": "'Address' object has no attribute '_Customer__door_no'",
          "traceback": [
            "\u001b[0;31m---------------------------------------------------------------------------\u001b[0m",
            "\u001b[0;31mAttributeError\u001b[0m                            Traceback (most recent call last)",
            "\u001b[0;32m<ipython-input-6-6ba699680d4a>\u001b[0m in \u001b[0;36m<cell line: 23>\u001b[0;34m()\u001b[0m\n\u001b[1;32m     21\u001b[0m \u001b[0madd1\u001b[0m\u001b[0;34m=\u001b[0m\u001b[0mAddress\u001b[0m\u001b[0;34m(\u001b[0m\u001b[0;36m123\u001b[0m\u001b[0;34m,\u001b[0m \u001b[0;34m\"5th Lane\"\u001b[0m\u001b[0;34m,\u001b[0m \u001b[0;36m56001\u001b[0m\u001b[0;34m)\u001b[0m\u001b[0;34m\u001b[0m\u001b[0;34m\u001b[0m\u001b[0m\n\u001b[1;32m     22\u001b[0m \u001b[0mcus1\u001b[0m\u001b[0;34m=\u001b[0m\u001b[0mCustomer\u001b[0m\u001b[0;34m(\u001b[0m\u001b[0;34m\"Jack\"\u001b[0m\u001b[0;34m,\u001b[0m \u001b[0;36m24\u001b[0m\u001b[0;34m,\u001b[0m \u001b[0;36m1234\u001b[0m\u001b[0;34m,\u001b[0m \u001b[0madd1\u001b[0m\u001b[0;34m)\u001b[0m\u001b[0;34m\u001b[0m\u001b[0;34m\u001b[0m\u001b[0m\n\u001b[0;32m---> 23\u001b[0;31m \u001b[0mcus1\u001b[0m\u001b[0;34m.\u001b[0m\u001b[0mview_details\u001b[0m\u001b[0;34m(\u001b[0m\u001b[0;34m)\u001b[0m\u001b[0;34m\u001b[0m\u001b[0;34m\u001b[0m\u001b[0m\n\u001b[0m",
            "\u001b[0;32m<ipython-input-6-6ba699680d4a>\u001b[0m in \u001b[0;36mview_details\u001b[0;34m(self)\u001b[0m\n\u001b[1;32m      8\u001b[0m     \u001b[0;32mdef\u001b[0m \u001b[0mview_details\u001b[0m\u001b[0;34m(\u001b[0m\u001b[0mself\u001b[0m\u001b[0;34m)\u001b[0m\u001b[0;34m:\u001b[0m\u001b[0;34m\u001b[0m\u001b[0;34m\u001b[0m\u001b[0m\n\u001b[1;32m      9\u001b[0m         \u001b[0mprint\u001b[0m \u001b[0;34m(\u001b[0m\u001b[0mself\u001b[0m\u001b[0;34m.\u001b[0m\u001b[0mname\u001b[0m\u001b[0;34m,\u001b[0m \u001b[0mself\u001b[0m\u001b[0;34m.\u001b[0m\u001b[0mage\u001b[0m\u001b[0;34m,\u001b[0m \u001b[0mself\u001b[0m\u001b[0;34m.\u001b[0m\u001b[0mphone_no\u001b[0m\u001b[0;34m)\u001b[0m\u001b[0;34m\u001b[0m\u001b[0;34m\u001b[0m\u001b[0m\n\u001b[0;32m---> 10\u001b[0;31m         \u001b[0mprint\u001b[0m \u001b[0;34m(\u001b[0m\u001b[0mself\u001b[0m\u001b[0;34m.\u001b[0m\u001b[0maddress\u001b[0m\u001b[0;34m.\u001b[0m\u001b[0m__door_no\u001b[0m\u001b[0;34m,\u001b[0m \u001b[0mself\u001b[0m\u001b[0;34m.\u001b[0m\u001b[0maddress\u001b[0m\u001b[0;34m.\u001b[0m\u001b[0m__street\u001b[0m\u001b[0;34m,\u001b[0m \u001b[0mself\u001b[0m\u001b[0;34m.\u001b[0m\u001b[0maddress\u001b[0m\u001b[0;34m.\u001b[0m\u001b[0m__pincode\u001b[0m\u001b[0;34m)\u001b[0m\u001b[0;34m\u001b[0m\u001b[0;34m\u001b[0m\u001b[0m\n\u001b[0m\u001b[1;32m     11\u001b[0m \u001b[0;34m\u001b[0m\u001b[0m\n\u001b[1;32m     12\u001b[0m \u001b[0;32mclass\u001b[0m \u001b[0mAddress\u001b[0m\u001b[0;34m:\u001b[0m\u001b[0;34m\u001b[0m\u001b[0;34m\u001b[0m\u001b[0m\n",
            "\u001b[0;31mAttributeError\u001b[0m: 'Address' object has no attribute '_Customer__door_no'"
          ]
        }
      ]
    },
    {
      "cell_type": "markdown",
      "source": [
        "Private variables of the aggregated class can be accessed using the getter/setter methods."
      ],
      "metadata": {
        "id": "ijaf3s1BGodx"
      }
    },
    {
      "cell_type": "code",
      "source": [
        "class Customer:\n",
        "    def __init__(self, name, age, phone_no, address):\n",
        "        self.name = name\n",
        "        self.age = age\n",
        "        self.phone_no = phone_no\n",
        "        self.address = address\n",
        "\n",
        "    def view_details(self):\n",
        "        print (self.name, self.age, self.phone_no)\n",
        "        print (self.address.get_door_no(), self.address.get_street(), self.address.get_pincode())\n",
        "\n",
        "class Address:\n",
        "    def __init__(self, door_no, street, pincode):\n",
        "        self.__door_no = door_no\n",
        "        self.__street = street\n",
        "        self.__pincode = pincode\n",
        "    def get_door_no(self):\n",
        "        return self.__door_no\n",
        "    def get_street(self):\n",
        "        return self.__street\n",
        "    def get_pincode(self):\n",
        "        return self.__pincode\n",
        "    def set_door_no(self, value):\n",
        "        self.__door_no = value\n",
        "    def set_street(self, value):\n",
        "        self.__street = value\n",
        "    def set_pincode(self, value):\n",
        "        self.__pincode = value\n",
        "    def update_address(self):\n",
        "        pass\n",
        "\n",
        "add1=Address(123, \"5th Lane\", 56001)\n",
        "cus1=Customer(\"Jack\", 24, 1234, add1)\n",
        "cus1.view_details()\n"
      ],
      "metadata": {
        "colab": {
          "base_uri": "https://localhost:8080/"
        },
        "id": "zrF9IumXGsek",
        "outputId": "1f3eff0d-db63-4027-d4c1-905a90a84e95"
      },
      "execution_count": 7,
      "outputs": [
        {
          "output_type": "stream",
          "name": "stdout",
          "text": [
            "Jack 24 1234\n",
            "123 5th Lane 56001\n"
          ]
        }
      ]
    },
    {
      "cell_type": "markdown",
      "source": [
        "Sometimes a class may depend on another class for some of its use. This is not a strict relationship and hence won’t appear in the class diagram. For example, in the below code, the Customer class depends on a payment object for purchasing. Here payment is a local variable and not an attribute."
      ],
      "metadata": {
        "id": "gs2A2uvhG7tt"
      }
    },
    {
      "cell_type": "code",
      "source": [
        "class Customer:\n",
        "    def __init__(self, name, age, phone_no):\n",
        "        self.name = name\n",
        "        self.age = age\n",
        "        self.phone_no = phone_no\n",
        "\n",
        "    def purchase(self, payment):\n",
        "        if payment.type == \"card\":\n",
        "            print (\"Paying by card\")\n",
        "        elif payment.type == \"e-wallet\":\n",
        "            print (\"Paying by wallet\")\n",
        "        else:\n",
        "            print (\"Paying by cash\")\n",
        "\n",
        "class Payment:\n",
        "    def __init__(self, type):\n",
        "        self.type = type\n",
        "\n",
        "payment1=Payment(\"card\")\n",
        "c=Customer(\"Jack\",23,1234)\n",
        "c.purchase(payment1)\n"
      ],
      "metadata": {
        "colab": {
          "base_uri": "https://localhost:8080/"
        },
        "id": "EJnOHaFxHFuF",
        "outputId": "94c3084d-7e12-4614-90aa-4f6ad5cc6f1e"
      },
      "execution_count": 9,
      "outputs": [
        {
          "output_type": "stream",
          "name": "stdout",
          "text": [
            "Paying by card\n"
          ]
        }
      ]
    },
    {
      "cell_type": "markdown",
      "source": [
        "Apart from an object being passed as a parameter to the method, an object can also be created locally inside a method. This is also a weaker dependency which does not reflect in the class diagram."
      ],
      "metadata": {
        "id": "CByiZnKCHS4_"
      }
    },
    {
      "cell_type": "code",
      "source": [
        "#Object creation\n",
        "class Customer:\n",
        "    def __init__(self, name,cust_type,bill):\n",
        "        self.name = name\n",
        "        self.bill = bill\n",
        "        self.cust_type=cust_type\n",
        "\n",
        "    def calulate_bill(self):\n",
        "        tax1=Tax(self.cust_type)\n",
        "        final_bill=self.bill*tax1.tax_details(self.cust_type)\n",
        "        return final_bill\n",
        "\n",
        "class Tax:\n",
        "    def __init__(self,cust_type):\n",
        "        self.cust_type=cust_type\n",
        "\n",
        "    def tax_details(self,cust_type):\n",
        "        if(cust_type==\"Student\"):\n",
        "            return 5\n",
        "        else:\n",
        "            return 10\n",
        "\n",
        "cust1=Customer(\"Maddy\",\"Student\",100)\n",
        "print(cust1.calulate_bill())\n"
      ],
      "metadata": {
        "colab": {
          "base_uri": "https://localhost:8080/"
        },
        "id": "oblNMoBtHUs3",
        "outputId": "3c3193c8-26ca-4e4d-b2cc-c9d16e80506c"
      },
      "execution_count": 10,
      "outputs": [
        {
          "output_type": "stream",
          "name": "stdout",
          "text": [
            "500\n"
          ]
        }
      ]
    },
    {
      "cell_type": "markdown",
      "source": [
        "The static attributes or methods of another class can be accessed directly inside the class. This also is a weaker relationship."
      ],
      "metadata": {
        "id": "120dSHXbHvJe"
      }
    },
    {
      "cell_type": "code",
      "source": [
        "#Usage of class attribute\n",
        "class CustomerCare:\n",
        "    helpline=111000\n",
        "\n",
        "class Customer:\n",
        "    def call_support(self):\n",
        "        print(\"Calling \",CustomerCare.helpline)\n",
        "\n",
        "Customer().call_support()\n"
      ],
      "metadata": {
        "colab": {
          "base_uri": "https://localhost:8080/"
        },
        "id": "7g4zLu4hHxH1",
        "outputId": "27295988-8139-42e3-ee7b-ff6a9053e846"
      },
      "execution_count": 11,
      "outputs": [
        {
          "output_type": "stream",
          "name": "stdout",
          "text": [
            "Calling  111000\n"
          ]
        }
      ]
    },
    {
      "cell_type": "code",
      "source": [
        "#Usage of class method\n",
        "class CustomerCare:\n",
        "    __helpline=111000\n",
        "\n",
        "    @classmethod\n",
        "    def get_helpline(cls):\n",
        "        return cls.__helpline\n",
        "\n",
        "class Customer:\n",
        "    def call_support(self):\n",
        "        print(\"Calling \",CustomerCare.get_helpline())\n",
        "\n",
        "Customer().call_support()\n"
      ],
      "metadata": {
        "colab": {
          "base_uri": "https://localhost:8080/"
        },
        "id": "IHt0b9lkH2V6",
        "outputId": "0c0c220b-1ee5-44a2-adb3-828d4b1bcc51"
      },
      "execution_count": 13,
      "outputs": [
        {
          "output_type": "stream",
          "name": "stdout",
          "text": [
            "Calling  111000\n"
          ]
        }
      ]
    },
    {
      "cell_type": "markdown",
      "source": [
        "**Summary**\n",
        "\n",
        "\n",
        "1. Classes can have relationships with other classes.\n",
        "\n",
        "2. In aggregation, one class owns another though they have their own life cycle.\n",
        "\n",
        "3. Aggregation is represented using an diamond symbol in the class diagram.\n",
        "\n",
        "4. If an object is used only in a method of a class as a local variable then it is called as Association.\n",
        "\n",
        "5. As Association is not a strict relationship, it cannot be represented in the class diagram.\n",
        "\n",
        "6. Class variables or methods of one class can also be used inside another class using Association."
      ],
      "metadata": {
        "id": "xoVUwEMFIEnN"
      }
    }
  ]
}