{
  "nbformat": 4,
  "nbformat_minor": 0,
  "metadata": {
    "colab": {
      "provenance": [],
      "authorship_tag": "ABX9TyMlcsteCUtUPx4W4hOVFsmt",
      "include_colab_link": true
    },
    "kernelspec": {
      "name": "python3",
      "display_name": "Python 3"
    },
    "language_info": {
      "name": "python"
    }
  },
  "cells": [
    {
      "cell_type": "markdown",
      "metadata": {
        "id": "view-in-github",
        "colab_type": "text"
      },
      "source": [
        "<a href=\"https://colab.research.google.com/github/roop01/python-tutorials/blob/main/object_oriented_programming/Relations_in_OOP_Excercise.ipynb\" target=\"_parent\"><img src=\"https://colab.research.google.com/assets/colab-badge.svg\" alt=\"Open In Colab\"/></a>"
      ]
    },
    {
      "cell_type": "markdown",
      "source": [
        "# **Relations in OOP - Excercise**\n",
        "\n",
        "1. Freight Pvt. Ltd, a cargo company, forwards cargos/freights between its customers.\n",
        "Freight charges are applied based on weight and distance of the shipment.\n",
        "Write a python program to implement the class diagram given below.\n",
        "\n",
        "**Class** - Customer\n",
        "\n",
        "**Attributes**: customer_id, customer_name, address (Private)\n",
        "\n",
        "**Methods**:\n",
        "\n",
        "    __init__()\n",
        "    validate_customer_id()\n",
        "    get_customer_id()\n",
        "    get_customer_name()\n",
        "    get_address()\n",
        "\n",
        "**Class** - Freight\n",
        "\n",
        "**Attributes**:\n",
        "**Private**: freight_id, recipient_customer, from_customer, weight, distance, frieght_charge,\n",
        "**Public**: counter\n",
        "\n",
        "**Methods**\n",
        "__init__(self,recpCustmer,from_customer,weight,distance)\n",
        "validate_weight()\n",
        "validate_distance()\n",
        "validate_distance()\n",
        "get_freight_id()\n",
        "get_freight_charge()\n",
        "get_reciptent_customer()\n",
        "get_from_customer()\n",
        "get_weight()\n",
        "get_distance()\n"
      ],
      "metadata": {
        "id": "3l54oAoLK7c2"
      }
    },
    {
      "cell_type": "markdown",
      "source": [
        "**Method description:**\n",
        "\n",
        "1. Initialize the value of the class attribute counter to 198 in Freight class\n",
        "\n",
        "2. All validate methods should return true, if validation succeeds. Else, it should return false\n",
        "\n",
        "3. validate_customer_id(): Customer id should be 6 digits and should begin with digit 1\n",
        "\n",
        "4. validate_weight(): Weight should be a multiple of 5\n",
        "\n",
        "5. validate_distance(): Distance should be between 500kms and 5000kms (both inclusive)\n",
        "\n",
        "5. forward_cargo():\n",
        "\n",
        "    Validate from_customer.customer_id, recipient_customer.customer_id, distance and weight of the freight\n",
        "\n",
        "    If valid,\n",
        "\n",
        "        auto-generate freight_id starting from 200 and initialize it. freight_id should be even\n",
        "\n",
        "        calculate freight_charge based on weight (Rs.150/kg) and distance (Rs.60/km)\n",
        "\n",
        "    Else, set freight_charge to 0"
      ],
      "metadata": {
        "id": "HPchkIOxNGqU"
      }
    },
    {
      "cell_type": "code",
      "execution_count": 15,
      "metadata": {
        "colab": {
          "base_uri": "https://localhost:8080/"
        },
        "id": "t3B989n0J6q2",
        "outputId": "302d92ad-fe3a-4cc8-f524-486492583c64"
      },
      "outputs": [
        {
          "output_type": "stream",
          "name": "stdout",
          "text": [
            "Freight id is 200\n",
            "Freight charge is 31500\n",
            "Freight id is 202\n",
            "Freight charge is 54840\n"
          ]
        }
      ],
      "source": [
        "class Customer:\n",
        "    def __init__(self, customer_id, customer_name, address):\n",
        "        self.__customer_id = customer_id\n",
        "        self.__customer_name = customer_name\n",
        "        self.__address = address\n",
        "\n",
        "    def validate_customer_id(self):\n",
        "      cust_id=str(self.get_customer_id())\n",
        "      if len(cust_id) == 6 and cust_id[0] == '1':\n",
        "        return True\n",
        "      else:\n",
        "        return False\n",
        "\n",
        "    def get_customer_id(self):\n",
        "        return self.__customer_id\n",
        "    def get_customer_name(self):\n",
        "        return self.__customer_name\n",
        "    def get_address(self):\n",
        "        return self.__address\n",
        "\n",
        "class Frieght:\n",
        "    counter = 198\n",
        "    def __init__(self, recp_customer, frm_customer, weight, distance):\n",
        "        self.__recipient_customer = recp_customer\n",
        "        self.__from_customer = frm_customer\n",
        "        self.__weight = weight\n",
        "        self.__distance = distance\n",
        "        self.__freight_charge = 0\n",
        "        self.__freight_id = None\n",
        "\n",
        "    def validate_weight(self):\n",
        "      if self.__weight % 5 == 0:\n",
        "        return True\n",
        "      else:\n",
        "        return False\n",
        "\n",
        "    def validate_distance(self):\n",
        "      if self.__distance >= 500 and self.__distance <= 5000:\n",
        "        return True\n",
        "      else:\n",
        "        print(f\"Distance should be between 500kms and 5000kms). Your distance is {self.__distance}\")\n",
        "        return False\n",
        "\n",
        "    def forward_cargo(self):\n",
        "        if (self.__from_customer.validate_customer_id() and self.__recipient_customer.validate_customer_id() and self.validate_distance() and self.validate_weight()):\n",
        "          Frieght.counter += 2\n",
        "          self.__freight_id = Frieght.counter\n",
        "          self.__freight_charge = (self.get_weight() * 150) + (self.get_distance() * 60)\n",
        "        else:\n",
        "          self.__freight_charge = 0\n",
        "\n",
        "    def get_weight(self):\n",
        "        return self.__weight\n",
        "\n",
        "    def get_distance(self):\n",
        "        return self.__distance\n",
        "\n",
        "    def get_reciptent_customer(self):\n",
        "        return self.__recipient_customer\n",
        "\n",
        "    def get_from_customer(self):\n",
        "        return self.__from_customer\n",
        "\n",
        "    def get_freight_id(self):\n",
        "        if self.__freight_id is None:\n",
        "            print(\"Freight id is not generated yet\")\n",
        "        else:\n",
        "            print(f\"Freight id is {self.__freight_id}\")\n",
        "\n",
        "    def get_freight_charge(self):\n",
        "        if self.__freight_charge == 0:\n",
        "            print(\"Freight charge is not calculated yet\")\n",
        "        else:\n",
        "            print(f\"Freight charge is {self.__freight_charge}\")\n",
        "\n",
        "cust1 = Customer('123456',\"Rupali\", \"372 Ranka\")\n",
        "cust2 = Customer('154973',\"Neha\", \"645 Brigade\")\n",
        "\n",
        "f1 = Frieght(cust1, cust1, 10, 500)\n",
        "\n",
        "f1.forward_cargo()\n",
        "\n",
        "f1.get_freight_id()\n",
        "f1.get_freight_charge()\n",
        "\n",
        "cust3 = Customer('123456',\"Rob\", \"373 Ranka\")\n",
        "cust4 = Customer('154973',\"Dan\", \"615 Brigade\")\n",
        "\n",
        "f2 = Frieght(cust3, cust4, 90, 689)\n",
        "\n",
        "f2.forward_cargo()\n",
        "\n",
        "f2.get_freight_id()\n",
        "f2.get_freight_charge()\n",
        "\n",
        "\n",
        ""
      ]
    },
    {
      "cell_type": "markdown",
      "source": [
        "**Excercise 2:**\n",
        "\n",
        "2. Coorg Fruit Farm is a retail chain which sells fruits grown in their orchards in Coorg, India.\n",
        "They want to keep track of customers who buy fruits from them and also the billing process.\n",
        "\n",
        "Write a python program to implement the class diagram given below.\n",
        "\n",
        "![image.png](data:image/png;base64,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)"
      ],
      "metadata": {
        "id": "4QtKoL2bV8y_"
      }
    },
    {
      "cell_type": "markdown",
      "source": [
        "**Class Description:**\n",
        "\n",
        "**FruitInfo class**:\n",
        "1. **fruit_name_list**: Static list which contains the list of fruits available\n",
        "2. **fruit_price_list**: Static list which contains the price/kg of fruits\n",
        "\n",
        "        Fruit Name  Price per Kg\n",
        "\n",
        "        Apple         200\n",
        "\n",
        "        Guava         80\n",
        "\n",
        "        Orange        70\n",
        "\n",
        "        Grape         110\n",
        "        \n",
        "        Sweet Lime    60\n",
        "\n",
        "3. The above two lists have one-to-one correspondence, initialize it with the data given in the table\n",
        "200 80\n",
        "110\n",
        "4. **get_fruit_price(fruit_name)**: Accept a fruit name and return its price/kg. If fruit is not available, return -1\n",
        "**Purchase class:**\n",
        "\n",
        "1. Initialize static variable counter to 101\n",
        "2. **calculate_price()**: Calculate and return total fruit price based on rules given below.\n",
        "\n",
        "  a. For valid fruit name (hint: invoke get_fruit_price(fruit_name)),\n",
        "\n",
        "    1. Calculate price based on price/kg and quantity of the fruit purchased by the customer.\n",
        "    2. If price/kg of the fruit is maximum among the fruits in fruit lists and quantity purchased is more than 1kg, apply 2% discount on calculated price.\n",
        "    3. If price/kg of the fruit is minimum among the fruits in fruit lists and quantity purchased is 5kg or more, apply 5% discount on calculated price.\n",
        "    4. If the customer is a \"wholesale\" customer, provide an additional 10% discount. Apply this discount on already discounted price, if any one of the above two points are applicable. Else apply it on calculated price.\n",
        "    5. Auto-generate purchase id starting from 101 prefixed by \"P\". Example P101,P102 P103 etc.\n",
        "    6. Return final fruit price.\n",
        "\n",
        "  b. Else, return -1.\n",
        "\n",
        "  In the above exercise, static attributes is nothing but class attributes."
      ],
      "metadata": {
        "id": "07dSXA4tYyiY"
      }
    },
    {
      "cell_type": "code",
      "source": [
        "class Customer:\n",
        "    def __init__(self, customer_name, cust_type):\n",
        "        self.__customer_name = customer_name\n",
        "        self.__cust_type= cust_type\n",
        "\n",
        "    def get_customer_name(self):\n",
        "        return self.__customer_name\n",
        "    def get_cust_type(self):\n",
        "        return self.__cust_type\n",
        "\n",
        "class FruitInfo:\n",
        "    __fruit_name_list = [\"apple\", \"guava\", \"orange\", \"grape\", \"sweetLime\"]\n",
        "    __fruit_price_list = [200, 80, 70, 110, 60]\n",
        "\n",
        "    @staticmethod\n",
        "    def get_fruit_price(fruit_name):\n",
        "        if fruit_name.lower().replace(\" \",\"\") in FruitInfo.get_fruit_name_list():\n",
        "          index = FruitInfo.get_fruit_name_list().index(fruit_name.lower().replace(\" \",\"\"))\n",
        "          return FruitInfo.get_fruit_price_list()[index]\n",
        "        else:\n",
        "          return -1\n",
        "\n",
        "    @staticmethod\n",
        "    def get_fruit_name_list():\n",
        "        return FruitInfo.__fruit_name_list\n",
        "\n",
        "    @staticmethod\n",
        "    def get_fruit_price_list():\n",
        "        return FruitInfo.__fruit_price_list\n",
        "\n",
        "class Purchase:\n",
        "      __counter=101\n",
        "      def __init__(self, customer, fruit_name, quantity):\n",
        "        self.__customer = customer\n",
        "        self.__fruit_name = fruit_name\n",
        "        self.__quantity = quantity\n",
        "        self.__purchase_id = None\n",
        "\n",
        "      def calculate_price(self):\n",
        "\n",
        "        total_price=0\n",
        "        fruit_name = self.get_fruit()\n",
        "        quantity = self.get_quantity()\n",
        "        fruit_price = FruitInfo.get_fruit_price(fruit_name)\n",
        "\n",
        "        if fruit_price !=1:\n",
        "            if (fruit_price == max(FruitInfo.get_fruit_price_list())) & quantity > 1:\n",
        "              total_price = fruit_price*quantity\n",
        "              total_price = total_price - (total_price*0.02)\n",
        "            elif (fruit_price == min(FruitInfo.get_fruit_price_list())) & quantity >= 5:\n",
        "              total_price = fruit_price*quantity\n",
        "              total_price = total_price - (total_price*0.05)\n",
        "            else:\n",
        "              total_price = fruit_price*quantity\n",
        "\n",
        "            if (self.get_customer().get_cust_type() == \"wholesale\"):\n",
        "              total_price = total_price - (total_price*0.1)\n",
        "        else:\n",
        "            print(\"Not a valid fruit\")\n",
        "            return -1\n",
        "\n",
        "        self.__purchase_id = \"P\" + str(Purchase.__counter)\n",
        "        Purchase.__counter += 1\n",
        "        return total_price\n",
        "\n",
        "      def get_customer(self):\n",
        "        return self.__customer\n",
        "\n",
        "      def get_quantity(self):\n",
        "        return self.__quantity\n",
        "\n",
        "      def get_fruit(self):\n",
        "        return self.__fruit_name\n",
        "\n",
        "      def get_purchase_id(self):\n",
        "        return self.__purchase_id\n",
        "\n",
        "cust1 = Customer(\"Rupali\", \"wholesale\")\n",
        "cust2 = Customer(\"Ankit\", \"retail\")\n",
        "\n",
        "P1 = Purchase(cust1, \"Apple\", 3)\n",
        "P2 = Purchase(cust1, \"Grape\", 5)\n",
        "\n",
        "print(f\"The total price of {P1.get_fruit()} is {P1.calculate_price()} for purchase ID :{P1.get_purchase_id()}\")\n",
        "print(f\"The total price of {P2.get_fruit()} is {P2.calculate_price()} for purchase ID :{P2.get_purchase_id()}\")\n",
        "\n",
        "\n"
      ],
      "metadata": {
        "colab": {
          "base_uri": "https://localhost:8080/"
        },
        "id": "LcuVhaooYnG4",
        "outputId": "45bbc666-c9ef-4d1d-acd0-52f2f07a04f8"
      },
      "execution_count": 71,
      "outputs": [
        {
          "output_type": "stream",
          "name": "stdout",
          "text": [
            "The total price of Apple is 540.0 for purchase ID :P101\n",
            "The total price of Grape is 495.0 for purchase ID :P102\n"
          ]
        }
      ]
    },
    {
      "cell_type": "markdown",
      "source": [
        "**Excercise 3**\n",
        "\n",
        "Care hospital management wants to calculate the charge of lab tests done by its patients.Write a python program to implement the class diagram given below.\n",
        "\n",
        "**Patient**\n",
        "\n",
        "      patient_id\n",
        "      patient_name\n",
        "      list_of_lab_test_ids\n",
        "      lab_test_charge\n",
        "  _init__(patient_id, patient_name, list_of_lab_test_ids)\n",
        "+ calculate_lab_test_charge()\n",
        "+ get_patient_id()\n",
        "+ get_patient_name()\n",
        "+ get_list_of_lab_test_ids()\n",
        "+ get_lab_test_charge()\n",
        "\n",
        "**LabTestRepository**\n",
        "\n",
        "- list_of_hospital_lab_test_ids -> static\n",
        "- list_of_lab_test_charge -> static\n",
        "\n",
        "+ get_test_charge(lab_test_id) -> static\n",
        "\n",
        "**Class Description:**\n",
        "\n",
        "**LabTestRepository class:**\n",
        "1. **list_of_hospital_lab_test_ids**: Static list which contains the list of test ids of lab tests available in the hospital\n",
        "2. **list_of_lab_test_charge**: Static list which contains the charge of the lab tests available in the hospital\n",
        "3. The above two lists have one-to-one correspondence\n",
        "4. **get_test_charge(lab_test_id)**: Accept a lab test id and return the corresponding lab test charge. If lab test id is invalid, return -1\n",
        "\n",
        "**Patient class:**\n",
        "\n",
        "1. **list_of_lab_test_ids:** Instance variable which contains the list of test ids of lab tests done by the patient\n",
        "2. **calculate_lab_test_charge()**: Calculate total charge of the lab tests done by the patient\n",
        "        a. Calculate total lab test charge based on test charge of each lab test done by the patient\n",
        "        b. If any lab test id provided by the patient is invalid, consider its charge to be 0\n",
        "        c. Initialize attribute, lab_test_charge with the total lab test charge\n",
        "Note: Perform case sensitive string comparison"
      ],
      "metadata": {
        "id": "U6aRpMaGtaJi"
      }
    },
    {
      "cell_type": "code",
      "source": [
        "\n",
        "\n",
        "class LabTestRepository:\n",
        "    __list_of_hospital_lab_test_ids = [\"L01\", \"L02\", \"L03\", \"L04\", \"L05\", \"L06\"]\n",
        "    __list_of_lab_test_charge = [1000, 2000, 3000, 500, 900, 2500]\n",
        "\n",
        "    def get_test_charge(self, lab_test_id):\n",
        "        for i in range(len(LabTestRepository.__list_of_hospital_lab_test_ids)):\n",
        "          if lab_test_id == LabTestRepository.__list_of_hospital_lab_test_ids[i]:\n",
        "              return LabTestRepository.__list_of_lab_test_charge[i]\n",
        "          else:\n",
        "              continue\n",
        "        else:\n",
        "          return -1\n",
        "\n",
        "\n",
        "    #def get_test_charge(self, lab_test_id):\n",
        "    #    if lab_test_id in LabTestRepository.__list_of_hospital_lab_test_ids:\n",
        "    #      return LabTestRepository.__list_of_lab_test_charge[LabTestRepository.__list_of_hospital_lab_test_ids.index(lab_test_id)]\n",
        "    #    else:\n",
        "    #        return -1\n",
        "\n",
        "\n",
        "class Patient:\n",
        "    list_of_lab_test_ids=[]\n",
        "    def __init__(self, patient_id, patient_name, list_of_lab_test_ids):\n",
        "        self.__patient_id = patient_id\n",
        "        self.__patient_name = patient_name\n",
        "        self.__list_of_lab_test_ids = list_of_lab_test_ids\n",
        "        self.__lab_test_charge = 0\n",
        "\n",
        "    def get_patient_id(self):\n",
        "        return self.__patient_id\n",
        "\n",
        "    def get_patient_name(self):\n",
        "        return self.__patient_name\n",
        "\n",
        "    def get_list_of_lab_test_ids(self):\n",
        "        return self.__list_of_lab_test_ids\n",
        "\n",
        "    def calculate_lab_test_charge(self):\n",
        "        if len(self.get_list_of_lab_test_ids()) == 0:\n",
        "          return -1\n",
        "        for lab_test_id in self.get_list_of_lab_test_ids():\n",
        "          test_charge = LabTestRepository().get_test_charge(lab_test_id)\n",
        "          if test_charge == -1:\n",
        "            self.__lab_test_charge += 0\n",
        "          else:\n",
        "            self.__lab_test_charge += test_charge\n",
        "\n",
        "    def get_lab_test_charge(self):\n",
        "        return self.__lab_test_charge\n",
        "\n",
        "lab_test_list1 = [\"L101\", \"L103\", \"L104\", 'L105']\n",
        "p1 = Patient(1010, \"Rupali\", lab_test_list1)\n",
        "p1.calculate_lab_test_charge()\n",
        "print(f\"Patient id: {p1.get_patient_id()} \\nPatient name: {p1.get_patient_name()} \\nPatient's test ids: {p1.get_list_of_lab_test_ids()} \\nTotal lab test charge: {p1.get_lab_test_charge()}\")\n"
      ],
      "metadata": {
        "colab": {
          "base_uri": "https://localhost:8080/"
        },
        "id": "tegIFaXntZnT",
        "outputId": "5d7af454-eac2-43dc-b540-a16a0190d99b"
      },
      "execution_count": 60,
      "outputs": [
        {
          "output_type": "stream",
          "name": "stdout",
          "text": [
            "Patient id: 1010 \n",
            "Patient name: Rupali \n",
            "Patient's test ids: ['L101', 'L103', 'L104', 'L105'] \n",
            "Total lab test charge: 0\n"
          ]
        }
      ]
    },
    {
      "cell_type": "code",
      "source": [
        "class Mobile:\n",
        "    def __init__(self,brand,case):\n",
        "        self.brand=brand\n",
        "        self.case=case\n",
        "    def display(self):\n",
        "        print(self.case.color)\n",
        "\n",
        "class Case:\n",
        "    def __init__(self,color):\n",
        "        self.color=color\n",
        "c1=Case(\"Black\")\n",
        "c2=Case(\"White\")\n",
        "m1=Mobile(\"Hony\",c1)\n",
        "c1.color=\"Green\"\n",
        "m1.display()"
      ],
      "metadata": {
        "colab": {
          "base_uri": "https://localhost:8080/"
        },
        "id": "lTuAIfwv5_gq",
        "outputId": "37b91562-1c4d-4cde-9ce8-fa652f5b8327"
      },
      "execution_count": 61,
      "outputs": [
        {
          "output_type": "stream",
          "name": "stdout",
          "text": [
            "Green\n"
          ]
        }
      ]
    },
    {
      "cell_type": "code",
      "source": [
        "class Customer:\n",
        "    def __init__(self,name,mobile):\n",
        "        self.name=name\n",
        "        self.mobile=mobile\n",
        "class Mobile:\n",
        "    def __init__(self,brand):\n",
        "        self.brand=brand\n",
        "    def unlock(self,cover):\n",
        "        print(cover.color)\n",
        "class Cover:\n",
        "    def __init__(self):\n",
        "        self.__color=\"red\"\n",
        "Customer(\"Cus1\",Mobile(\"Apple\")).mobile.unlock(Cover())"
      ],
      "metadata": {
        "colab": {
          "base_uri": "https://localhost:8080/",
          "height": 297
        },
        "id": "4f3Iyca_6CYO",
        "outputId": "569fb89c-933b-48ea-ee18-b397e6469eef"
      },
      "execution_count": 62,
      "outputs": [
        {
          "output_type": "error",
          "ename": "AttributeError",
          "evalue": "'Cover' object has no attribute 'color'",
          "traceback": [
            "\u001b[0;31m---------------------------------------------------------------------------\u001b[0m",
            "\u001b[0;31mAttributeError\u001b[0m                            Traceback (most recent call last)",
            "\u001b[0;32m<ipython-input-62-5160c4071c74>\u001b[0m in \u001b[0;36m<cell line: 13>\u001b[0;34m()\u001b[0m\n\u001b[1;32m     11\u001b[0m     \u001b[0;32mdef\u001b[0m \u001b[0m__init__\u001b[0m\u001b[0;34m(\u001b[0m\u001b[0mself\u001b[0m\u001b[0;34m)\u001b[0m\u001b[0;34m:\u001b[0m\u001b[0;34m\u001b[0m\u001b[0;34m\u001b[0m\u001b[0m\n\u001b[1;32m     12\u001b[0m         \u001b[0mself\u001b[0m\u001b[0;34m.\u001b[0m\u001b[0m__color\u001b[0m\u001b[0;34m=\u001b[0m\u001b[0;34m\"red\"\u001b[0m\u001b[0;34m\u001b[0m\u001b[0;34m\u001b[0m\u001b[0m\n\u001b[0;32m---> 13\u001b[0;31m \u001b[0mCustomer\u001b[0m\u001b[0;34m(\u001b[0m\u001b[0;34m\"Cus1\"\u001b[0m\u001b[0;34m,\u001b[0m\u001b[0mMobile\u001b[0m\u001b[0;34m(\u001b[0m\u001b[0;34m\"Apple\"\u001b[0m\u001b[0;34m)\u001b[0m\u001b[0;34m)\u001b[0m\u001b[0;34m.\u001b[0m\u001b[0mmobile\u001b[0m\u001b[0;34m.\u001b[0m\u001b[0munlock\u001b[0m\u001b[0;34m(\u001b[0m\u001b[0mCover\u001b[0m\u001b[0;34m(\u001b[0m\u001b[0;34m)\u001b[0m\u001b[0;34m)\u001b[0m\u001b[0;34m\u001b[0m\u001b[0;34m\u001b[0m\u001b[0m\n\u001b[0m",
            "\u001b[0;32m<ipython-input-62-5160c4071c74>\u001b[0m in \u001b[0;36munlock\u001b[0;34m(self, cover)\u001b[0m\n\u001b[1;32m      7\u001b[0m         \u001b[0mself\u001b[0m\u001b[0;34m.\u001b[0m\u001b[0mbrand\u001b[0m\u001b[0;34m=\u001b[0m\u001b[0mbrand\u001b[0m\u001b[0;34m\u001b[0m\u001b[0;34m\u001b[0m\u001b[0m\n\u001b[1;32m      8\u001b[0m     \u001b[0;32mdef\u001b[0m \u001b[0munlock\u001b[0m\u001b[0;34m(\u001b[0m\u001b[0mself\u001b[0m\u001b[0;34m,\u001b[0m\u001b[0mcover\u001b[0m\u001b[0;34m)\u001b[0m\u001b[0;34m:\u001b[0m\u001b[0;34m\u001b[0m\u001b[0;34m\u001b[0m\u001b[0m\n\u001b[0;32m----> 9\u001b[0;31m         \u001b[0mprint\u001b[0m\u001b[0;34m(\u001b[0m\u001b[0mcover\u001b[0m\u001b[0;34m.\u001b[0m\u001b[0mcolor\u001b[0m\u001b[0;34m)\u001b[0m\u001b[0;34m\u001b[0m\u001b[0;34m\u001b[0m\u001b[0m\n\u001b[0m\u001b[1;32m     10\u001b[0m \u001b[0;32mclass\u001b[0m \u001b[0mCover\u001b[0m\u001b[0;34m:\u001b[0m\u001b[0;34m\u001b[0m\u001b[0;34m\u001b[0m\u001b[0m\n\u001b[1;32m     11\u001b[0m     \u001b[0;32mdef\u001b[0m \u001b[0m__init__\u001b[0m\u001b[0;34m(\u001b[0m\u001b[0mself\u001b[0m\u001b[0;34m)\u001b[0m\u001b[0;34m:\u001b[0m\u001b[0;34m\u001b[0m\u001b[0;34m\u001b[0m\u001b[0m\n",
            "\u001b[0;31mAttributeError\u001b[0m: 'Cover' object has no attribute 'color'"
          ]
        }
      ]
    },
    {
      "cell_type": "code",
      "source": [
        "class Customer:\n",
        "    def __init__(self,name,mobile):\n",
        "        self.name=name\n",
        "        self.mobile=mobile\n",
        "class Mobile:\n",
        "    def __init__(self,brand):\n",
        "        self.brand=brand\n",
        "    def unlock(self,cover):\n",
        "        cover.color=\"yellow\"\n",
        "class Cover:\n",
        "    def __init__(self):\n",
        "        self.color=\"red\"\n",
        "Customer(\"Cus1\",Mobile(\"Apple\")).mobile.unlock(Cover())\n",
        "print(Cover().color)"
      ],
      "metadata": {
        "colab": {
          "base_uri": "https://localhost:8080/"
        },
        "id": "iP1QErnh6F2W",
        "outputId": "b2a703ab-4e52-41ca-9b1d-cf5657cb109f"
      },
      "execution_count": 63,
      "outputs": [
        {
          "output_type": "stream",
          "name": "stdout",
          "text": [
            "red\n"
          ]
        }
      ]
    }
  ]
}