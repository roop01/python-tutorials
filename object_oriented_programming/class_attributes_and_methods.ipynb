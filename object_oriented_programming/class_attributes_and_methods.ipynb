{
  "nbformat": 4,
  "nbformat_minor": 0,
  "metadata": {
    "colab": {
      "provenance": [],
      "authorship_tag": "ABX9TyNP4VGSVdr+IbSSug5fNblH",
      "include_colab_link": true
    },
    "kernelspec": {
      "name": "python3",
      "display_name": "Python 3"
    },
    "language_info": {
      "name": "python"
    }
  },
  "cells": [
    {
      "cell_type": "markdown",
      "metadata": {
        "id": "view-in-github",
        "colab_type": "text"
      },
      "source": [
        "<a href=\"https://colab.research.google.com/github/roop01/python-tutorials/blob/main/object_oriented_programming/class_attributes_and_methods.ipynb\" target=\"_parent\"><img src=\"https://colab.research.google.com/assets/colab-badge.svg\" alt=\"Open In Colab\"/></a>"
      ]
    },
    {
      "cell_type": "markdown",
      "source": [
        "# **Class Attributes and Methods:**\n",
        "\n",
        "How to write code so that all mobile objects get a 50% off? One solution is to create a discount attribute and hard code the value as 50%."
      ],
      "metadata": {
        "id": "4mY5iD-MgZLA"
      }
    },
    {
      "cell_type": "code",
      "execution_count": 2,
      "metadata": {
        "colab": {
          "base_uri": "https://localhost:8080/"
        },
        "id": "fH1aBfxIgOSt",
        "outputId": "0cb52b90-def6-4e9d-8417-93a6012aa9b3"
      },
      "outputs": [
        {
          "output_type": "stream",
          "name": "stdout",
          "text": [
            "Apple mobile with price 20000 is available after discount at 10000.0\n",
            "Apple mobile with price 30000 is available after discount at 15000.0\n",
            "Samsung mobile with price 5000 is available after discount at 2500.0\n"
          ]
        }
      ],
      "source": [
        "class Mobile:\n",
        "    def __init__(self, price, brand):\n",
        "        self.price = price\n",
        "        self.brand = brand\n",
        "        self.discount = 50\n",
        "    def purchase(self):\n",
        "        total = self.price - self.price * self.discount / 100\n",
        "        print (self.brand, \"mobile with price\", self.price, \"is available after discount at\", total)\n",
        "mob1=Mobile(20000, \"Apple\")\n",
        "mob2=Mobile(30000, \"Apple\")\n",
        "mob3=Mobile(5000, \"Samsung\")\n",
        "mob1.purchase()\n",
        "mob2.purchase()\n",
        "mob3.purchase()\n"
      ]
    },
    {
      "cell_type": "markdown",
      "source": [
        "However, the solution of hardcoding the value in the attribute is not a good one. For example, since this is a limited time discount, it should be programmatically enabled and disabled using functions like this:"
      ],
      "metadata": {
        "id": "fh8NreB2jSHk"
      }
    },
    {
      "cell_type": "code",
      "source": [
        "class Mobile:\n",
        "    def __init__(self, price, brand):\n",
        "        self.price = price\n",
        "        self.brand = brand\n",
        "        self.discount = 0\n",
        "\n",
        "    def purchase(self):\n",
        "        total = self.price - self.price * self.discount / 100\n",
        "        print (self.brand, \"mobile with price\", self.price, \"is available after discount at\", total)\n",
        "\n",
        "def enable_discount(list_of_mobiles):\n",
        "    for mobile in list_of_mobiles:\n",
        "        mobile.discount=50\n",
        "\n",
        "def disable_discount(list_of_mobiles):\n",
        "    for mobile in list_of_mobiles:\n",
        "        mobile.discount=0\n",
        "\n",
        "mob1=Mobile(20000, \"Apple\")\n",
        "mob2=Mobile(30000, \"Apple\")\n",
        "mob3=Mobile(5000, \"Samsung\")\n",
        "mob4=Mobile(6000, \"Samsung\")\n",
        "\n",
        "list_of_mobiles=[mob1,mob2,mob3,mob4]\n",
        "mob1.purchase()\n",
        "enable_discount(list_of_mobiles)\n",
        "mob2.purchase()\n",
        "mob3.purchase()\n",
        "disable_discount(list_of_mobiles)\n",
        "mob4.purchase()\n"
      ],
      "metadata": {
        "colab": {
          "base_uri": "https://localhost:8080/"
        },
        "id": "Q2V09iXJjT9o",
        "outputId": "26b30b2a-683d-4dc7-e0fc-552d5a1dce8c"
      },
      "execution_count": 3,
      "outputs": [
        {
          "output_type": "stream",
          "name": "stdout",
          "text": [
            "Apple mobile with price 20000 is available after discount at 20000.0\n",
            "Apple mobile with price 30000 is available after discount at 15000.0\n",
            "Samsung mobile with price 5000 is available after discount at 2500.0\n",
            "Samsung mobile with price 6000 is available after discount at 6000.0\n"
          ]
        }
      ]
    },
    {
      "cell_type": "markdown",
      "source": [
        "But in the current approach, each object has discount as an attribute. If the value for one object is changed, it does not affect the other object. If change is required then it must be changed for objects, one by one.\n",
        "\n",
        "What is needed is a way to make an attribute shared across objects. The data is shared by all objects, not owned by each object. Thus, by making a single change, it should reflect in all objects at one go.\n",
        "\n",
        "Shared attributes can be created by placing them directly inside the class and not inside the constructor. And since this attribute is not owned by any one object, **self is not required to create this attribute**. Such variables which are created at a class level are called **class variables**. Here discount is a class variable.\n"
      ],
      "metadata": {
        "id": "9PZdDBjdpDnC"
      }
    },
    {
      "cell_type": "code",
      "source": [
        "class Mobile:\n",
        "    discount = 50\n",
        "    def __init__(self, price, brand):\n",
        "        self.price = price\n",
        "        self.brand = brand\n"
      ],
      "metadata": {
        "id": "l8GNAM5_px2i"
      },
      "execution_count": 4,
      "outputs": []
    },
    {
      "cell_type": "markdown",
      "source": [
        "Now that class variables are created, they can be accessed **using the Class name** itself. Class variables belong to the class and not an object. Hence self is not required to access class variables."
      ],
      "metadata": {
        "id": "IjEBj5fYp6JP"
      }
    },
    {
      "cell_type": "code",
      "source": [
        "class Mobile:\n",
        "    discount = 50\n",
        "    def __init__(self, price, brand):\n",
        "        self.price = price\n",
        "        self.brand = brand\n",
        "\n",
        "    def purchase(self):\n",
        "        total = self.price - self.price * Mobile.discount / 100\n",
        "        print (self.brand, \"mobile with price\", self.price, \"is available after discount at\", total)\n",
        "\n",
        "print(\"Discount percent on Mobiles: \",Mobile.discount)\n",
        "\n",
        "mob1=Mobile(20000, \"Apple\")\n",
        "mob2=Mobile(30000, \"Apple\")\n",
        "mob3=Mobile(5000, \"Samsung\")\n",
        "\n",
        "mob1.purchase()\n",
        "mob2.purchase()\n",
        "mob3.purchase()\n"
      ],
      "metadata": {
        "colab": {
          "base_uri": "https://localhost:8080/"
        },
        "id": "8GieByGop7w2",
        "outputId": "2de93413-c6db-45ab-88b7-c1cbb4fbc1ff"
      },
      "execution_count": 7,
      "outputs": [
        {
          "output_type": "stream",
          "name": "stdout",
          "text": [
            "Discount percent on Mobiles:  50\n",
            "Apple mobile with price 20000 is available after discount at 10000.0\n",
            "Apple mobile with price 30000 is available after discount at 15000.0\n",
            "Samsung mobile with price 5000 is available after discount at 2500.0\n"
          ]
        }
      ]
    },
    {
      "cell_type": "markdown",
      "source": [
        "The value of a class attribute can be modified using the class name."
      ],
      "metadata": {
        "id": "TgHtPaIfq1XR"
      }
    },
    {
      "cell_type": "code",
      "source": [
        "class Mobile:\n",
        "    discount = 50\n",
        "\n",
        "    def __init__(self, price, brand):\n",
        "        self.price = price\n",
        "        self.brand = brand\n",
        "\n",
        "    def purchase(self):\n",
        "        total = self.price - self.price * Mobile.discount / 100\n",
        "        print (self.brand, \"mobile with price\", self.price, \"is available after discount at\", total)\n",
        "\n",
        "def enable_discount():\n",
        "    Mobile.discount = 50\n",
        "def disable_discount():\n",
        "    Mobile.discount = 0\n",
        "\n",
        "mob1=Mobile(20000, \"Apple\")\n",
        "mob2=Mobile(30000, \"Apple\")\n",
        "mob3=Mobile(5000, \"Samsung\")\n",
        "\n",
        "enable_discount()\n",
        "mob1.purchase()\n",
        "mob2.purchase()\n",
        "disable_discount()\n",
        "mob3.purchase()\n"
      ],
      "metadata": {
        "colab": {
          "base_uri": "https://localhost:8080/"
        },
        "id": "i_T9INJFqZIA",
        "outputId": "662bb683-87eb-4a0e-b18e-f6ea2ccdaf0e"
      },
      "execution_count": 6,
      "outputs": [
        {
          "output_type": "stream",
          "name": "stdout",
          "text": [
            "Apple mobile with price 20000 is available after discount at 10000.0\n",
            "Apple mobile with price 30000 is available after discount at 15000.0\n",
            "Samsung mobile with price 5000 is available after discount at 5000.0\n"
          ]
        }
      ]
    },
    {
      "cell_type": "markdown",
      "source": [
        "**Note:** Class variables belong to the class and hence it is incorrect to update them using the object reference variable or self. Doing so may cause unexpected consequences in the code and should be refrained from.\n",
        "\n",
        "Class variables can be made as **private** by adding a double underscore in front of it and create getter and setter methods to access or modify it.\n",
        "\n",
        "In the below code, the getter method has been invoked by using a reference variable. But the self is not used inside the method at all."
      ],
      "metadata": {
        "id": "BVLwcHI-su8O"
      }
    },
    {
      "cell_type": "code",
      "source": [
        "class Mobile:\n",
        "    __discount = 50\n",
        "    def get_discount(self):\n",
        "        return Mobile.__discount\n",
        "    def set_discount(self,discount):\n",
        "        Mobile.__discount = discount\n",
        "m1=Mobile()\n",
        "print(m1.get_discount())\n"
      ],
      "metadata": {
        "colab": {
          "base_uri": "https://localhost:8080/"
        },
        "id": "z6Xq23O4tJtw",
        "outputId": "6e3ba6dd-8053-44bc-bf9a-7b91ae4f6bb8"
      },
      "execution_count": 9,
      "outputs": [
        {
          "output_type": "stream",
          "name": "stdout",
          "text": [
            "50\n"
          ]
        }
      ]
    },
    {
      "cell_type": "code",
      "source": [
        "class Mobile:\n",
        "    __discount = 50\n",
        "    def __init__(self, price, brand):\n",
        "      self.price = price\n",
        "      self.brand = brand\n",
        "\n",
        "    def set_discout(self, discount):\n",
        "        Mobile.__discount = discount\n",
        "    def get_discount(self):\n",
        "        return Mobile.__discount\n",
        "\n",
        "    def purchase(self):\n",
        "        total_price = self.price -self.price*Mobile.__discount/100\n",
        "        print(self.brand, \"mobile with price\", self.price, \"is available after discount at\", total_price)\n",
        "\n",
        "mob1=Mobile(20000, \"Apple\")\n",
        "mob2=Mobile(30000, \"Apple\")\n",
        "mob3=Mobile(5000, \"Samsung\")\n",
        "mob1.purchase()\n",
        "mob2.purchase()\n",
        "mob3.purchase()\n"
      ],
      "metadata": {
        "colab": {
          "base_uri": "https://localhost:8080/"
        },
        "id": "UQfH5qlJtf81",
        "outputId": "796fc528-1ead-4535-8153-1bd5b522a69a"
      },
      "execution_count": 11,
      "outputs": [
        {
          "output_type": "stream",
          "name": "stdout",
          "text": [
            "Apple mobile with price 20000 is available after discount at 10000.0\n",
            "Apple mobile with price 30000 is available after discount at 15000.0\n",
            "Samsung mobile with price 5000 is available after discount at 2500.0\n"
          ]
        }
      ]
    },
    {
      "cell_type": "markdown",
      "source": [
        "Since a class variable is independent of the object, a way is needed to access the getter/setter methods without an object. This is possible by creating class methods. Class methods can be accessed without an object. They are accessed using the class name. Just like instance methods take the object reference as the first argument called self, the first argument to a class method is the reference of the class itself called ​​​​​​​cls.\n",
        "\n",
        "There are two rules in creating such class methods:\n",
        "\n",
        "1. Definitions of these methods should be prefixed with **@classmethod**\n",
        "\n",
        "2. The methods should not have self. Instead, they should have the class reference cls as the first argument to the class method"
      ],
      "metadata": {
        "id": "wMHB9lAdulhp"
      }
    },
    {
      "cell_type": "code",
      "source": [
        "@classmethod\n",
        "def set_discount(cls, discount):\n",
        "    cls.__discount = discount\n",
        "\n",
        "@classmethod\n",
        "def get_discount(cls):\n",
        "    return cls.__discount\n"
      ],
      "metadata": {
        "id": "zGYjphegvjMq"
      },
      "execution_count": 13,
      "outputs": []
    },
    {
      "cell_type": "markdown",
      "source": [
        "Class methods can be accessed directly by using the class name, even without creating objects."
      ],
      "metadata": {
        "id": "HeKXlEP3xdyd"
      }
    },
    {
      "cell_type": "code",
      "source": [
        "class Mobile:\n",
        "    __discount = 50\n",
        "    def __init__(self, price, brand):\n",
        "        self.price = price\n",
        "        self.brand = brand\n",
        "    def purchase(self):\n",
        "        total = self.price - self.price * Mobile.__discount / 100\n",
        "        print (\"Total is \",total)\n",
        "    @classmethod\n",
        "    def get_discount(cls):\n",
        "        return cls.__discount\n",
        "    @classmethod\n",
        "    def set_discount(cls, discount):\n",
        "        cls.__discount = discount\n",
        "print(Mobile.get_discount())\n"
      ],
      "metadata": {
        "colab": {
          "base_uri": "https://localhost:8080/"
        },
        "id": "S9AGjsHwxfGR",
        "outputId": "0aee2056-79e6-4934-ec30-3ade7e8192db"
      },
      "execution_count": 14,
      "outputs": [
        {
          "output_type": "stream",
          "name": "stdout",
          "text": [
            "50\n"
          ]
        }
      ]
    },
    {
      "cell_type": "code",
      "source": [
        "class Mobile:\n",
        "    __discount = 50\n",
        "\n",
        "    def __init__(self, price, brand):\n",
        "        self.price = price\n",
        "        self.brand = brand\n",
        "\n",
        "    def purchase(self):\n",
        "        total = self.price - self.price * Mobile.__discount / 100\n",
        "        print (self.brand, \"mobile with price\", self.price, \"is available after discount at\", total)\n",
        "\n",
        "    @classmethod\n",
        "    def enable_discount(cls):\n",
        "        cls.set_discount(50)\n",
        "\n",
        "    @classmethod\n",
        "    def disable_discount(cls):\n",
        "        cls.set_discount(0)\n",
        "\n",
        "    @classmethod\n",
        "    def get_discount(cls):\n",
        "        return cls.__discount\n",
        "\n",
        "    @classmethod\n",
        "    def set_discount(cls, discount):\n",
        "        cls.__discount = discount\n",
        "\n",
        "mob1=Mobile(20000, \"Apple\")\n",
        "mob2=Mobile(30000, \"Apple\")\n",
        "mob3=Mobile(5000, \"Samsung\")\n",
        "\n",
        "Mobile.disable_discount()\n",
        "mob1.purchase()\n",
        "\n",
        "Mobile.enable_discount()\n",
        "mob2.purchase()\n",
        "\n",
        "Mobile.disable_discount()\n",
        "mob3.purchase()\n"
      ],
      "metadata": {
        "colab": {
          "base_uri": "https://localhost:8080/"
        },
        "id": "y4v6g6Efxk_z",
        "outputId": "f8ac6434-6548-4310-fdf3-bc9927b6ea7d"
      },
      "execution_count": 15,
      "outputs": [
        {
          "output_type": "stream",
          "name": "stdout",
          "text": [
            "Apple mobile with price 20000 is available after discount at 20000.0\n",
            "Apple mobile with price 30000 is available after discount at 15000.0\n",
            "Samsung mobile with price 5000 is available after discount at 5000.0\n"
          ]
        }
      ]
    },
    {
      "cell_type": "markdown",
      "source": [
        "Sometimes, in a class, a method may be defined that **neither accesses the class attributes nor the instance attributes**. These methods are generic utility functions defined within the scope of a class. Such methods are called **static** methods. Just like class methods, static methods do not need an object to invoke them. **They are accessed using the class name**.\n",
        "\n",
        "There are two rules in creating such static methods:\n",
        "\n",
        "1. Definitions of these methods should be prefixed with **@staticmethod**\n",
        "\n",
        "2. The methods should neither have self nor cls as the first argument. Instead, **they can have zero or more arguments just like any other Python function**\n",
        "\n",
        "​​​​​​​​​​​​​​Consider a scenario where tax needs to be calculated based on the customer type. For instance, 'member's need to pay only 10% tax while others pay 20% tax. Since the method is based on cust_type which is neither a class attribute nor an instance attribute, this can be treated as a static method. ​​​​​​​"
      ],
      "metadata": {
        "id": "1VqcdGvuya8o"
      }
    },
    {
      "cell_type": "code",
      "source": [
        "@staticmethod\n",
        "def calculate_tax(cust_type):\n",
        "    if cust_type == 'member':\n",
        "      return 0.10\n",
        "    else:\n",
        "      return 0.20"
      ],
      "metadata": {
        "id": "0dtE_Ap7y0dH"
      },
      "execution_count": 16,
      "outputs": []
    },
    {
      "cell_type": "code",
      "source": [
        "class Mobile:\n",
        "    __discount = 50\n",
        "\n",
        "    def __init__(self, price, brand):\n",
        "        self.price = price\n",
        "        self.brand = brand\n",
        "\n",
        "    def purchase(self):\n",
        "        total = self.price - self.price * Mobile.__discount / 100\n",
        "        print (self.brand, \"mobile with price\", self.price, \"is available after discount at\", total)\n",
        "\n",
        "    @classmethod\n",
        "    def enable_discount(cls):\n",
        "        cls.set_discount(50)\n",
        "\n",
        "    @classmethod\n",
        "    def disable_discount(cls):\n",
        "        cls.set_discount(0)\n",
        "\n",
        "    @classmethod\n",
        "    def get_discount(cls):\n",
        "        return cls.__discount\n",
        "\n",
        "    @classmethod\n",
        "    def set_discount(cls, discount):\n",
        "        cls.__discount = discount\n",
        "\n",
        "    @staticmethod\n",
        "    def calculate_tax(cust_type):\n",
        "        if(cust_type=='member'):\n",
        "            return 10\n",
        "        else:\n",
        "            return 20\n",
        "\n",
        "print('Tax percent to be paid by members:',Mobile.calculate_tax('member'))\n",
        "print('Tax percent to be paid by non-members:',Mobile.calculate_tax('non-member'))\n",
        "\n",
        "mob1=Mobile(20000, \"Apple\")\n",
        "mob2=Mobile(30000, \"Apple\")\n",
        "mob3=Mobile(5000, \"Samsung\")\n",
        "\n",
        "Mobile.disable_discount()\n",
        "mob1.purchase()\n",
        "Mobile.enable_discount()\n",
        "mob2.purchase()\n",
        "Mobile.disable_discount()\n",
        "mob3.purchase()\n"
      ],
      "metadata": {
        "colab": {
          "base_uri": "https://localhost:8080/"
        },
        "id": "-avUmIMozRaz",
        "outputId": "2768c1fc-3f95-4382-cffb-6e2827807d79"
      },
      "execution_count": 17,
      "outputs": [
        {
          "output_type": "stream",
          "name": "stdout",
          "text": [
            "Tax percent to be paid by members: 10\n",
            "Tax percent to be paid by non-members: 20\n",
            "Apple mobile with price 20000 is available after discount at 20000.0\n",
            "Apple mobile with price 30000 is available after discount at 15000.0\n",
            "Samsung mobile with price 5000 is available after discount at 5000.0\n"
          ]
        }
      ]
    },
    {
      "cell_type": "markdown",
      "source": [
        "Difference Between **class methods|static methods**\n",
        "\n",
        "1. First argument is mandatory which is cls ​by default, followed by zero or more arguments | Arguments are optional. That is, zero or more arguments can be passed.\n",
        "2. Accesses class attributes within the method |\tDoes not access class or instance attributes\n",
        "3. Can modify state of the class | Cannot modify state of the class\n",
        "4. Used to manipulate class attributes | Used as a generic utility function"
      ],
      "metadata": {
        "id": "_BofcGnCzl9s"
      }
    }
  ]
}