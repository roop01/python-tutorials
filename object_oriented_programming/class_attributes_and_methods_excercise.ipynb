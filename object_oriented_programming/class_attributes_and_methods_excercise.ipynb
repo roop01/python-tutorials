{
  "nbformat": 4,
  "nbformat_minor": 0,
  "metadata": {
    "colab": {
      "provenance": [],
      "authorship_tag": "ABX9TyN9Op3y6awDCtCTm3VLNDvM",
      "include_colab_link": true
    },
    "kernelspec": {
      "name": "python3",
      "display_name": "Python 3"
    },
    "language_info": {
      "name": "python"
    }
  },
  "cells": [
    {
      "cell_type": "markdown",
      "metadata": {
        "id": "view-in-github",
        "colab_type": "text"
      },
      "source": [
        "<a href=\"https://colab.research.google.com/github/roop01/python-tutorials/blob/main/object_oriented_programming/class_attributes_and_methods_excercise.ipynb\" target=\"_parent\"><img src=\"https://colab.research.google.com/assets/colab-badge.svg\" alt=\"Open In Colab\"/></a>"
      ]
    },
    {
      "cell_type": "markdown",
      "source": [
        "# **Class Attributes and Methods**\n",
        "\n",
        "**Excercise 1**\n",
        "\n",
        "Write a python program to find out if a given classroom is present in the left wing of a university building. Implement the class, Classroom given below.\n",
        "\n",
        "    class attribute --> classroom_list\n",
        "    class method --> search_classroom(class_room)\n",
        "\n",
        "**Method/Attribute description:**\n",
        "\n",
        "**classroom_list**: Stores the name of the class rooms in the left wing\n",
        "\n",
        "**search_classroom(class_room)**: Class method which searches for the given class room in the classroom_list. If found, return \"Found\", else return -1\n",
        "\n",
        "Note: Perform case insensitive string comparison"
      ],
      "metadata": {
        "id": "hYqJKnSw0iTf"
      }
    },
    {
      "cell_type": "code",
      "execution_count": 20,
      "metadata": {
        "colab": {
          "base_uri": "https://localhost:8080/"
        },
        "id": "rleRIpWW0gs-",
        "outputId": "eade0545-9413-4f39-da5e-cc7f35fc4f08"
      },
      "outputs": [
        {
          "output_type": "stream",
          "name": "stdout",
          "text": [
            "Found\n"
          ]
        }
      ],
      "source": [
        "class Classroom:\n",
        "    classroom_list = [\"class 1\", \"class 2\", \"class 3\", \"class 4\", \"class 5\"]\n",
        "\n",
        "    @classmethod\n",
        "    def search_classroom(cls, class_room):\n",
        "      if class_room.lower() in cls.classroom_list:\n",
        "        return \"Found\"\n",
        "      else:\n",
        "        return \"Not found\"\n",
        "\n",
        "print(Classroom.search_classroom(\"CLASS 3\"))\n"
      ]
    },
    {
      "cell_type": "markdown",
      "source": [
        "2. Write a Python program to generate tickets for online bus booking, based on the class diagram given below.\n",
        "\n",
        "**Class Name :** Ticket\n",
        "\n",
        "**Attributes:** passenger_name, ticket_id, source, destination, counter\n",
        "\n",
        "**Method:**\n",
        "\n",
        "    init,\n",
        "    validate_source_destination()\n",
        "    generate_ticket()\n",
        "    get_ticket_id()\n",
        "    get_source()\n",
        "    get_destination()\n",
        "    get_passenger_name()\n",
        "\n",
        "\n",
        "\n",
        "**Method description:**\n",
        "\n",
        "1. Initialize the class variable counter to 0\n",
        "\n",
        "2. validate_source_destination(): Validate source and destination. source must always be Delhi and destination can be either Mumbai, Chennai, Pune or Kolkata. If both are valid, return true. Else, return false\n",
        "\n",
        "3. generate_ticket(): Validate source and destination class attribute\n",
        "\n",
        "  If valid, generate ticket id and assign it to attribute ticket_id. Ticket id should be generated with the first letter of source followed by first letter of the destination followed by an auto-generated value starting from 01 (Ex: DM01, DP02, ...., DK10, DC11)\n",
        "\n",
        "  Else, set the ticket_id value to None\n",
        "\n",
        "Note: Perform case insensitive string comparison\n"
      ],
      "metadata": {
        "id": "FvAH4AsY5Yw3"
      }
    },
    {
      "cell_type": "code",
      "source": [
        "class Ticket:\n",
        "    counter = 0\n",
        "    valid_destinations = [\"mumbai\", \"chennai\", \"pune\", \"kolkata\"]\n",
        "    def __init__(self, passenger_name, source, destination):\n",
        "        self.__passenger_name = passenger_name\n",
        "        self.__source = source\n",
        "        self.__destination = destination\n",
        "\n",
        "    def validate_source_destination(self):\n",
        "        if self.__source.lower() == \"delhi\":\n",
        "          if self.__destination.lower() in Ticket.valid_destinations:\n",
        "            return True\n",
        "          else:\n",
        "              return False\n",
        "        else:\n",
        "            return False\n",
        "\n",
        "    def generate_ticket(self):\n",
        "        if self.validate_source_destination():\n",
        "            Ticket.counter += 1\n",
        "            self.__ticket_id = self.__source[0].upper() + self.__destination[0].upper()  + str(Ticket.counter).zfill(2)\n",
        "            return self.__ticket_id\n",
        "        else:\n",
        "            self.__ticket_id = None\n",
        "            return self.__ticket_id\n",
        "\n",
        "    def get_ticket_id(self):\n",
        "        return self.__ticket_id\n",
        "\n",
        "    def get_source(self):\n",
        "        return self.__source\n",
        "\n",
        "    def get_destination(self):\n",
        "        return self.__destination\n",
        "\n",
        "tkt=Ticket(\"Rupali\", \"delhi\", \"pune\")\n",
        "print(tkt.generate_ticket())\n",
        "print(tkt.get_ticket_id())\n",
        "print(tkt.get_source())\n",
        "print(tkt.get_destination())\n",
        "\n",
        ""
      ],
      "metadata": {
        "colab": {
          "base_uri": "https://localhost:8080/"
        },
        "id": "NdCy3wCQ6a3c",
        "outputId": "b67b9339-3c2f-4b96-fbde-a1fd270cc93b"
      },
      "execution_count": 24,
      "outputs": [
        {
          "output_type": "stream",
          "name": "stdout",
          "text": [
            "DP01\n",
            "DP01\n",
            "delhi\n",
            "pune\n"
          ]
        }
      ]
    }
  ]
}