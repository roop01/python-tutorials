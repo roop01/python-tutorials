{
  "nbformat": 4,
  "nbformat_minor": 0,
  "metadata": {
    "colab": {
      "provenance": [],
      "authorship_tag": "ABX9TyMhggmN5mR1USgRfY47pGTb",
      "include_colab_link": true
    },
    "kernelspec": {
      "name": "python3",
      "display_name": "Python 3"
    },
    "language_info": {
      "name": "python"
    }
  },
  "cells": [
    {
      "cell_type": "markdown",
      "metadata": {
        "id": "view-in-github",
        "colab_type": "text"
      },
      "source": [
        "<a href=\"https://colab.research.google.com/github/roop01/python-tutorials/blob/main/object_oriented_programming/custom_exceptions.ipynb\" target=\"_parent\"><img src=\"https://colab.research.google.com/assets/colab-badge.svg\" alt=\"Open In Colab\"/></a>"
      ]
    },
    {
      "cell_type": "markdown",
      "source": [
        "\n",
        "# **Custom Exceptions**\n",
        "\n",
        "There are two types of exceptions:\n",
        "\n",
        "1. Built-in Exceptions which are readily available with Python. Example: ValueError, TypeError, NameError etc.\n",
        "\n",
        "2. User Defined Exceptions are the ones which are created by users based on the requirement.\n",
        "\n",
        "Consider that customers can have many credit cards which they can use for purchasing. Each customer's credit card has a number and balance.\n",
        "\n",
        "Consider a purchase_item() method which takes the price of the item and card number as an input. In case price is invalid or price is beyond the credit card balance, the control can be transferred to an except block by raising an exception. In Python, an exception can be raised by using the raise keyword."
      ],
      "metadata": {
        "id": "-mNLTFBzBgx8"
      }
    },
    {
      "cell_type": "code",
      "execution_count": 2,
      "metadata": {
        "colab": {
          "base_uri": "https://localhost:8080/"
        },
        "id": "Cw_9e7MuBIus",
        "outputId": "adc0c177-50c6-46d3-b745-cd55159fd0a4"
      },
      "outputs": [
        {
          "name": "stdout",
          "output_type": "stream",
          "text": [
            "Please enter a card number101\n",
            "Something went wrong. \n",
            "Please enter a card number101\n",
            "Something went wrong. \n",
            "Please enter a card number1002\n",
            "Something went wrong. \n",
            "Please enter a card number102\n"
          ]
        }
      ],
      "source": [
        "class CreditCard:\n",
        "    def __init__(self, card_no, balance):\n",
        "        self.card_no = card_no\n",
        "        self.balance = balance\n",
        "\n",
        "class Customer:\n",
        "    def __init__(self,cards):\n",
        "        self.cards=cards\n",
        "    def purchase_item(self, price, card_no):\n",
        "        if price < 0:\n",
        "            raise Exception()\n",
        "        if card_no not in self.cards:\n",
        "            raise Exception()\n",
        "        if price>self.cards[card_no].balance:\n",
        "            raise Exception()\n",
        "\n",
        "card1=CreditCard(101,800)\n",
        "card2=CreditCard(102,2000)\n",
        "cards={card1.card_no:card1,card2.card_no:card2}\n",
        "c=Customer(cards)\n",
        "while(True):\n",
        "    card_no=int(input(\"Please enter a card number\"))\n",
        "    try:\n",
        "        c.purchase_item(1200,card_no)\n",
        "        break\n",
        "    except Exception as e:\n",
        "        print(\"Something went wrong. \"+str(e))\n"
      ]
    },
    {
      "cell_type": "markdown",
      "source": [
        "How to treat these exceptions differently, if the price is invalid? Print a message and if the price is beyond the credit card balance, ask the customer to use another card.\n",
        "\n",
        "This can be done by raising exception with a message as shown. In this approach, the print statements are not mixed with the business logic. If exceptions are not used."
      ],
      "metadata": {
        "id": "96y6V5tBCdTa"
      }
    },
    {
      "cell_type": "code",
      "source": [
        "class CreditCard:\n",
        "    def __init__(self,card_no,balance):\n",
        "        self.card_no=card_no\n",
        "        self.balance=balance\n",
        "\n",
        "class Customer:\n",
        "    def __init__(self,cards):\n",
        "        self.cards=cards\n",
        "    def purchase_item(self, price, card_no):\n",
        "        if price < 0:\n",
        "            raise Exception(\"Invalid Price\")\n",
        "        if card_no not in self.cards:\n",
        "            raise Exception(\"Wrong card\")\n",
        "        if price>self.cards[card_no].balance:\n",
        "            raise Exception(\"Wrong card\")\n",
        "\n",
        "card1=CreditCard(101,800)\n",
        "card2=CreditCard(102,2000)\n",
        "cards={card1.card_no:card1,card2.card_no:card2}\n",
        "c=Customer(cards)\n",
        "while(True):\n",
        "    card_no=int(input(\"Please enter a card number\"))\n",
        "    try:\n",
        "        c.purchase_item(1200,card_no)\n",
        "        break\n",
        "    except Exception as e:\n",
        "        if str(e)==\"Invalid Price\":\n",
        "            print(\"Product price is wrong\")\n",
        "            break\n",
        "        if str(e)==\"Wrong card\":\n",
        "            continue\n",
        "\n"
      ],
      "metadata": {
        "colab": {
          "base_uri": "https://localhost:8080/"
        },
        "id": "wHOwuRmeCfD-",
        "outputId": "10db54d9-1421-48ee-9c4f-171b4c5543e8"
      },
      "execution_count": 7,
      "outputs": [
        {
          "name": "stdout",
          "output_type": "stream",
          "text": [
            "Please enter a card number101\n",
            "Please enter a card number101\n",
            "Please enter a card number111\n",
            "Please enter a card number102\n"
          ]
        }
      ]
    },
    {
      "cell_type": "markdown",
      "source": [
        "But even this approach of sending messages with exceptions is not ideal as we end up writing if/else conditions in our except block. Such logic is prone to errors.\n",
        "\n",
        "The solution is to create custom exceptions. Exception is an inbuilt class in Python also own exception can be created by inheriting the Exception class as shown:"
      ],
      "metadata": {
        "id": "2EGWepCeLEVG"
      }
    },
    {
      "cell_type": "code",
      "source": [
        "class InvalidPrice(Exception):\n",
        "    pass\n",
        "class WrongCard(Exception):\n",
        "    pass\n"
      ],
      "metadata": {
        "id": "aMiPILevLMPW"
      },
      "execution_count": null,
      "outputs": []
    },
    {
      "cell_type": "markdown",
      "source": [
        "In the above example, two exception classes are created which inherit the Exception class. Only classes of type Exception can be used along with the raise keyword."
      ],
      "metadata": {
        "id": "bLGrYm-hLJUJ"
      }
    },
    {
      "cell_type": "code",
      "source": [
        "class InvalidPrice(Exception):\n",
        "    pass\n",
        "class WrongCard(Exception):\n",
        "    pass\n",
        "\n",
        "class CreditCard:\n",
        "    def __init__(self, card_no, balance):\n",
        "        self.card_no=card_no\n",
        "        self.balance=balance\n",
        "\n",
        "class Customer:\n",
        "    def __init__(self,cards):\n",
        "        self.cards=cards\n",
        "    def purchase_item(self,price,card_no):\n",
        "        if price < 0:\n",
        "            raise InvalidPrice(\"The price is wrong\")\n",
        "        if card_no not in self.cards:\n",
        "            raise WrongCard(\"Card is invalid\")\n",
        "        if price>self.cards[card_no].balance:\n",
        "            raise WrongCard(\"Card has insufficient balance\")\n",
        "\n",
        "card1=CreditCard(101,800)\n",
        "card2=CreditCard(102,2000)\n",
        "\n",
        "cards={card1.card_no:card1,card2.card_no:card2}\n",
        "\n",
        "c=Customer(cards)\n",
        "\n",
        "while(True):\n",
        "    card_no=int(input(\"Please enter a card number\"))\n",
        "    try:\n",
        "        c.purchase_item(1200,card_no)\n",
        "        break\n",
        "    except InvalidPrice as e:\n",
        "        print(str(e))\n",
        "        break\n",
        "    except WrongCard as e:\n",
        "        print(str(e))\n",
        "        continue\n",
        "    except Exception as e:\n",
        "        print(\"Something went wrong. \"+str(e))\n"
      ],
      "metadata": {
        "colab": {
          "base_uri": "https://localhost:8080/"
        },
        "id": "wErDtx5OLUII",
        "outputId": "bd9f898b-90a4-4698-e1f5-81d72585cb65"
      },
      "execution_count": 8,
      "outputs": [
        {
          "name": "stdout",
          "output_type": "stream",
          "text": [
            "Please enter a card number101\n",
            "Card has insufficient balance\n",
            "Please enter a card number102\n"
          ]
        }
      ]
    },
    {
      "cell_type": "markdown",
      "source": [
        "The custom exception class can override the default constructor provided by the Exception class as shown below:"
      ],
      "metadata": {
        "id": "_f7KJVCuLsw5"
      }
    },
    {
      "cell_type": "code",
      "source": [
        "class InvalidUsername(Exception):\n",
        "    def __init__(self,username):\n",
        "        msg='The given username '+username+' is invalid'\n",
        "        super().__init__(msg)\n",
        "try:\n",
        "    username='1abc'\n",
        "    if not username[0].isalpha():\n",
        "        raise InvalidUsername(username)\n",
        "except InvalidUsername as e:\n",
        "    print(e)\n"
      ],
      "metadata": {
        "colab": {
          "base_uri": "https://localhost:8080/"
        },
        "id": "Hhf3aegRLvf7",
        "outputId": "e7eb4713-3d4e-46b6-fba2-e7d368d8dcd7"
      },
      "execution_count": 9,
      "outputs": [
        {
          "output_type": "stream",
          "name": "stdout",
          "text": [
            "The given username 1abc is invalid\n"
          ]
        }
      ]
    },
    {
      "cell_type": "markdown",
      "source": [
        "The except block of Exception is executed, even though InvalidPrice is raised. This is because a parent class except block will be able to handle all the child class except blocks also. Since Exception is parent class to InvalidPrice, it can handle the exception of type InvalidPrice.\n",
        "\n",
        "​​​​​​​Therefore, the parent class except blocks must always come after the child class except block."
      ],
      "metadata": {
        "id": "IPVKNxIQMEef"
      }
    },
    {
      "cell_type": "code",
      "source": [
        "class InvalidPrice(Exception):\n",
        "    pass\n",
        "class WrongCard(Exception):\n",
        "    pass\n",
        "try:\n",
        "    raise InvalidPrice()\n",
        "except InvalidPrice:\n",
        "    print(\"InvalidPrice\")\n",
        "except WrongCard:\n",
        "    print(\"WrongCard\")\n",
        "except Exception as e:\n",
        "    print(\"Exception\")\n"
      ],
      "metadata": {
        "colab": {
          "base_uri": "https://localhost:8080/"
        },
        "id": "f3fp_jDiMeAQ",
        "outputId": "7a583b79-e042-4293-98f6-d0c05c3f3b0a"
      },
      "execution_count": 10,
      "outputs": [
        {
          "output_type": "stream",
          "name": "stdout",
          "text": [
            "InvalidPrice\n"
          ]
        }
      ]
    },
    {
      "cell_type": "markdown",
      "source": [
        "# **Exercise**\n",
        "\n",
        "**AutoWorld**\n"
      ],
      "metadata": {
        "id": "XoKJQGN9MnbW"
      }
    },
    {
      "cell_type": "code",
      "source": [
        "\n",
        "class InvalidMechanicIdException(Exception):\n",
        "    pass\n",
        "class InvalidMechanicSpecializationException(Exception):\n",
        "    pass\n",
        "\n",
        "class Mechanic:\n",
        "    def __init__(self, mechanic_id, specialization, vehicle_count):\n",
        "        self.__mechanic_id = mechanic_id\n",
        "        self.__specialization = specialization\n",
        "        self.__vehicle_count = vehicle_count\n",
        "\n",
        "    def set_mechanic_id(self, mechanic_id):\n",
        "        self.__mechanic_id = mechanic_id\n",
        "\n",
        "    def get_mechanic_id(self):\n",
        "        return self.__mechanic_id\n",
        "\n",
        "    def set_specialization(self, specialization):\n",
        "        self.__specialization = specialization\n",
        "\n",
        "    def get_specialization(self):\n",
        "        return self.__specialization\n",
        "\n",
        "    def set_vehicle_count(self, vehicle_count):\n",
        "        self.__vehicle_count = vehicle_count\n",
        "\n",
        "    def get_vehicle_count(self):\n",
        "        return self.__vehicle_count\n",
        "\n",
        "class vehicleService():\n",
        "    def __init__(self, mechanic_list):\n",
        "        self.__mechanic_list = mechanic_list\n",
        "\n",
        "    def assign_vehicle_for_service(self, mechanic_id, vehicle_type):\n",
        "        for mechanic in self.__mechanic_list:\n",
        "            print(f\"Mechanic: {mechanic.get_mechanic_id()}, Specialization: {mechanic.get_specialization()}, Vehicle: {mechanic.get_vehicle_count()}\")\n",
        "            if mechanic.get_mechanic_id() == mechanic_id:\n",
        "                if mechanic.get_specialization() == vehicle_type:\n",
        "                    mechanic.set_vehicle_count(mechanic.get_vehicle_count() + 1)\n",
        "                    print(f\"Mechanic: {mechanic.get_mechanic_id()}, Specialization: {mechanic.get_specialization()}, Vehicle: {mechanic.get_vehicle_count()}\")\n",
        "                    break\n",
        "                else:\n",
        "                    raise InvalidMechanicSpecializationException\n",
        "            else:\n",
        "                raise InvalidMechanicIdException\n",
        "\n",
        "\n",
        "m1=Mechanic(101,'TW',1)\n",
        "m2=Mechanic(102,'FW',0)\n",
        "m3=Mechanic(103,'TW',4)\n",
        "m4=Mechanic(104,'FW',2)\n",
        "m5=Mechanic(105,'FW',1)\n",
        "\n",
        "mechanic_list=[m1,m2,m3,m4,m5]\n",
        "try:\n",
        "    v1=vehicleService(mechanic_list)\n",
        "    #v1.assign_vehicle_for_service(101,'TW')\n",
        "    #v1.assign_vehicle_for_service(101,'FW')\n",
        "    v1.assign_vehicle_for_service(106,'FW')\n",
        "except InvalidMechanicIdException:\n",
        "    print(\"Invalid Mechanic ID\")\n",
        "except InvalidMechanicSpecializationException:\n",
        "    print(\"Invalid Mechanic Specialization\")\n",
        "except Exception as e:\n",
        "  print(\"Something went wrong:\",str(e))\n"
      ],
      "metadata": {
        "colab": {
          "base_uri": "https://localhost:8080/"
        },
        "id": "G52y6gcTNo0t",
        "outputId": "b40b3db2-b22a-4a00-f669-918403f5d59b"
      },
      "execution_count": 23,
      "outputs": [
        {
          "output_type": "stream",
          "name": "stdout",
          "text": [
            "Mechanic: 101, Specialization: TW, Vehicle: 1\n",
            "Invalid Mechanic ID\n"
          ]
        }
      ]
    },
    {
      "cell_type": "code",
      "source": [
        "class InvalidAccountException(Exception):\n",
        "    pass\n",
        "class Account:\n",
        "    account_list=[1001,1002,1003,1004]\n",
        "    def validate_account(self,account_id):\n",
        "        status=0\n",
        "        for acct_id in self.account_list:\n",
        "            if(account_id==acct_id):\n",
        "                status=1\n",
        "                break\n",
        "        if(status!=0):\n",
        "            return True\n",
        "        else:\n",
        "            raise InvalidAccountException\n",
        "try:\n",
        "    account1=Account()\n",
        "    account1.validate_account(1006)\n",
        "    print(\"Valid account number\")\n",
        "except InvalidAccountException:\n",
        "    print(\"Invalid account number\")"
      ],
      "metadata": {
        "colab": {
          "base_uri": "https://localhost:8080/"
        },
        "id": "P0bmhZ6gXvNI",
        "outputId": "f2236276-eaaa-468f-bf36-a7cf4c4618d4"
      },
      "execution_count": 24,
      "outputs": [
        {
          "output_type": "stream",
          "name": "stdout",
          "text": [
            "Invalid account number\n"
          ]
        }
      ]
    },
    {
      "cell_type": "code",
      "source": [
        "class NameLengthException(Exception):\n",
        "    pass\n",
        "class EmployeeIdException(Exception):\n",
        "    pass\n",
        "class Employee:\n",
        "    __trials=0\n",
        "    def __init__(self,emp_id,emp_name):\n",
        "        self.__emp_name=emp_name\n",
        "        self.__emp_id=emp_id\n",
        "    def validate_name(self):\n",
        "        try:\n",
        "            if(len(self.__emp_name) < 4):\n",
        "                Employee.__trials=Employee.__trials+1\n",
        "                raise NameLengthException\n",
        "            if( not(self.__emp_id.startswith('E'))):\n",
        "                raise EmployeeIdException\n",
        "        except NameLengthException:\n",
        "            Employee.__trials=Employee.__trials+1\n",
        "            print(Employee.__trials)\n",
        "        except EmployeeIdException:\n",
        "            Employee.__trials=Employee.__trials+1\n",
        "            print(Employee.__trials)\n",
        "emp1=Employee('E1001','Tom')\n",
        "emp1.validate_name()\n",
        "emp2=Employee('1001','Tomy')\n",
        "emp2.validate_name()"
      ],
      "metadata": {
        "colab": {
          "base_uri": "https://localhost:8080/"
        },
        "id": "cugiTf8oXzLi",
        "outputId": "5f2d286f-aa36-45f9-e27e-7d6388dd8e54"
      },
      "execution_count": 26,
      "outputs": [
        {
          "output_type": "stream",
          "name": "stdout",
          "text": [
            "2\n",
            "3\n"
          ]
        }
      ]
    },
    {
      "cell_type": "code",
      "source": [
        "class InvalidEmployeeException(Exception):\n",
        "    pass\n",
        "\n",
        "class Project:\n",
        "    def __init__(self,employee_list):\n",
        "        self.__employee_list=employee_list\n",
        "\n",
        "    def validate_employee(self,employee_id):\n",
        "        flag=False\n",
        "        for key in self.__employee_list:\n",
        "            if(key==employee_id):\n",
        "                flag=True\n",
        "        if(flag==False):\n",
        "            raise InvalidEmployeeException\n",
        "            print(\"1\")\n",
        "        return True\n",
        "\n",
        "project1=Project([1001,1002,1003])\n",
        "try:\n",
        "    print(project1.validate_employee(1005))\n",
        "except Exception:\n",
        "    print(\"2\")\n",
        "except InvalidEmployeeException:\n",
        "    print(\"3\")"
      ],
      "metadata": {
        "colab": {
          "base_uri": "https://localhost:8080/"
        },
        "id": "sVJ5-AqjYutn",
        "outputId": "c9c20c1a-a49a-4c34-8f66-00aa3458b0ea"
      },
      "execution_count": 27,
      "outputs": [
        {
          "output_type": "stream",
          "name": "stdout",
          "text": [
            "2\n"
          ]
        }
      ]
    }
  ]
}