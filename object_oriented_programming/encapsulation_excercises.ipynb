{
  "cells": [
    {
      "cell_type": "markdown",
      "metadata": {
        "id": "view-in-github",
        "colab_type": "text"
      },
      "source": [
        "<a href=\"https://colab.research.google.com/github/roop01/python-tutorials/blob/main/object_oriented_programming/encapsulation_excercises.ipynb\" target=\"_parent\"><img src=\"https://colab.research.google.com/assets/colab-badge.svg\" alt=\"Open In Colab\"/></a>"
      ]
    },
    {
      "cell_type": "markdown",
      "metadata": {
        "id": "mBDhOz7S1Kdh"
      },
      "source": [
        "# **Encapsulation Exercise**\n",
        "\n",
        "**Excercise 1**\n",
        "\n",
        "In the Athlete class given below,\n",
        "\n",
        "1. Make all the attributes private\n",
        "\n",
        "2. Add the necessary accessor and mutator methods\n",
        "\n",
        "3. Represent Maria, the runner and make her run.\n",
        "\n",
        "      class Athlete:\n",
        "          def __init__(self,name,gender):\n",
        "              self.name=name\n",
        "              self.gender=gender\n",
        "          def running(self):\n",
        "              if(self.gender==\"girl\"):\n",
        "                  print(\"150mtr running\")\n",
        "              else:\n",
        "                  print(\"200mtr running\")\n"
      ]
    },
    {
      "cell_type": "code",
      "execution_count": null,
      "metadata": {
        "colab": {
          "base_uri": "https://localhost:8080/"
        },
        "id": "uoBfg69B0r_O",
        "outputId": "f8667984-6ab7-42c2-c24e-325fb887a6ca"
      },
      "outputs": [
        {
          "name": "stdout",
          "output_type": "stream",
          "text": [
            "150mtr running\n"
          ]
        }
      ],
      "source": [
        "class Athlete:\n",
        "    def __init__(self,name,gender):\n",
        "        self.__name=name\n",
        "        self.__gender=gender\n",
        "    def running(self):\n",
        "        if(self.__gender==\"girl\"):\n",
        "            print(\"150mtr running\")\n",
        "        else:\n",
        "            print(\"200mtr running\")\n",
        "    def set_name(self,name):\n",
        "        self.__name=name\n",
        "    def get_name(self):\n",
        "        return self.__name\n",
        "    def set_gender(self,gender):\n",
        "        self.__gender=gender\n",
        "    def get_gender(self):\n",
        "        return self.__gender\n",
        "\n",
        "maria=Athlete(\"Maria\",\"girl\")\n",
        "maria.running()\n"
      ]
    },
    {
      "cell_type": "markdown",
      "metadata": {
        "id": "9GQzmKqK54wq"
      },
      "source": [
        "**Excercise 2**\n",
        "\n",
        "A university wants to automate their admission process. Students are admitted based on marks scored in a qualifying exam.\n",
        "A student is identified by student id, age and marks in qualifying exam. Data are valid, if:\n",
        "\n",
        "    a. Age is greater than 20\n",
        "    b. Marks is between 0 and 100 (both inclusive)\n",
        "\n",
        "A student qualifies for admission, if\n",
        "\n",
        "    a. Age and marks are valid and\n",
        "    b. Marks is 65 or more\n",
        "\n",
        "Write a python program to represent the students seeking admission in the university.\n",
        "\n",
        "1. All attributes are private.\n",
        "2. Create and initialize all instance variables to None.\n",
        "3. Create public methods __init__(), validate_age(), validate_marks(). Validate data. Return True or False.\n",
        "4. check_qualification()\n",
        "\n",
        "    validate age and marks\n",
        "\n",
        "    if valid check if marks is > 65, return true or false\n",
        "5. Create setter and getter methods\n",
        "\n"
      ]
    },
    {
      "cell_type": "code",
      "execution_count": 14,
      "metadata": {
        "id": "CoM12CtH6UXQ",
        "colab": {
          "base_uri": "https://localhost:8080/"
        },
        "outputId": "d3b8a123-7f08-42dc-d815-975f42a184fa"
      },
      "outputs": [
        {
          "output_type": "stream",
          "name": "stdout",
          "text": [
            "Congratulations! Student id: 123 is qualified for admission.\n"
          ]
        }
      ],
      "source": [
        "class Student:\n",
        "    def __init__(self):\n",
        "      self.__student_id=None\n",
        "      self.__marks=None\n",
        "      self.__age=None\n",
        "\n",
        "    def set_id(self,id):\n",
        "        self.__student_id = id\n",
        "    def get_id(self):\n",
        "        return self.__student_id\n",
        "\n",
        "    def set_marks(self,marks):\n",
        "        self.__marks = marks\n",
        "    def get_marks(self):\n",
        "        return self.__marks\n",
        "\n",
        "    def set_age(self,age):\n",
        "        self.__age = age\n",
        "    def get_age(self):\n",
        "        return self.__age\n",
        "\n",
        "    def validate_age(self):\n",
        "        if self.__age > 20:\n",
        "            return True\n",
        "        else:\n",
        "          return False\n",
        "\n",
        "    def validate_marks(self):\n",
        "        if(self.__marks>=0 and self.__marks<=100):\n",
        "            return True\n",
        "        else:\n",
        "            return False\n",
        "\n",
        "    def check_qualification(self):\n",
        "          if self.validate_age() & self.validate_marks() & (self.__marks>=65):\n",
        "            #print(f\"Congratulations! Student id: {self.__student_id} is qualified for admission.\")\n",
        "            return True\n",
        "          else:\n",
        "            #print(f\"Sorry! Student id: {self.__student_id} is not qualified for admission.\")\n",
        "            return False\n",
        "\n",
        "    def display_selection(self):\n",
        "        if self.check_qualification():\n",
        "            print(f\"Congratulations! Student id: {self.__student_id} is qualified for admission.\")\n",
        "        else:\n",
        "            print(f\"Sorry! Student id: {self.__student_id} is not qualified for admission.\")\n",
        "\n",
        "student1=Student()\n",
        "student1.set_id(123)\n",
        "student1.set_marks(90)\n",
        "student1.set_age(21)\n",
        "student1.check_qualification()\n",
        "student1.display_selection()\n"
      ]
    },
    {
      "cell_type": "markdown",
      "source": [
        "**Excercise 3:**\n",
        "\n",
        "1. Continuing with the previous scenario, a student eligible for admission has to choose a course and pay the fees for it. If they have scored more than 85 marks in qualifying exam, they get 25% discount on fees.\n",
        "\n",
        "    Valid course ids and fees are given below:\n",
        "\n",
        "    course_id= 1001, Fees = 25575\n",
        "\n",
        "    course_id= 1002, Fees = 15500\n",
        "\n",
        "2. Extend the program written in the previous assignment to include the above requirement.\n",
        "\n",
        "Business rules:\n",
        "\n",
        "    Attributes (private): course_id, fees\n",
        "    Methods:\n",
        "\n",
        "        1. __init__()\n",
        "        2. choose_course(course_id)\n",
        "        3. If course id is valid set attributes\n",
        "        4. if marks is more than 85 apply discount of 25%\n",
        "        5. include getter method\n"
      ],
      "metadata": {
        "id": "b9kPbYhuTLN7"
      }
    },
    {
      "cell_type": "code",
      "source": [
        "fees_structure={1001:25575,1002:15500}\n",
        "class Student:\n",
        "    def __init__(self):\n",
        "      self.__student_id=None\n",
        "      self.__marks=None\n",
        "      self.__age=None\n",
        "      self.__course_id=None\n",
        "      self.__fees=None\n",
        "\n",
        "    def set_id(self,id):\n",
        "        self.__student_id = id\n",
        "    def get_id(self):\n",
        "        return self.__student_id\n",
        "\n",
        "    def set_marks(self,marks):\n",
        "        self.__marks = marks\n",
        "    def get_marks(self):\n",
        "        return self.__marks\n",
        "\n",
        "    def set_age(self,age):\n",
        "        self.__age = age\n",
        "    def get_age(self):\n",
        "        return self.__age\n",
        "\n",
        "    def get_course_id(self):\n",
        "        return self.__course_id\n",
        "\n",
        "    def get_fees(self):\n",
        "        return self.__fees\n",
        "\n",
        "    def validate_age(self):\n",
        "        if self.__age > 20:\n",
        "            return True\n",
        "        else:\n",
        "          return False\n",
        "\n",
        "    def validate_marks(self):\n",
        "        if(self.__marks>=0 and self.__marks<=100):\n",
        "            return True\n",
        "        else:\n",
        "            return False\n",
        "\n",
        "    def check_qualification(self):\n",
        "          if self.validate_age() & self.validate_marks() & (self.__marks>=65):\n",
        "            return True\n",
        "          else:\n",
        "            return False\n",
        "\n",
        "    def choose_course(self,course_id):\n",
        "      if self.check_qualification():\n",
        "        print(f\"Congratulations! Student id: {self.__student_id} is qualified for admission.\")\n",
        "        if course_id in fees_structure.keys():\n",
        "          self.__course_id = course_id\n",
        "          if self.__marks > 85:\n",
        "            self.__fees = fees_structure[course_id]*0.75\n",
        "            print(f\"Course id: {self.__course_id} is choosen. Please pay the fees: {self.__fees}\")\n",
        "          else:\n",
        "            self.__fees = fees_structure[course_id]\n",
        "            print(f\"Course id: {self.__course_id} is choosen. Please pay the fees: {self.__fees}\")\n",
        "        else:\n",
        "          print(\"Invalid course id. Please enter a valid course id.\")\n",
        "      else:\n",
        "        print(f\"Sorry! Student id: {self.__student_id} is not qualified for admission.\")\n",
        "\n",
        "student1=Student()\n",
        "student1.set_id(123)\n",
        "student1.set_marks(70)\n",
        "student1.set_age(21)\n",
        "student1.check_qualification()\n",
        "student1.choose_course(1001)\n",
        "\n",
        "student2=Student()\n",
        "student2.set_id(111)\n",
        "student2.set_marks(90)\n",
        "student2.set_age(23)\n",
        "student2.check_qualification()\n",
        "student2.choose_course(1002)\n",
        "\n",
        "student1=Student()\n",
        "student1.set_id(333)\n",
        "student1.set_marks(60)\n",
        "student1.set_age(21)\n",
        "student1.check_qualification()\n",
        "student1.choose_course(1001)\n",
        ""
      ],
      "metadata": {
        "id": "rdaR13vhUzbh",
        "colab": {
          "base_uri": "https://localhost:8080/"
        },
        "outputId": "d845249c-eb56-4c76-d41f-be6d45635ad3"
      },
      "execution_count": 28,
      "outputs": [
        {
          "output_type": "stream",
          "name": "stdout",
          "text": [
            "Congratulations! Student id: 123 is qualified for admission.\n",
            "Course id: 1001 is choosen. Please pay the fees: 25575\n",
            "Congratulations! Student id: 111 is qualified for admission.\n",
            "Course id: 1002 is choosen. Please pay the fees: 11625.0\n",
            "Sorry! Student id: 333 is not qualified for admission.\n"
          ]
        }
      ]
    },
    {
      "cell_type": "markdown",
      "source": [
        "**Excercise 4**\n",
        "\n",
        "Jennifer is a python developer who has written the below code:\n",
        "\n",
        "    class Dam:\n",
        "        def __init__(self,name, length):\n",
        "            self.name=name\n",
        "            self.__length=length\n",
        "        def get_length(self):\n",
        "            return self.__length\n",
        "\n",
        "    dam1=Dam(\"ABC dam\",3.5 )\n",
        "    print(\"Dam name:\",dam1.__name)\n",
        "    print(\"Dam Length\", dam1.__length)\n",
        "\n",
        "She desires the output to be:\n",
        "\n",
        "Dam name: ABC dam\n",
        "Dam length: 3.5\n",
        "\n",
        "but, she is unable to proceed due to an error. Which of the following steps should she follow to get the desired output? YOU MUST CHOOSE TWO OPTIONS."
      ],
      "metadata": {
        "id": "hPzlnc7Ke8vF"
      }
    },
    {
      "cell_type": "code",
      "source": [
        "class Dam:\n",
        "    def __init__(self,name, length):\n",
        "        self.name=name\n",
        "        self.__length=length\n",
        "    def get_length(self):\n",
        "        return self.__length\n",
        "\n",
        "dam1=Dam(\"ABC dam\",3.5 )\n",
        "print(\"Dam name:\",dam1.name)\n",
        "print(\"Dam Length\", dam1.get_length())"
      ],
      "metadata": {
        "colab": {
          "base_uri": "https://localhost:8080/"
        },
        "id": "naE6c0VvfIJb",
        "outputId": "2158050a-db66-4b69-a2fa-8818ac0aa2d6"
      },
      "execution_count": 22,
      "outputs": [
        {
          "output_type": "stream",
          "name": "stdout",
          "text": [
            "Dam name: ABC dam\n",
            "Dam Length 3.5\n"
          ]
        }
      ]
    }
  ],
  "metadata": {
    "colab": {
      "provenance": [],
      "authorship_tag": "ABX9TyO2QMKEBlGwkg/Pw8+9kYyF",
      "include_colab_link": true
    },
    "kernelspec": {
      "display_name": "Python 3",
      "name": "python3"
    },
    "language_info": {
      "name": "python"
    }
  },
  "nbformat": 4,
  "nbformat_minor": 0
}