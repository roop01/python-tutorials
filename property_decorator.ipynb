{
  "nbformat": 4,
  "nbformat_minor": 0,
  "metadata": {
    "colab": {
      "provenance": [],
      "authorship_tag": "ABX9TyOnnGSY81NPpwyB9YR29uXI",
      "include_colab_link": true
    },
    "kernelspec": {
      "name": "python3",
      "display_name": "Python 3"
    },
    "language_info": {
      "name": "python"
    }
  },
  "cells": [
    {
      "cell_type": "markdown",
      "metadata": {
        "id": "view-in-github",
        "colab_type": "text"
      },
      "source": [
        "<a href=\"https://colab.research.google.com/github/roop01/python-tutorials/blob/main/property_decorator.ipynb\" target=\"_parent\"><img src=\"https://colab.research.google.com/assets/colab-badge.svg\" alt=\"Open In Colab\"/></a>"
      ]
    },
    {
      "cell_type": "markdown",
      "source": [
        "# **The @property Decorator**\n",
        "\n",
        "Python’s property() is the Pythonic way to avoid formal getter and setter methods in your code. This function allows you to turn class attributes into properties or managed attributes. Since property() is a built-in function, you can use it without importing anything.\n"
      ],
      "metadata": {
        "id": "unqqrLZI8zR8"
      }
    },
    {
      "cell_type": "markdown",
      "source": [
        "The getter and setter methods provide an interface for accessing an instance attribute.\n"
      ],
      "metadata": {
        "id": "zosAl6vCMD2-"
      }
    },
    {
      "cell_type": "code",
      "execution_count": 26,
      "metadata": {
        "colab": {
          "base_uri": "https://localhost:8080/"
        },
        "id": "_UL30Zum0IB-",
        "outputId": "0ac8b952-1be9-4684-cbb5-08c8723fc2a9"
      },
      "outputs": [
        {
          "output_type": "stream",
          "name": "stdout",
          "text": [
            "18\n",
            "18\n",
            "20\n"
          ]
        }
      ],
      "source": [
        "class Person:\n",
        "    def __init__(self, name, age):\n",
        "        self._name = name\n",
        "        self._age = age\n",
        "\n",
        "    def set_age(self, age):\n",
        "        if age <= 0:\n",
        "            raise ValueError('The age must be positive')\n",
        "        self._age = age\n",
        "\n",
        "    def get_age(self):\n",
        "      return self._age\n",
        "\n",
        "john = Person('John', 18)\n",
        "print(john._age)\n",
        "print(john.get_age())\n",
        "john.set_age(20)\n",
        "print(john.get_age())"
      ]
    },
    {
      "cell_type": "markdown",
      "source": [
        "Above code works just fine. But it has a backward compatibility issue.\n",
        "\n",
        "Suppose you released the Person class for a while and other developers have been already using it. And now you add the getter and setter, all the code that uses the Person won’t work anymore.\n",
        "\n",
        "To define a getter and setter method while achieving backward compatibility, you can use the property() class."
      ],
      "metadata": {
        "id": "6VVeRnDWMYdO"
      }
    },
    {
      "cell_type": "markdown",
      "source": [
        "It’s common to refer to property() as a built-in function. However, property is a class designed to work as a function rather than as a regular class. The property class returns a property object. Properties are class attributes that manage instance attributes.\n",
        "\n",
        "Class property(fget=None, fset=None, fdel=None, doc=None)\n",
        "\n",
        "By using the property() class, we can add a property to a class while maintaining backward compatibility. In practice, you will define the attributes first. Later, you can add the property to the class if needed. You can use property() either as a function or a decorator to build your properties. You can think of a property as a collection of methods bundled together.\n",
        "\n",
        "Properties are also overriding descriptors."
      ],
      "metadata": {
        "id": "X3wLT5tOL45e"
      }
    },
    {
      "cell_type": "code",
      "source": [
        "class Person:\n",
        "    def __init__(self, name, age):\n",
        "        self.name = name\n",
        "        self.age = age\n",
        "\n",
        "    def set_age(self, age):\n",
        "        if age <= 0:\n",
        "            raise ValueError('The age must be positive')\n",
        "        self._age = age\n",
        "\n",
        "    def get_age(self):\n",
        "        return self._age\n",
        "\n",
        "    age = property(fget=get_age, fset=set_age)\n",
        "\n",
        "#The following creates an instance of the Person class and\n",
        "#gets the value of the age property via the instance:\n",
        "john = Person('John', 18)\n",
        "print(john.age)\n"
      ],
      "metadata": {
        "colab": {
          "base_uri": "https://localhost:8080/"
        },
        "id": "MJ8QRczLLd3b",
        "outputId": "f1f48d51-d713-49f9-c965-741e82ff47f8"
      },
      "execution_count": 27,
      "outputs": [
        {
          "output_type": "stream",
          "name": "stdout",
          "text": [
            "18\n"
          ]
        }
      ]
    },
    {
      "cell_type": "code",
      "source": [
        "print(Person.age)\n",
        "print(john.__dict__)\n",
        "\n",
        "john.age = 19\n",
        "print(Person.__dict__)\n"
      ],
      "metadata": {
        "colab": {
          "base_uri": "https://localhost:8080/"
        },
        "id": "w05xP6PzEXct",
        "outputId": "e20ee497-1b2d-4e8a-97fe-059b84ebda0a"
      },
      "execution_count": 28,
      "outputs": [
        {
          "output_type": "stream",
          "name": "stdout",
          "text": [
            "<property object at 0x7ce284342cf0>\n",
            "{'name': 'John', '_age': 18}\n",
            "{'__module__': '__main__', '__init__': <function Person.__init__ at 0x7ce2844ea560>, 'set_age': <function Person.set_age at 0x7ce2844eb5b0>, 'get_age': <function Person.get_age at 0x7ce2844eb9a0>, 'age': <property object at 0x7ce284342cf0>, '__dict__': <attribute '__dict__' of 'Person' objects>, '__weakref__': <attribute '__weakref__' of 'Person' objects>, '__doc__': None}\n"
          ]
        }
      ]
    },
    {
      "cell_type": "markdown",
      "source": [
        "Here’s a recap of some important points to remember when you’re creating properties with the decorator approach:\n",
        "\n",
        "1. The @property decorator must decorate the getter method.\n",
        "2. The docstring must go in the getter method.\n",
        "3. The setter and deleter methods must be decorated with the name of the getter method plus .setter and .deleter, respectively."
      ],
      "metadata": {
        "id": "uP9XlABVJg0C"
      }
    },
    {
      "cell_type": "code",
      "source": [
        "class Person:\n",
        "    def __init__(self, name, age):\n",
        "        self.name = name\n",
        "        self.age = age\n",
        "\n",
        "    @property\n",
        "    def age(self):\n",
        "        return self._age\n",
        "\n",
        "    @age.setter\n",
        "    def age(self, value):\n",
        "        if value <= 0:\n",
        "            raise ValueError('The age must be positive')\n",
        "        self._age = value\n",
        "\n",
        "    @property\n",
        "    def name(self):\n",
        "        return self._name\n",
        "\n",
        "    @name.setter\n",
        "    def name(self, value):\n",
        "        if value.strip() == '':\n",
        "            raise ValueError('The name cannot be empty')\n",
        "        self._name = value\n",
        "\n",
        "rupali = Person(\"Rupali\", 28)\n",
        "print(rupali.name)\n",
        "print(rupali.age)\n",
        "rupali.name = \"Neha\"\n",
        "print(rupali.name)"
      ],
      "metadata": {
        "colab": {
          "base_uri": "https://localhost:8080/"
        },
        "id": "kjl5hgFYJPEY",
        "outputId": "9d25fe62-7668-4679-c0de-6073f6b5b2d9"
      },
      "execution_count": 29,
      "outputs": [
        {
          "output_type": "stream",
          "name": "stdout",
          "text": [
            "Rupali\n",
            "28\n",
            "Neha\n"
          ]
        }
      ]
    },
    {
      "cell_type": "markdown",
      "source": [
        "One of the most common use cases of property() is building managed attributes that validate the input data before storing or even accepting it as a secure input. Data validation is a common requirement in code that takes input from users or other information sources that you consider untrusted."
      ],
      "metadata": {
        "id": "jzS8JLMFO7kp"
      }
    }
  ]
}